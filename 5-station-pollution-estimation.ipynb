{
 "cells": [
  {
   "cell_type": "markdown",
   "metadata": {},
   "source": [
    "# Station Air Pollution Estimation\n",
    "\n",
    "For each station, find a good model to predict the individual pollutants."
   ]
  },
  {
   "cell_type": "code",
   "execution_count": 1,
   "metadata": {},
   "outputs": [],
   "source": [
    "%load_ext autoreload\n",
    "%autoreload 2\n",
    "\n",
    "import pandas as pd\n",
    "import numpy as np\n",
    "import os\n",
    "import matplotlib.pyplot as plt\n",
    "from datetime import datetime, timedelta\n",
    "import seaborn as sns\n",
    "\n",
    "\n",
    "from utils import *\n",
    "\n",
    "datasets_folder = './datasets'\n",
    "verbosity=0"
   ]
  },
  {
   "cell_type": "markdown",
   "metadata": {},
   "source": [
    "## Data Import"
   ]
  },
  {
   "cell_type": "code",
   "execution_count": 2,
   "metadata": {},
   "outputs": [],
   "source": [
    "giardini_margherita_pollution_dict, san_felice_pollution_dict, chiarini_pollution_dict = read_and_preprocess_dataset(datasets_folder, 'pollution', v=verbosity)\n",
    "giardini_margherita_traffic_df, san_felice_traffic_df, chiarini_traffic_df = read_and_preprocess_dataset(datasets_folder, 'traffic', v=verbosity)\n",
    "weather_df = read_and_preprocess_dataset(datasets_folder, 'weather', v=verbosity)"
   ]
  },
  {
   "cell_type": "code",
   "execution_count": 6,
   "metadata": {},
   "outputs": [],
   "source": [
    "giardini_margherita_data = prepare_station_data_for_training(giardini_margherita_pollution_dict, giardini_margherita_traffic_df, weather_df)\n",
    "san_felice_data = prepare_station_data_for_training(san_felice_pollution_dict, san_felice_traffic_df, weather_df)\n",
    "chiarini_data = prepare_station_data_for_training(chiarini_pollution_dict, chiarini_traffic_df, weather_df)"
   ]
  },
  {
   "cell_type": "markdown",
   "metadata": {},
   "source": [
    "## Models"
   ]
  },
  {
   "cell_type": "markdown",
   "metadata": {},
   "source": [
    "For each station we develop a model to describe the air pollution. Given that each station collects different data, and sometimes with different intensities, we decided to treat each station indepentendtely.\n",
    "\n",
    "Air polution follows this criteria:\n",
    "- for each pollutant a certain limit is defined (like 25 µg/m³ for PM2.5)\n",
    "- for each pollutant $ AQI = \\frac{Concentration}{Limit} \\times 100 $\n",
    "- take the maximum value across all the IQAs \n",
    "\n",
    "The overage value is then matched on the following table:\n",
    "\n",
    "| **AQI**         | **CONDITIONS** |\n",
    "| --------------- | -------------- |\n",
    "| <30             | EXCELLENT      |\n",
    "| From 34 to 66   | GOOD           |\n",
    "| From 67 to 99   | FAIR           |\n",
    "| From 99 to 150  | POOR           |\n",
    "| >150            | VERY POOR      |\n",
    "\n",
    "We are going to model each agent to predict its hour value and then use all of the predictions to compute the overall Air Quality Index and compare it with the one got from the readings."
   ]
  },
  {
   "cell_type": "code",
   "execution_count": null,
   "metadata": {},
   "outputs": [],
   "source": [
    "pollutant_limits = {\n",
    "    'PM2.5': 25,    # µg/m³\n",
    "    'PM10': 50,     # µg/m³\n",
    "    'CO': 10,       # mg/m³\n",
    "    'O3': 180,      # µg/m³\n",
    "    'NO': None,     # µg/m³\n",
    "    'NO2': 200,     # µg/m³\n",
    "    'NOX': None,    # µg/m³\n",
    "    'C6H6': None    # µg/m³\n",
    "}"
   ]
  },
  {
   "cell_type": "markdown",
   "metadata": {},
   "source": [
    "### Giardini Margherita"
   ]
  },
  {
   "cell_type": "markdown",
   "metadata": {},
   "source": []
  },
  {
   "cell_type": "code",
   "execution_count": null,
   "metadata": {},
   "outputs": [],
   "source": []
  }
 ],
 "metadata": {
  "kernelspec": {
   "display_name": "Python 3",
   "language": "python",
   "name": "python3"
  },
  "language_info": {
   "codemirror_mode": {
    "name": "ipython",
    "version": 3
   },
   "file_extension": ".py",
   "mimetype": "text/x-python",
   "name": "python",
   "nbconvert_exporter": "python",
   "pygments_lexer": "ipython3",
   "version": "3.10.11"
  }
 },
 "nbformat": 4,
 "nbformat_minor": 2
}
