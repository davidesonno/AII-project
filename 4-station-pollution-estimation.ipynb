{
 "cells": [
  {
   "cell_type": "markdown",
   "metadata": {},
   "source": [
    "# Station Air Pollution Estimation\n",
    "\n",
    "For each station, find a good model to predict the individual pollutants."
   ]
  },
  {
   "cell_type": "code",
   "execution_count": null,
   "metadata": {},
   "outputs": [],
   "source": [
    "%load_ext autoreload\n",
    "%autoreload 2\n",
    "\n",
    "import pandas as pd\n",
    "import numpy as np\n",
    "import os\n",
    "import matplotlib.pyplot as plt\n",
    "from datetime import datetime, timedelta\n",
    "import seaborn as sns\n",
    "\n",
    "\n",
    "from utils import *\n",
    "\n",
    "datasets_folder = './datasets'\n",
    "verbosity=1"
   ]
  },
  {
   "cell_type": "markdown",
   "metadata": {},
   "source": [
    "## Input Data"
   ]
  },
  {
   "cell_type": "markdown",
   "metadata": {},
   "source": [
    "DISCLAIMER: per ora non ci sta niente di normalizzato.. ragionare su cosa vada normalizzato e se metterlo nella funzione id preprocessing (si direi)"
   ]
  },
  {
   "cell_type": "markdown",
   "metadata": {},
   "source": [
    "- Air pollution"
   ]
  },
  {
   "cell_type": "code",
   "execution_count": null,
   "metadata": {},
   "outputs": [
    {
     "name": "stdout",
     "output_type": "stream",
     "text": [
      "Stations found: GIARDINI MARGHERITA, PORTA SAN FELICE, VIA CHIARINI\n",
      "Resampling for station \"GIARDINI MARGHERITA\"\n",
      "Resampling for station \"PORTA SAN FELICE\"\n",
      "Resampling for station \"VIA CHIARINI\"\n",
      "Filling station \"GIARDINI MARGHERITA\"\n",
      "Filling station \"PORTA SAN FELICE\"\n",
      "Filling station \"VIA CHIARINI\"\n",
      "Splitting station GIARDINI MARGHERITA\n",
      "Splitting station PORTA SAN FELICE\n",
      "Splitting station VIA CHIARINI\n"
     ]
    }
   ],
   "source": [
    "giardini_margherita_pollution_dict, san_felice_pollution_dict, chiarini_pollution_dict = prepare_dataset(datasets_folder, 'pollution', v=verbosity)"
   ]
  },
  {
   "cell_type": "code",
   "execution_count": null,
   "metadata": {},
   "outputs": [],
   "source": [
    "giardini_margherita_pollution_dict['NO2'] # example access"
   ]
  },
  {
   "cell_type": "markdown",
   "metadata": {},
   "source": [
    "- Traffic"
   ]
  },
  {
   "cell_type": "code",
   "execution_count": 14,
   "metadata": {},
   "outputs": [
    {
     "name": "stdout",
     "output_type": "stream",
     "text": [
      "Merging readings files...\n",
      "Merged 6 CSV files\n",
      "Merging accuracies files...\n",
      "Merged 6 CSV files\n",
      "Location: 44.482671138769533,11.35406170088398\n",
      "> Filtering close traffic data...\n",
      "> Summing up hour data...\n",
      "Location: 44.499059983334519,11.327526717440112\n",
      "> Filtering close traffic data...\n",
      "> Summing up hour data...\n",
      "Location: 44.499134335170289, 11.285089594971216\n",
      "> Filtering close traffic data...\n",
      "> Summing up hour data...\n"
     ]
    }
   ],
   "source": [
    "giardini_margherita_traffic_df, san_felice_traffic_df, chiarini_traffic_df = prepare_dataset(datasets_folder, 'traffic', v=verbosity)"
   ]
  },
  {
   "cell_type": "markdown",
   "metadata": {},
   "source": [
    "- Weather"
   ]
  },
  {
   "cell_type": "code",
   "execution_count": 15,
   "metadata": {},
   "outputs": [
    {
     "name": "stdout",
     "output_type": "stream",
     "text": [
      "Merging weather files...\n",
      "Merged 6 CSV files\n"
     ]
    }
   ],
   "source": [
    "weather_df = prepare_dataset(datasets_folder, 'weather')"
   ]
  },
  {
   "cell_type": "markdown",
   "metadata": {},
   "source": [
    "## Models"
   ]
  },
  {
   "cell_type": "markdown",
   "metadata": {},
   "source": [
    "### Giardini Margherita"
   ]
  },
  {
   "cell_type": "markdown",
   "metadata": {},
   "source": []
  },
  {
   "cell_type": "code",
   "execution_count": null,
   "metadata": {},
   "outputs": [],
   "source": []
  }
 ],
 "metadata": {
  "kernelspec": {
   "display_name": "Python 3",
   "language": "python",
   "name": "python3"
  },
  "language_info": {
   "codemirror_mode": {
    "name": "ipython",
    "version": 3
   },
   "file_extension": ".py",
   "mimetype": "text/x-python",
   "name": "python",
   "nbconvert_exporter": "python",
   "pygments_lexer": "ipython3",
   "version": "3.10.11"
  }
 },
 "nbformat": 4,
 "nbformat_minor": 2
}
