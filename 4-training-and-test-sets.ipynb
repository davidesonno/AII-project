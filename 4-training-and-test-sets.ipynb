{
 "cells": [
  {
   "cell_type": "markdown",
   "metadata": {},
   "source": [
    "# **Datasets Merging and Normalization**"
   ]
  },
  {
   "cell_type": "code",
   "execution_count": 3,
   "metadata": {},
   "outputs": [],
   "source": [
    "%load_ext autoreload\n",
    "%autoreload 2\n",
    "\n",
    "from utils import *\n",
    "\n",
    "datasets_folder = './datasets'\n",
    "verbosity=2"
   ]
  },
  {
   "cell_type": "markdown",
   "metadata": {},
   "source": [
    "## **Input Data**"
   ]
  },
  {
   "cell_type": "markdown",
   "metadata": {},
   "source": [
    "We load the datasets with the techniques used in the corresponding notebooks."
   ]
  },
  {
   "cell_type": "markdown",
   "metadata": {},
   "source": [
    "- Air pollution"
   ]
  },
  {
   "cell_type": "code",
   "execution_count": 4,
   "metadata": {},
   "outputs": [
    {
     "name": "stdout",
     "output_type": "stream",
     "text": [
      "Stations found: GIARDINI MARGHERITA, PORTA SAN FELICE, VIA CHIARINI\n",
      "Splitting station \"GIARDINI MARGHERITA\"...\n",
      "Splitting station \"PORTA SAN FELICE\"...\n",
      "Splitting station \"VIA CHIARINI\"...\n"
     ]
    }
   ],
   "source": [
    "pollution_data = read_and_preprocess_dataset(datasets_folder, 'pollution', v=verbosity)"
   ]
  },
  {
   "cell_type": "code",
   "execution_count": 5,
   "metadata": {},
   "outputs": [
    {
     "data": {
      "text/html": [
       "<div>\n",
       "<style scoped>\n",
       "    .dataframe tbody tr th:only-of-type {\n",
       "        vertical-align: middle;\n",
       "    }\n",
       "\n",
       "    .dataframe tbody tr th {\n",
       "        vertical-align: top;\n",
       "    }\n",
       "\n",
       "    .dataframe thead th {\n",
       "        text-align: right;\n",
       "    }\n",
       "</style>\n",
       "<table border=\"1\" class=\"dataframe\">\n",
       "  <thead>\n",
       "    <tr style=\"text-align: right;\">\n",
       "      <th></th>\n",
       "      <th>Agent_value</th>\n",
       "    </tr>\n",
       "    <tr>\n",
       "      <th>Date</th>\n",
       "      <th></th>\n",
       "    </tr>\n",
       "  </thead>\n",
       "  <tbody>\n",
       "    <tr>\n",
       "      <th>2019-01-01 00:00:00</th>\n",
       "      <td>29.0</td>\n",
       "    </tr>\n",
       "    <tr>\n",
       "      <th>2019-01-01 02:00:00</th>\n",
       "      <td>23.0</td>\n",
       "    </tr>\n",
       "  </tbody>\n",
       "</table>\n",
       "</div>"
      ],
      "text/plain": [
       "                     Agent_value\n",
       "Date                            \n",
       "2019-01-01 00:00:00         29.0\n",
       "2019-01-01 02:00:00         23.0"
      ]
     },
     "metadata": {},
     "output_type": "display_data"
    },
    {
     "data": {
      "text/html": [
       "<div>\n",
       "<style scoped>\n",
       "    .dataframe tbody tr th:only-of-type {\n",
       "        vertical-align: middle;\n",
       "    }\n",
       "\n",
       "    .dataframe tbody tr th {\n",
       "        vertical-align: top;\n",
       "    }\n",
       "\n",
       "    .dataframe thead th {\n",
       "        text-align: right;\n",
       "    }\n",
       "</style>\n",
       "<table border=\"1\" class=\"dataframe\">\n",
       "  <thead>\n",
       "    <tr style=\"text-align: right;\">\n",
       "      <th></th>\n",
       "      <th>Agent_value</th>\n",
       "    </tr>\n",
       "    <tr>\n",
       "      <th>Date</th>\n",
       "      <th></th>\n",
       "    </tr>\n",
       "  </thead>\n",
       "  <tbody>\n",
       "    <tr>\n",
       "      <th>2024-12-31 22:00:00</th>\n",
       "      <td>22.0</td>\n",
       "    </tr>\n",
       "    <tr>\n",
       "      <th>2024-12-31 23:00:00</th>\n",
       "      <td>21.0</td>\n",
       "    </tr>\n",
       "  </tbody>\n",
       "</table>\n",
       "</div>"
      ],
      "text/plain": [
       "                     Agent_value\n",
       "Date                            \n",
       "2024-12-31 22:00:00         22.0\n",
       "2024-12-31 23:00:00         21.0"
      ]
     },
     "metadata": {},
     "output_type": "display_data"
    }
   ],
   "source": [
    "display(pollution_data['GIARDINI MARGHERITA']['NO2'].iloc[:2])\n",
    "display(pollution_data['GIARDINI MARGHERITA']['NO2'].iloc[-2:])"
   ]
  },
  {
   "cell_type": "markdown",
   "metadata": {},
   "source": [
    "- Traffic"
   ]
  },
  {
   "cell_type": "code",
   "execution_count": null,
   "metadata": {},
   "outputs": [
    {
     "name": "stdout",
     "output_type": "stream",
     "text": [
      "Merging measurements files...\n",
      "Merged 6 CSV files\n",
      "Merging accuracies files...\n",
      "Merged 6 CSV files\n",
      "Location GIARDINI MARGHERITA: 44.482671138769533,11.35406170088398\n",
      " > Filtering close traffic data...\n",
      " > Summing up hour data...\n",
      "Location PORTA SAN FELICE: 44.499059983334519,11.327526717440112\n",
      " > Filtering close traffic data...\n",
      " > Summing up hour data...\n",
      "Location VIA CHIARINI: 44.499134335170289,11.285089594971216\n",
      " > Filtering close traffic data...\n",
      " > Summing up hour data...\n"
     ]
    }
   ],
   "source": [
    "traffic_data = read_and_preprocess_dataset(datasets_folder, 'traffic', v=verbosity, radius=2)"
   ]
  },
  {
   "cell_type": "code",
   "execution_count": 7,
   "metadata": {},
   "outputs": [
    {
     "data": {
      "text/html": [
       "<div>\n",
       "<style scoped>\n",
       "    .dataframe tbody tr th:only-of-type {\n",
       "        vertical-align: middle;\n",
       "    }\n",
       "\n",
       "    .dataframe tbody tr th {\n",
       "        vertical-align: top;\n",
       "    }\n",
       "\n",
       "    .dataframe thead th {\n",
       "        text-align: right;\n",
       "    }\n",
       "</style>\n",
       "<table border=\"1\" class=\"dataframe\">\n",
       "  <thead>\n",
       "    <tr style=\"text-align: right;\">\n",
       "      <th></th>\n",
       "      <th>Traffic_value</th>\n",
       "    </tr>\n",
       "    <tr>\n",
       "      <th>Date</th>\n",
       "      <th></th>\n",
       "    </tr>\n",
       "  </thead>\n",
       "  <tbody>\n",
       "    <tr>\n",
       "      <th>2019-01-01 00:00:00</th>\n",
       "      <td>10501.0</td>\n",
       "    </tr>\n",
       "    <tr>\n",
       "      <th>2019-01-01 01:00:00</th>\n",
       "      <td>16863.0</td>\n",
       "    </tr>\n",
       "  </tbody>\n",
       "</table>\n",
       "</div>"
      ],
      "text/plain": [
       "                     Traffic_value\n",
       "Date                              \n",
       "2019-01-01 00:00:00        10501.0\n",
       "2019-01-01 01:00:00        16863.0"
      ]
     },
     "metadata": {},
     "output_type": "display_data"
    },
    {
     "data": {
      "text/html": [
       "<div>\n",
       "<style scoped>\n",
       "    .dataframe tbody tr th:only-of-type {\n",
       "        vertical-align: middle;\n",
       "    }\n",
       "\n",
       "    .dataframe tbody tr th {\n",
       "        vertical-align: top;\n",
       "    }\n",
       "\n",
       "    .dataframe thead th {\n",
       "        text-align: right;\n",
       "    }\n",
       "</style>\n",
       "<table border=\"1\" class=\"dataframe\">\n",
       "  <thead>\n",
       "    <tr style=\"text-align: right;\">\n",
       "      <th></th>\n",
       "      <th>Traffic_value</th>\n",
       "    </tr>\n",
       "    <tr>\n",
       "      <th>Date</th>\n",
       "      <th></th>\n",
       "    </tr>\n",
       "  </thead>\n",
       "  <tbody>\n",
       "    <tr>\n",
       "      <th>2024-12-31 22:00:00</th>\n",
       "      <td>4162.0</td>\n",
       "    </tr>\n",
       "    <tr>\n",
       "      <th>2024-12-31 23:00:00</th>\n",
       "      <td>3765.0</td>\n",
       "    </tr>\n",
       "  </tbody>\n",
       "</table>\n",
       "</div>"
      ],
      "text/plain": [
       "                     Traffic_value\n",
       "Date                              \n",
       "2024-12-31 22:00:00         4162.0\n",
       "2024-12-31 23:00:00         3765.0"
      ]
     },
     "metadata": {},
     "output_type": "display_data"
    }
   ],
   "source": [
    "display(traffic_data['GIARDINI MARGHERITA'].iloc[:2])\n",
    "display(traffic_data['GIARDINI MARGHERITA'].iloc[-2:])"
   ]
  },
  {
   "cell_type": "markdown",
   "metadata": {},
   "source": [
    "- Weather"
   ]
  },
  {
   "cell_type": "code",
   "execution_count": 8,
   "metadata": {},
   "outputs": [
    {
     "name": "stdout",
     "output_type": "stream",
     "text": [
      "Merging weather files...\n",
      "Merged 6 CSV files\n"
     ]
    }
   ],
   "source": [
    "weather_data = read_and_preprocess_dataset(datasets_folder, 'weather', v=verbosity)"
   ]
  },
  {
   "cell_type": "code",
   "execution_count": 9,
   "metadata": {},
   "outputs": [
    {
     "data": {
      "text/html": [
       "<div>\n",
       "<style scoped>\n",
       "    .dataframe tbody tr th:only-of-type {\n",
       "        vertical-align: middle;\n",
       "    }\n",
       "\n",
       "    .dataframe tbody tr th {\n",
       "        vertical-align: top;\n",
       "    }\n",
       "\n",
       "    .dataframe thead th {\n",
       "        text-align: right;\n",
       "    }\n",
       "</style>\n",
       "<table border=\"1\" class=\"dataframe\">\n",
       "  <thead>\n",
       "    <tr style=\"text-align: right;\">\n",
       "      <th></th>\n",
       "      <th>TAVG</th>\n",
       "      <th>PREC</th>\n",
       "      <th>RHAVG</th>\n",
       "      <th>RAD</th>\n",
       "      <th>W_SCAL_INT</th>\n",
       "      <th>W_VEC_DIR</th>\n",
       "      <th>LEAFW</th>\n",
       "    </tr>\n",
       "    <tr>\n",
       "      <th>Date</th>\n",
       "      <th></th>\n",
       "      <th></th>\n",
       "      <th></th>\n",
       "      <th></th>\n",
       "      <th></th>\n",
       "      <th></th>\n",
       "      <th></th>\n",
       "    </tr>\n",
       "  </thead>\n",
       "  <tbody>\n",
       "    <tr>\n",
       "      <th>2019-01-01 00:00:00</th>\n",
       "      <td>1.0</td>\n",
       "      <td>0.0</td>\n",
       "      <td>92.3</td>\n",
       "      <td>0.0</td>\n",
       "      <td>0.5</td>\n",
       "      <td>208.7</td>\n",
       "      <td>0.0</td>\n",
       "    </tr>\n",
       "    <tr>\n",
       "      <th>2019-01-01 01:00:00</th>\n",
       "      <td>0.3</td>\n",
       "      <td>0.0</td>\n",
       "      <td>93.6</td>\n",
       "      <td>0.0</td>\n",
       "      <td>0.5</td>\n",
       "      <td>280.0</td>\n",
       "      <td>0.0</td>\n",
       "    </tr>\n",
       "  </tbody>\n",
       "</table>\n",
       "</div>"
      ],
      "text/plain": [
       "                     TAVG  PREC  RHAVG  RAD  W_SCAL_INT  W_VEC_DIR  LEAFW\n",
       "Date                                                                     \n",
       "2019-01-01 00:00:00   1.0   0.0   92.3  0.0         0.5      208.7    0.0\n",
       "2019-01-01 01:00:00   0.3   0.0   93.6  0.0         0.5      280.0    0.0"
      ]
     },
     "metadata": {},
     "output_type": "display_data"
    },
    {
     "data": {
      "text/html": [
       "<div>\n",
       "<style scoped>\n",
       "    .dataframe tbody tr th:only-of-type {\n",
       "        vertical-align: middle;\n",
       "    }\n",
       "\n",
       "    .dataframe tbody tr th {\n",
       "        vertical-align: top;\n",
       "    }\n",
       "\n",
       "    .dataframe thead th {\n",
       "        text-align: right;\n",
       "    }\n",
       "</style>\n",
       "<table border=\"1\" class=\"dataframe\">\n",
       "  <thead>\n",
       "    <tr style=\"text-align: right;\">\n",
       "      <th></th>\n",
       "      <th>TAVG</th>\n",
       "      <th>PREC</th>\n",
       "      <th>RHAVG</th>\n",
       "      <th>RAD</th>\n",
       "      <th>W_SCAL_INT</th>\n",
       "      <th>W_VEC_DIR</th>\n",
       "      <th>LEAFW</th>\n",
       "    </tr>\n",
       "    <tr>\n",
       "      <th>Date</th>\n",
       "      <th></th>\n",
       "      <th></th>\n",
       "      <th></th>\n",
       "      <th></th>\n",
       "      <th></th>\n",
       "      <th></th>\n",
       "      <th></th>\n",
       "    </tr>\n",
       "  </thead>\n",
       "  <tbody>\n",
       "    <tr>\n",
       "      <th>2024-12-30 23:00:00</th>\n",
       "      <td>5.1</td>\n",
       "      <td>0.0</td>\n",
       "      <td>76.1</td>\n",
       "      <td>0.0</td>\n",
       "      <td>2.8</td>\n",
       "      <td>256.7</td>\n",
       "      <td>0.0</td>\n",
       "    </tr>\n",
       "    <tr>\n",
       "      <th>2024-12-31 00:00:00</th>\n",
       "      <td>5.1</td>\n",
       "      <td>0.0</td>\n",
       "      <td>75.0</td>\n",
       "      <td>0.0</td>\n",
       "      <td>2.8</td>\n",
       "      <td>258.3</td>\n",
       "      <td>0.0</td>\n",
       "    </tr>\n",
       "  </tbody>\n",
       "</table>\n",
       "</div>"
      ],
      "text/plain": [
       "                     TAVG  PREC  RHAVG  RAD  W_SCAL_INT  W_VEC_DIR  LEAFW\n",
       "Date                                                                     \n",
       "2024-12-30 23:00:00   5.1   0.0   76.1  0.0         2.8      256.7    0.0\n",
       "2024-12-31 00:00:00   5.1   0.0   75.0  0.0         2.8      258.3    0.0"
      ]
     },
     "metadata": {},
     "output_type": "display_data"
    }
   ],
   "source": [
    "display(weather_data.iloc[:2])\n",
    "display(weather_data.iloc[-2:])"
   ]
  },
  {
   "cell_type": "markdown",
   "metadata": {},
   "source": [
    "**NOTE:** In each dataframe, the Date index represents the starting hour of each measurement. We used it because it was easier to work with."
   ]
  },
  {
   "cell_type": "markdown",
   "metadata": {},
   "source": [
    "## **Merge the datasets**"
   ]
  },
  {
   "cell_type": "markdown",
   "metadata": {},
   "source": [
    "From the preprocessing, we saw that each station has its own data, mainly because of the traffic being different across them, but also because the agent values differ.\\\n",
    "We will then need to create a dataset for each agent-station pair. Some data will be duplicated.\n",
    "\n",
    "We will merge the datasets for traffic, weather and pollution (target values) on the `Date` index.\\\n",
    "If the data to merge is hourly we can simply join the datasets using the index...\n",
    "\n",
    "**NOTE:** only the process of one station is showed."
   ]
  },
  {
   "cell_type": "code",
   "execution_count": null,
   "metadata": {},
   "outputs": [],
   "source": [
    "merged_giardini_margherita = {}\n",
    "merged_giardini_margherita['NO2'] = join_datasets(\n",
    "    pollution_data['GIARDINI MARGHERITA']['NO2'],\n",
    "    traffic_data['GIARDINI MARGHERITA'],\n",
    "    weather_data,\n",
    "    dropna=True\n",
    ")"
   ]
  },
  {
   "cell_type": "code",
   "execution_count": 11,
   "metadata": {},
   "outputs": [
    {
     "data": {
      "text/html": [
       "<div>\n",
       "<style scoped>\n",
       "    .dataframe tbody tr th:only-of-type {\n",
       "        vertical-align: middle;\n",
       "    }\n",
       "\n",
       "    .dataframe tbody tr th {\n",
       "        vertical-align: top;\n",
       "    }\n",
       "\n",
       "    .dataframe thead th {\n",
       "        text-align: right;\n",
       "    }\n",
       "</style>\n",
       "<table border=\"1\" class=\"dataframe\">\n",
       "  <thead>\n",
       "    <tr style=\"text-align: right;\">\n",
       "      <th></th>\n",
       "      <th>Agent_value</th>\n",
       "      <th>Traffic_value</th>\n",
       "      <th>TAVG</th>\n",
       "      <th>PREC</th>\n",
       "      <th>RHAVG</th>\n",
       "      <th>RAD</th>\n",
       "      <th>W_SCAL_INT</th>\n",
       "      <th>W_VEC_DIR</th>\n",
       "      <th>LEAFW</th>\n",
       "    </tr>\n",
       "    <tr>\n",
       "      <th>Date</th>\n",
       "      <th></th>\n",
       "      <th></th>\n",
       "      <th></th>\n",
       "      <th></th>\n",
       "      <th></th>\n",
       "      <th></th>\n",
       "      <th></th>\n",
       "      <th></th>\n",
       "      <th></th>\n",
       "    </tr>\n",
       "  </thead>\n",
       "  <tbody>\n",
       "    <tr>\n",
       "      <th>2019-01-01 00:00:00</th>\n",
       "      <td>29.0</td>\n",
       "      <td>10501.0</td>\n",
       "      <td>1.0</td>\n",
       "      <td>0.0</td>\n",
       "      <td>92.3</td>\n",
       "      <td>0.0</td>\n",
       "      <td>0.5</td>\n",
       "      <td>208.7</td>\n",
       "      <td>0.0</td>\n",
       "    </tr>\n",
       "    <tr>\n",
       "      <th>2019-01-01 02:00:00</th>\n",
       "      <td>23.0</td>\n",
       "      <td>15248.0</td>\n",
       "      <td>0.7</td>\n",
       "      <td>0.0</td>\n",
       "      <td>91.7</td>\n",
       "      <td>0.0</td>\n",
       "      <td>1.1</td>\n",
       "      <td>158.1</td>\n",
       "      <td>0.0</td>\n",
       "    </tr>\n",
       "    <tr>\n",
       "      <th>2019-01-01 03:00:00</th>\n",
       "      <td>29.0</td>\n",
       "      <td>9844.0</td>\n",
       "      <td>0.4</td>\n",
       "      <td>0.0</td>\n",
       "      <td>91.5</td>\n",
       "      <td>0.0</td>\n",
       "      <td>0.7</td>\n",
       "      <td>189.4</td>\n",
       "      <td>0.0</td>\n",
       "    </tr>\n",
       "  </tbody>\n",
       "</table>\n",
       "</div>"
      ],
      "text/plain": [
       "                     Agent_value  Traffic_value  TAVG  PREC  RHAVG  RAD  \\\n",
       "Date                                                                      \n",
       "2019-01-01 00:00:00         29.0        10501.0   1.0   0.0   92.3  0.0   \n",
       "2019-01-01 02:00:00         23.0        15248.0   0.7   0.0   91.7  0.0   \n",
       "2019-01-01 03:00:00         29.0         9844.0   0.4   0.0   91.5  0.0   \n",
       "\n",
       "                     W_SCAL_INT  W_VEC_DIR  LEAFW  \n",
       "Date                                               \n",
       "2019-01-01 00:00:00         0.5      208.7    0.0  \n",
       "2019-01-01 02:00:00         1.1      158.1    0.0  \n",
       "2019-01-01 03:00:00         0.7      189.4    0.0  "
      ]
     },
     "execution_count": 11,
     "metadata": {},
     "output_type": "execute_result"
    }
   ],
   "source": [
    "merged_giardini_margherita['NO2'].head(3)"
   ]
  },
  {
   "cell_type": "markdown",
   "metadata": {},
   "source": [
    "...but if we are considering a daily agent like *PM10*, as introduced in the [traffic notebook](./2-traffic_preprocessing.ipynb) and [weather notebook](./3-weather_preprocessing.ipynb), we should first convert the traffic and weather datasets to represent the daily informations by aggregating the hourly values. Then, we can merge those data together with the target values."
   ]
  },
  {
   "cell_type": "code",
   "execution_count": 12,
   "metadata": {},
   "outputs": [
    {
     "data": {
      "text/plain": [
       "<function utils.preprocessing.transform_traffic_to_daily_df(df: pandas.core.frame.DataFrame, bin_size=0, offset=0, dropna=True, **kwargs)>"
      ]
     },
     "execution_count": 12,
     "metadata": {},
     "output_type": "execute_result"
    }
   ],
   "source": [
    "transform_traffic_to_daily_df # create bins for the traffic hours"
   ]
  },
  {
   "cell_type": "code",
   "execution_count": 13,
   "metadata": {},
   "outputs": [
    {
     "data": {
      "text/plain": [
       "<function utils.preprocessing.transform_weather_to_daily_df(df: pandas.core.frame.DataFrame, aggregations={}, max_min_columns=[], keep_splitted_columns=True, **kwargs)>"
      ]
     },
     "execution_count": 13,
     "metadata": {},
     "output_type": "execute_result"
    }
   ],
   "source": [
    "transform_weather_to_daily_df # use appropriate aggregation functions for the daily features"
   ]
  },
  {
   "cell_type": "markdown",
   "metadata": {},
   "source": [
    "## **Scaling the features**"
   ]
  },
  {
   "cell_type": "markdown",
   "metadata": {},
   "source": [
    "The features have different distributions, so we apply the transformation individually for each column. Both scaling to [0, 1], standardization or other functions can be used.\n",
    "\n",
    "We also save the agents means and variances, to be able to go back to the original values."
   ]
  },
  {
   "cell_type": "code",
   "execution_count": 14,
   "metadata": {},
   "outputs": [],
   "source": [
    "normalized_giardini_margherita={}\n",
    "# Applies `MinMaxScaler` to the specified columns, skipping `skip` columns.    \n",
    "# If no skip columns are specified, all the columns are attempted to be scaled.\n",
    "# If columns appear in `return_dist`, a dict with their mean and std will be returned.\n",
    "normalized_giardini_margherita['NO2'], dist = normalize_columns(merged_giardini_margherita['NO2'], return_dists=['Agent_value'], scaler=StandardScaler())"
   ]
  },
  {
   "cell_type": "code",
   "execution_count": 15,
   "metadata": {},
   "outputs": [
    {
     "name": "stdout",
     "output_type": "stream",
     "text": [
      "Agent value distributions:  {'mean': 17.14072246079708, 'std': 12.589960677710152}\n"
     ]
    },
    {
     "data": {
      "text/html": [
       "<div>\n",
       "<style scoped>\n",
       "    .dataframe tbody tr th:only-of-type {\n",
       "        vertical-align: middle;\n",
       "    }\n",
       "\n",
       "    .dataframe tbody tr th {\n",
       "        vertical-align: top;\n",
       "    }\n",
       "\n",
       "    .dataframe thead th {\n",
       "        text-align: right;\n",
       "    }\n",
       "</style>\n",
       "<table border=\"1\" class=\"dataframe\">\n",
       "  <thead>\n",
       "    <tr style=\"text-align: right;\">\n",
       "      <th></th>\n",
       "      <th>Agent_value</th>\n",
       "      <th>Traffic_value</th>\n",
       "      <th>TAVG</th>\n",
       "      <th>PREC</th>\n",
       "      <th>RHAVG</th>\n",
       "      <th>RAD</th>\n",
       "      <th>W_SCAL_INT</th>\n",
       "      <th>W_VEC_DIR</th>\n",
       "      <th>LEAFW</th>\n",
       "    </tr>\n",
       "    <tr>\n",
       "      <th>Date</th>\n",
       "      <th></th>\n",
       "      <th></th>\n",
       "      <th></th>\n",
       "      <th></th>\n",
       "      <th></th>\n",
       "      <th></th>\n",
       "      <th></th>\n",
       "      <th></th>\n",
       "      <th></th>\n",
       "    </tr>\n",
       "  </thead>\n",
       "  <tbody>\n",
       "    <tr>\n",
       "      <th>2019-01-01 00:00:00</th>\n",
       "      <td>0.941972</td>\n",
       "      <td>-0.429026</td>\n",
       "      <td>-1.741683</td>\n",
       "      <td>-0.13755</td>\n",
       "      <td>1.320229</td>\n",
       "      <td>-0.663642</td>\n",
       "      <td>-1.416150</td>\n",
       "      <td>0.046922</td>\n",
       "      <td>-0.464033</td>\n",
       "    </tr>\n",
       "    <tr>\n",
       "      <th>2019-01-01 02:00:00</th>\n",
       "      <td>0.465397</td>\n",
       "      <td>-0.000122</td>\n",
       "      <td>-1.776748</td>\n",
       "      <td>-0.13755</td>\n",
       "      <td>1.290525</td>\n",
       "      <td>-0.663642</td>\n",
       "      <td>-1.085620</td>\n",
       "      <td>-0.520981</td>\n",
       "      <td>-0.464033</td>\n",
       "    </tr>\n",
       "    <tr>\n",
       "      <th>2019-01-01 03:00:00</th>\n",
       "      <td>0.941972</td>\n",
       "      <td>-0.488387</td>\n",
       "      <td>-1.811813</td>\n",
       "      <td>-0.13755</td>\n",
       "      <td>1.280624</td>\n",
       "      <td>-0.663642</td>\n",
       "      <td>-1.305973</td>\n",
       "      <td>-0.169689</td>\n",
       "      <td>-0.464033</td>\n",
       "    </tr>\n",
       "  </tbody>\n",
       "</table>\n",
       "</div>"
      ],
      "text/plain": [
       "                     Agent_value  Traffic_value      TAVG     PREC     RHAVG  \\\n",
       "Date                                                                           \n",
       "2019-01-01 00:00:00     0.941972      -0.429026 -1.741683 -0.13755  1.320229   \n",
       "2019-01-01 02:00:00     0.465397      -0.000122 -1.776748 -0.13755  1.290525   \n",
       "2019-01-01 03:00:00     0.941972      -0.488387 -1.811813 -0.13755  1.280624   \n",
       "\n",
       "                          RAD  W_SCAL_INT  W_VEC_DIR     LEAFW  \n",
       "Date                                                            \n",
       "2019-01-01 00:00:00 -0.663642   -1.416150   0.046922 -0.464033  \n",
       "2019-01-01 02:00:00 -0.663642   -1.085620  -0.520981 -0.464033  \n",
       "2019-01-01 03:00:00 -0.663642   -1.305973  -0.169689 -0.464033  "
      ]
     },
     "execution_count": 15,
     "metadata": {},
     "output_type": "execute_result"
    }
   ],
   "source": [
    "print('Agent value distributions: ', dist['Agent_value'])\n",
    "normalized_giardini_margherita['NO2'].head(3)"
   ]
  },
  {
   "cell_type": "markdown",
   "metadata": {},
   "source": [
    "## **Encode date and time informations**"
   ]
  },
  {
   "cell_type": "markdown",
   "metadata": {},
   "source": [
    "We also want to encode date and hour informations, to help the models learn that traffic is really small during the night or the weekends, and so on.\n",
    "\n",
    "We can:\n",
    "- one hot encode the hour/day/month: does not account for day 31 being close to day 1\n",
    "- radial basis function: creates a feature for each possible value of the column to encode. For example, it would introduce 12 features if encoding the months (more accurate)\n",
    "- sine/cosine: 1 sin feature and 1 cos feature for each column to encode\n",
    "\n",
    "The year is not relevant.\n",
    "\n",
    "We start by encoding the months using radial basis and the day using sine/cosine, introducing 12 features + 2 features. Using radial basis for the days would need 31 new columns and may not be needed.\n",
    "\n",
    "*Source: [Three Approaches to Encoding Time Information as Features for ML Models](https://developer.nvidia.com/blog/three-approaches-to-encoding-time-information-as-features-for-ml-models/)*"
   ]
  },
  {
   "cell_type": "code",
   "execution_count": 16,
   "metadata": {},
   "outputs": [],
   "source": [
    "method = 'radial_months-sin-cos_days_hours'\n",
    "\n",
    "encoded_giardini_margherita = {}\n",
    "# Using the given method, introduces new columns to encode the Date index.\n",
    "encoded_giardini_margherita['NO2'] = encode_date_index(normalized_giardini_margherita['NO2'], method=method)"
   ]
  },
  {
   "cell_type": "markdown",
   "metadata": {},
   "source": [
    "## **Final Dataset**"
   ]
  },
  {
   "cell_type": "markdown",
   "metadata": {},
   "source": [
    "We end up with a dataset for each agent of each station, with input data and target values.\n",
    "\n",
    "*Agent_value* has to be considered as $y_{true}$"
   ]
  },
  {
   "cell_type": "code",
   "execution_count": 17,
   "metadata": {},
   "outputs": [
    {
     "data": {
      "text/html": [
       "<div>\n",
       "<style scoped>\n",
       "    .dataframe tbody tr th:only-of-type {\n",
       "        vertical-align: middle;\n",
       "    }\n",
       "\n",
       "    .dataframe tbody tr th {\n",
       "        vertical-align: top;\n",
       "    }\n",
       "\n",
       "    .dataframe thead th {\n",
       "        text-align: right;\n",
       "    }\n",
       "</style>\n",
       "<table border=\"1\" class=\"dataframe\">\n",
       "  <thead>\n",
       "    <tr style=\"text-align: right;\">\n",
       "      <th></th>\n",
       "      <th>Agent_value</th>\n",
       "      <th>Traffic_value</th>\n",
       "      <th>TAVG</th>\n",
       "      <th>PREC</th>\n",
       "      <th>RHAVG</th>\n",
       "      <th>RAD</th>\n",
       "      <th>W_SCAL_INT</th>\n",
       "      <th>W_VEC_DIR</th>\n",
       "      <th>LEAFW</th>\n",
       "      <th>hour_sin</th>\n",
       "      <th>...</th>\n",
       "      <th>month_rbf_3</th>\n",
       "      <th>month_rbf_4</th>\n",
       "      <th>month_rbf_5</th>\n",
       "      <th>month_rbf_6</th>\n",
       "      <th>month_rbf_7</th>\n",
       "      <th>month_rbf_8</th>\n",
       "      <th>month_rbf_9</th>\n",
       "      <th>month_rbf_10</th>\n",
       "      <th>month_rbf_11</th>\n",
       "      <th>month_rbf_12</th>\n",
       "    </tr>\n",
       "    <tr>\n",
       "      <th>Date</th>\n",
       "      <th></th>\n",
       "      <th></th>\n",
       "      <th></th>\n",
       "      <th></th>\n",
       "      <th></th>\n",
       "      <th></th>\n",
       "      <th></th>\n",
       "      <th></th>\n",
       "      <th></th>\n",
       "      <th></th>\n",
       "      <th></th>\n",
       "      <th></th>\n",
       "      <th></th>\n",
       "      <th></th>\n",
       "      <th></th>\n",
       "      <th></th>\n",
       "      <th></th>\n",
       "      <th></th>\n",
       "      <th></th>\n",
       "      <th></th>\n",
       "      <th></th>\n",
       "    </tr>\n",
       "  </thead>\n",
       "  <tbody>\n",
       "    <tr>\n",
       "      <th>2019-01-01 00:00:00</th>\n",
       "      <td>0.941972</td>\n",
       "      <td>-0.429026</td>\n",
       "      <td>-1.741683</td>\n",
       "      <td>-0.13755</td>\n",
       "      <td>1.320229</td>\n",
       "      <td>-0.663642</td>\n",
       "      <td>-1.416150</td>\n",
       "      <td>0.046922</td>\n",
       "      <td>-0.464033</td>\n",
       "      <td>0.000000</td>\n",
       "      <td>...</td>\n",
       "      <td>0.000335</td>\n",
       "      <td>1.522998e-08</td>\n",
       "      <td>1.266417e-14</td>\n",
       "      <td>1.928750e-22</td>\n",
       "      <td>5.380186e-32</td>\n",
       "      <td>1.928750e-22</td>\n",
       "      <td>1.266417e-14</td>\n",
       "      <td>1.522998e-08</td>\n",
       "      <td>0.000335</td>\n",
       "      <td>0.135335</td>\n",
       "    </tr>\n",
       "    <tr>\n",
       "      <th>2019-01-01 02:00:00</th>\n",
       "      <td>0.465397</td>\n",
       "      <td>-0.000122</td>\n",
       "      <td>-1.776748</td>\n",
       "      <td>-0.13755</td>\n",
       "      <td>1.290525</td>\n",
       "      <td>-0.663642</td>\n",
       "      <td>-1.085620</td>\n",
       "      <td>-0.520981</td>\n",
       "      <td>-0.464033</td>\n",
       "      <td>0.500000</td>\n",
       "      <td>...</td>\n",
       "      <td>0.000335</td>\n",
       "      <td>1.522998e-08</td>\n",
       "      <td>1.266417e-14</td>\n",
       "      <td>1.928750e-22</td>\n",
       "      <td>5.380186e-32</td>\n",
       "      <td>1.928750e-22</td>\n",
       "      <td>1.266417e-14</td>\n",
       "      <td>1.522998e-08</td>\n",
       "      <td>0.000335</td>\n",
       "      <td>0.135335</td>\n",
       "    </tr>\n",
       "    <tr>\n",
       "      <th>2019-01-01 03:00:00</th>\n",
       "      <td>0.941972</td>\n",
       "      <td>-0.488387</td>\n",
       "      <td>-1.811813</td>\n",
       "      <td>-0.13755</td>\n",
       "      <td>1.280624</td>\n",
       "      <td>-0.663642</td>\n",
       "      <td>-1.305973</td>\n",
       "      <td>-0.169689</td>\n",
       "      <td>-0.464033</td>\n",
       "      <td>0.707107</td>\n",
       "      <td>...</td>\n",
       "      <td>0.000335</td>\n",
       "      <td>1.522998e-08</td>\n",
       "      <td>1.266417e-14</td>\n",
       "      <td>1.928750e-22</td>\n",
       "      <td>5.380186e-32</td>\n",
       "      <td>1.928750e-22</td>\n",
       "      <td>1.266417e-14</td>\n",
       "      <td>1.522998e-08</td>\n",
       "      <td>0.000335</td>\n",
       "      <td>0.135335</td>\n",
       "    </tr>\n",
       "    <tr>\n",
       "      <th>2019-01-01 04:00:00</th>\n",
       "      <td>0.703685</td>\n",
       "      <td>-0.817451</td>\n",
       "      <td>-1.741683</td>\n",
       "      <td>-0.13755</td>\n",
       "      <td>1.023191</td>\n",
       "      <td>-0.663642</td>\n",
       "      <td>-1.305973</td>\n",
       "      <td>-0.354875</td>\n",
       "      <td>-0.464033</td>\n",
       "      <td>0.866025</td>\n",
       "      <td>...</td>\n",
       "      <td>0.000335</td>\n",
       "      <td>1.522998e-08</td>\n",
       "      <td>1.266417e-14</td>\n",
       "      <td>1.928750e-22</td>\n",
       "      <td>5.380186e-32</td>\n",
       "      <td>1.928750e-22</td>\n",
       "      <td>1.266417e-14</td>\n",
       "      <td>1.522998e-08</td>\n",
       "      <td>0.000335</td>\n",
       "      <td>0.135335</td>\n",
       "    </tr>\n",
       "    <tr>\n",
       "      <th>2019-01-01 05:00:00</th>\n",
       "      <td>0.544826</td>\n",
       "      <td>-0.947017</td>\n",
       "      <td>-1.589735</td>\n",
       "      <td>-0.13755</td>\n",
       "      <td>0.696448</td>\n",
       "      <td>-0.663642</td>\n",
       "      <td>-0.700002</td>\n",
       "      <td>-0.600667</td>\n",
       "      <td>-0.464033</td>\n",
       "      <td>0.965926</td>\n",
       "      <td>...</td>\n",
       "      <td>0.000335</td>\n",
       "      <td>1.522998e-08</td>\n",
       "      <td>1.266417e-14</td>\n",
       "      <td>1.928750e-22</td>\n",
       "      <td>5.380186e-32</td>\n",
       "      <td>1.928750e-22</td>\n",
       "      <td>1.266417e-14</td>\n",
       "      <td>1.522998e-08</td>\n",
       "      <td>0.000335</td>\n",
       "      <td>0.135335</td>\n",
       "    </tr>\n",
       "  </tbody>\n",
       "</table>\n",
       "<p>5 rows × 25 columns</p>\n",
       "</div>"
      ],
      "text/plain": [
       "                     Agent_value  Traffic_value      TAVG     PREC     RHAVG  \\\n",
       "Date                                                                           \n",
       "2019-01-01 00:00:00     0.941972      -0.429026 -1.741683 -0.13755  1.320229   \n",
       "2019-01-01 02:00:00     0.465397      -0.000122 -1.776748 -0.13755  1.290525   \n",
       "2019-01-01 03:00:00     0.941972      -0.488387 -1.811813 -0.13755  1.280624   \n",
       "2019-01-01 04:00:00     0.703685      -0.817451 -1.741683 -0.13755  1.023191   \n",
       "2019-01-01 05:00:00     0.544826      -0.947017 -1.589735 -0.13755  0.696448   \n",
       "\n",
       "                          RAD  W_SCAL_INT  W_VEC_DIR     LEAFW  hour_sin  ...  \\\n",
       "Date                                                                      ...   \n",
       "2019-01-01 00:00:00 -0.663642   -1.416150   0.046922 -0.464033  0.000000  ...   \n",
       "2019-01-01 02:00:00 -0.663642   -1.085620  -0.520981 -0.464033  0.500000  ...   \n",
       "2019-01-01 03:00:00 -0.663642   -1.305973  -0.169689 -0.464033  0.707107  ...   \n",
       "2019-01-01 04:00:00 -0.663642   -1.305973  -0.354875 -0.464033  0.866025  ...   \n",
       "2019-01-01 05:00:00 -0.663642   -0.700002  -0.600667 -0.464033  0.965926  ...   \n",
       "\n",
       "                     month_rbf_3   month_rbf_4   month_rbf_5   month_rbf_6  \\\n",
       "Date                                                                         \n",
       "2019-01-01 00:00:00     0.000335  1.522998e-08  1.266417e-14  1.928750e-22   \n",
       "2019-01-01 02:00:00     0.000335  1.522998e-08  1.266417e-14  1.928750e-22   \n",
       "2019-01-01 03:00:00     0.000335  1.522998e-08  1.266417e-14  1.928750e-22   \n",
       "2019-01-01 04:00:00     0.000335  1.522998e-08  1.266417e-14  1.928750e-22   \n",
       "2019-01-01 05:00:00     0.000335  1.522998e-08  1.266417e-14  1.928750e-22   \n",
       "\n",
       "                      month_rbf_7   month_rbf_8   month_rbf_9  month_rbf_10  \\\n",
       "Date                                                                          \n",
       "2019-01-01 00:00:00  5.380186e-32  1.928750e-22  1.266417e-14  1.522998e-08   \n",
       "2019-01-01 02:00:00  5.380186e-32  1.928750e-22  1.266417e-14  1.522998e-08   \n",
       "2019-01-01 03:00:00  5.380186e-32  1.928750e-22  1.266417e-14  1.522998e-08   \n",
       "2019-01-01 04:00:00  5.380186e-32  1.928750e-22  1.266417e-14  1.522998e-08   \n",
       "2019-01-01 05:00:00  5.380186e-32  1.928750e-22  1.266417e-14  1.522998e-08   \n",
       "\n",
       "                     month_rbf_11  month_rbf_12  \n",
       "Date                                             \n",
       "2019-01-01 00:00:00      0.000335      0.135335  \n",
       "2019-01-01 02:00:00      0.000335      0.135335  \n",
       "2019-01-01 03:00:00      0.000335      0.135335  \n",
       "2019-01-01 04:00:00      0.000335      0.135335  \n",
       "2019-01-01 05:00:00      0.000335      0.135335  \n",
       "\n",
       "[5 rows x 25 columns]"
      ]
     },
     "execution_count": 17,
     "metadata": {},
     "output_type": "execute_result"
    }
   ],
   "source": [
    "encoded_giardini_margherita['NO2'].head(5)"
   ]
  }
 ],
 "metadata": {
  "kernelspec": {
   "display_name": ".venv",
   "language": "python",
   "name": "python3"
  },
  "language_info": {
   "codemirror_mode": {
    "name": "ipython",
    "version": 3
   },
   "file_extension": ".py",
   "mimetype": "text/x-python",
   "name": "python",
   "nbconvert_exporter": "python",
   "pygments_lexer": "ipython3",
   "version": "3.10.11"
  }
 },
 "nbformat": 4,
 "nbformat_minor": 2
}
