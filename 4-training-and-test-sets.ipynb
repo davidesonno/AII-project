{
 "cells": [
  {
   "cell_type": "markdown",
   "metadata": {},
   "source": [
    "# **Datasets Merging and Normalization**"
   ]
  },
  {
   "cell_type": "code",
   "execution_count": 40,
   "metadata": {},
   "outputs": [
    {
     "name": "stdout",
     "output_type": "stream",
     "text": [
      "The autoreload extension is already loaded. To reload it, use:\n",
      "  %reload_ext autoreload\n"
     ]
    }
   ],
   "source": [
    "%load_ext autoreload\n",
    "%autoreload 2\n",
    "\n",
    "from utils import *\n",
    "\n",
    "datasets_folder = './datasets'\n",
    "verbosity=2"
   ]
  },
  {
   "cell_type": "markdown",
   "metadata": {},
   "source": [
    "## **Input Data**"
   ]
  },
  {
   "cell_type": "markdown",
   "metadata": {},
   "source": [
    "We load the datasets with the techniques used in the corresponding notebooks."
   ]
  },
  {
   "cell_type": "markdown",
   "metadata": {},
   "source": [
    "- Air pollution"
   ]
  },
  {
   "cell_type": "code",
   "execution_count": 41,
   "metadata": {},
   "outputs": [
    {
     "name": "stdout",
     "output_type": "stream",
     "text": [
      "Stations found: GIARDINI MARGHERITA, PORTA SAN FELICE, VIA CHIARINI\n",
      "Splitting station \"GIARDINI MARGHERITA\"...\n",
      "Splitting station \"PORTA SAN FELICE\"...\n",
      "Splitting station \"VIA CHIARINI\"...\n"
     ]
    }
   ],
   "source": [
    "pollution_data = read_and_preprocess_dataset(datasets_folder, 'pollution', v=verbosity)"
   ]
  },
  {
   "cell_type": "code",
   "execution_count": 42,
   "metadata": {},
   "outputs": [
    {
     "data": {
      "text/html": [
       "<div>\n",
       "<style scoped>\n",
       "    .dataframe tbody tr th:only-of-type {\n",
       "        vertical-align: middle;\n",
       "    }\n",
       "\n",
       "    .dataframe tbody tr th {\n",
       "        vertical-align: top;\n",
       "    }\n",
       "\n",
       "    .dataframe thead th {\n",
       "        text-align: right;\n",
       "    }\n",
       "</style>\n",
       "<table border=\"1\" class=\"dataframe\">\n",
       "  <thead>\n",
       "    <tr style=\"text-align: right;\">\n",
       "      <th></th>\n",
       "      <th>Agent_value</th>\n",
       "    </tr>\n",
       "    <tr>\n",
       "      <th>Date</th>\n",
       "      <th></th>\n",
       "    </tr>\n",
       "  </thead>\n",
       "  <tbody>\n",
       "    <tr>\n",
       "      <th>2019-01-02 00:00:00</th>\n",
       "      <td>25.0</td>\n",
       "    </tr>\n",
       "    <tr>\n",
       "      <th>2019-01-02 01:00:00</th>\n",
       "      <td>25.0</td>\n",
       "    </tr>\n",
       "  </tbody>\n",
       "</table>\n",
       "</div>"
      ],
      "text/plain": [
       "                     Agent_value\n",
       "Date                            \n",
       "2019-01-02 00:00:00         25.0\n",
       "2019-01-02 01:00:00         25.0"
      ]
     },
     "metadata": {},
     "output_type": "display_data"
    },
    {
     "data": {
      "text/html": [
       "<div>\n",
       "<style scoped>\n",
       "    .dataframe tbody tr th:only-of-type {\n",
       "        vertical-align: middle;\n",
       "    }\n",
       "\n",
       "    .dataframe tbody tr th {\n",
       "        vertical-align: top;\n",
       "    }\n",
       "\n",
       "    .dataframe thead th {\n",
       "        text-align: right;\n",
       "    }\n",
       "</style>\n",
       "<table border=\"1\" class=\"dataframe\">\n",
       "  <thead>\n",
       "    <tr style=\"text-align: right;\">\n",
       "      <th></th>\n",
       "      <th>Agent_value</th>\n",
       "    </tr>\n",
       "    <tr>\n",
       "      <th>Date</th>\n",
       "      <th></th>\n",
       "    </tr>\n",
       "  </thead>\n",
       "  <tbody>\n",
       "    <tr>\n",
       "      <th>2024-12-31 22:00:00</th>\n",
       "      <td>22.0</td>\n",
       "    </tr>\n",
       "    <tr>\n",
       "      <th>2024-12-31 23:00:00</th>\n",
       "      <td>21.0</td>\n",
       "    </tr>\n",
       "  </tbody>\n",
       "</table>\n",
       "</div>"
      ],
      "text/plain": [
       "                     Agent_value\n",
       "Date                            \n",
       "2024-12-31 22:00:00         22.0\n",
       "2024-12-31 23:00:00         21.0"
      ]
     },
     "metadata": {},
     "output_type": "display_data"
    }
   ],
   "source": [
    "display(pollution_data['GIARDINI MARGHERITA']['NO2'].iloc[:2])\n",
    "display(pollution_data['GIARDINI MARGHERITA']['NO2'].iloc[-2:])"
   ]
  },
  {
   "cell_type": "markdown",
   "metadata": {},
   "source": [
    "- Traffic"
   ]
  },
  {
   "cell_type": "code",
   "execution_count": 43,
   "metadata": {},
   "outputs": [
    {
     "name": "stdout",
     "output_type": "stream",
     "text": [
      "Merging readings files...\n",
      "Merged 6 CSV files\n",
      "Merging accuracies files...\n",
      "Merged 6 CSV files\n",
      "Location GIARDINI MARGHERITA: 44.482671138769533,11.35406170088398\n",
      " > Filtering close traffic data...\n",
      " > Summing up hour data...\n",
      "Location PORTA SAN FELICE: 44.499059983334519,11.327526717440112\n",
      " > Filtering close traffic data...\n",
      " > Summing up hour data...\n",
      "Location VIA CHIARINI: 44.499134335170289,11.285089594971216\n",
      " > Filtering close traffic data...\n",
      " > Summing up hour data...\n"
     ]
    }
   ],
   "source": [
    "traffic_data = read_and_preprocess_dataset(datasets_folder, 'traffic', v=verbosity)"
   ]
  },
  {
   "cell_type": "code",
   "execution_count": 44,
   "metadata": {},
   "outputs": [
    {
     "data": {
      "text/html": [
       "<div>\n",
       "<style scoped>\n",
       "    .dataframe tbody tr th:only-of-type {\n",
       "        vertical-align: middle;\n",
       "    }\n",
       "\n",
       "    .dataframe tbody tr th {\n",
       "        vertical-align: top;\n",
       "    }\n",
       "\n",
       "    .dataframe thead th {\n",
       "        text-align: right;\n",
       "    }\n",
       "</style>\n",
       "<table border=\"1\" class=\"dataframe\">\n",
       "  <thead>\n",
       "    <tr style=\"text-align: right;\">\n",
       "      <th></th>\n",
       "      <th>Traffic_value</th>\n",
       "    </tr>\n",
       "    <tr>\n",
       "      <th>Date</th>\n",
       "      <th></th>\n",
       "    </tr>\n",
       "  </thead>\n",
       "  <tbody>\n",
       "    <tr>\n",
       "      <th>2019-01-01 00:00:00</th>\n",
       "      <td>10501.0</td>\n",
       "    </tr>\n",
       "    <tr>\n",
       "      <th>2019-01-01 01:00:00</th>\n",
       "      <td>16863.0</td>\n",
       "    </tr>\n",
       "  </tbody>\n",
       "</table>\n",
       "</div>"
      ],
      "text/plain": [
       "                     Traffic_value\n",
       "Date                              \n",
       "2019-01-01 00:00:00        10501.0\n",
       "2019-01-01 01:00:00        16863.0"
      ]
     },
     "metadata": {},
     "output_type": "display_data"
    },
    {
     "data": {
      "text/html": [
       "<div>\n",
       "<style scoped>\n",
       "    .dataframe tbody tr th:only-of-type {\n",
       "        vertical-align: middle;\n",
       "    }\n",
       "\n",
       "    .dataframe tbody tr th {\n",
       "        vertical-align: top;\n",
       "    }\n",
       "\n",
       "    .dataframe thead th {\n",
       "        text-align: right;\n",
       "    }\n",
       "</style>\n",
       "<table border=\"1\" class=\"dataframe\">\n",
       "  <thead>\n",
       "    <tr style=\"text-align: right;\">\n",
       "      <th></th>\n",
       "      <th>Traffic_value</th>\n",
       "    </tr>\n",
       "    <tr>\n",
       "      <th>Date</th>\n",
       "      <th></th>\n",
       "    </tr>\n",
       "  </thead>\n",
       "  <tbody>\n",
       "    <tr>\n",
       "      <th>2024-12-31 22:00:00</th>\n",
       "      <td>4162.0</td>\n",
       "    </tr>\n",
       "    <tr>\n",
       "      <th>2024-12-31 23:00:00</th>\n",
       "      <td>3765.0</td>\n",
       "    </tr>\n",
       "  </tbody>\n",
       "</table>\n",
       "</div>"
      ],
      "text/plain": [
       "                     Traffic_value\n",
       "Date                              \n",
       "2024-12-31 22:00:00         4162.0\n",
       "2024-12-31 23:00:00         3765.0"
      ]
     },
     "metadata": {},
     "output_type": "display_data"
    }
   ],
   "source": [
    "display(traffic_data['GIARDINI MARGHERITA'].iloc[:2])\n",
    "display(traffic_data['GIARDINI MARGHERITA'].iloc[-2:])"
   ]
  },
  {
   "cell_type": "markdown",
   "metadata": {},
   "source": [
    "- Weather"
   ]
  },
  {
   "cell_type": "code",
   "execution_count": 45,
   "metadata": {},
   "outputs": [
    {
     "name": "stdout",
     "output_type": "stream",
     "text": [
      "Merging weather files...\n",
      "Merged 6 CSV files\n"
     ]
    }
   ],
   "source": [
    "weather_data = read_and_preprocess_dataset(datasets_folder, 'weather', v=verbosity)"
   ]
  },
  {
   "cell_type": "code",
   "execution_count": 46,
   "metadata": {},
   "outputs": [
    {
     "data": {
      "text/html": [
       "<div>\n",
       "<style scoped>\n",
       "    .dataframe tbody tr th:only-of-type {\n",
       "        vertical-align: middle;\n",
       "    }\n",
       "\n",
       "    .dataframe tbody tr th {\n",
       "        vertical-align: top;\n",
       "    }\n",
       "\n",
       "    .dataframe thead th {\n",
       "        text-align: right;\n",
       "    }\n",
       "</style>\n",
       "<table border=\"1\" class=\"dataframe\">\n",
       "  <thead>\n",
       "    <tr style=\"text-align: right;\">\n",
       "      <th></th>\n",
       "      <th>TAVG</th>\n",
       "      <th>PREC</th>\n",
       "      <th>RHAVG</th>\n",
       "      <th>RAD</th>\n",
       "      <th>W_SCAL_INT</th>\n",
       "      <th>W_VEC_DIR</th>\n",
       "      <th>LEAFW</th>\n",
       "    </tr>\n",
       "    <tr>\n",
       "      <th>Date</th>\n",
       "      <th></th>\n",
       "      <th></th>\n",
       "      <th></th>\n",
       "      <th></th>\n",
       "      <th></th>\n",
       "      <th></th>\n",
       "      <th></th>\n",
       "    </tr>\n",
       "  </thead>\n",
       "  <tbody>\n",
       "    <tr>\n",
       "      <th>2019-01-01 00:00:00</th>\n",
       "      <td>1.0</td>\n",
       "      <td>0.0</td>\n",
       "      <td>92.3</td>\n",
       "      <td>0.0</td>\n",
       "      <td>0.5</td>\n",
       "      <td>208.7</td>\n",
       "      <td>0.0</td>\n",
       "    </tr>\n",
       "    <tr>\n",
       "      <th>2019-01-01 01:00:00</th>\n",
       "      <td>0.3</td>\n",
       "      <td>0.0</td>\n",
       "      <td>93.6</td>\n",
       "      <td>0.0</td>\n",
       "      <td>0.5</td>\n",
       "      <td>280.0</td>\n",
       "      <td>0.0</td>\n",
       "    </tr>\n",
       "  </tbody>\n",
       "</table>\n",
       "</div>"
      ],
      "text/plain": [
       "                     TAVG  PREC  RHAVG  RAD  W_SCAL_INT  W_VEC_DIR  LEAFW\n",
       "Date                                                                     \n",
       "2019-01-01 00:00:00   1.0   0.0   92.3  0.0         0.5      208.7    0.0\n",
       "2019-01-01 01:00:00   0.3   0.0   93.6  0.0         0.5      280.0    0.0"
      ]
     },
     "metadata": {},
     "output_type": "display_data"
    },
    {
     "data": {
      "text/html": [
       "<div>\n",
       "<style scoped>\n",
       "    .dataframe tbody tr th:only-of-type {\n",
       "        vertical-align: middle;\n",
       "    }\n",
       "\n",
       "    .dataframe tbody tr th {\n",
       "        vertical-align: top;\n",
       "    }\n",
       "\n",
       "    .dataframe thead th {\n",
       "        text-align: right;\n",
       "    }\n",
       "</style>\n",
       "<table border=\"1\" class=\"dataframe\">\n",
       "  <thead>\n",
       "    <tr style=\"text-align: right;\">\n",
       "      <th></th>\n",
       "      <th>TAVG</th>\n",
       "      <th>PREC</th>\n",
       "      <th>RHAVG</th>\n",
       "      <th>RAD</th>\n",
       "      <th>W_SCAL_INT</th>\n",
       "      <th>W_VEC_DIR</th>\n",
       "      <th>LEAFW</th>\n",
       "    </tr>\n",
       "    <tr>\n",
       "      <th>Date</th>\n",
       "      <th></th>\n",
       "      <th></th>\n",
       "      <th></th>\n",
       "      <th></th>\n",
       "      <th></th>\n",
       "      <th></th>\n",
       "      <th></th>\n",
       "    </tr>\n",
       "  </thead>\n",
       "  <tbody>\n",
       "    <tr>\n",
       "      <th>2024-12-31 22:00:00</th>\n",
       "      <td>7.0</td>\n",
       "      <td>0.0</td>\n",
       "      <td>77.0</td>\n",
       "      <td>0.0</td>\n",
       "      <td>4.8</td>\n",
       "      <td>232.1</td>\n",
       "      <td>0.0</td>\n",
       "    </tr>\n",
       "    <tr>\n",
       "      <th>2024-12-31 23:00:00</th>\n",
       "      <td>7.0</td>\n",
       "      <td>0.0</td>\n",
       "      <td>80.3</td>\n",
       "      <td>0.0</td>\n",
       "      <td>5.3</td>\n",
       "      <td>230.4</td>\n",
       "      <td>0.0</td>\n",
       "    </tr>\n",
       "  </tbody>\n",
       "</table>\n",
       "</div>"
      ],
      "text/plain": [
       "                     TAVG  PREC  RHAVG  RAD  W_SCAL_INT  W_VEC_DIR  LEAFW\n",
       "Date                                                                     \n",
       "2024-12-31 22:00:00   7.0   0.0   77.0  0.0         4.8      232.1    0.0\n",
       "2024-12-31 23:00:00   7.0   0.0   80.3  0.0         5.3      230.4    0.0"
      ]
     },
     "metadata": {},
     "output_type": "display_data"
    }
   ],
   "source": [
    "display(weather_data.iloc[:2])\n",
    "display(weather_data.iloc[-2:])"
   ]
  },
  {
   "cell_type": "markdown",
   "metadata": {},
   "source": [
    "**NOTE:** The very last day of weather data is not present\\\n",
    "**NOTE:** In each dataframe, the Date index represents the starting hour of each measurement. We used it because it was easier to work with."
   ]
  },
  {
   "cell_type": "markdown",
   "metadata": {},
   "source": [
    "## **Merge the datasets**"
   ]
  },
  {
   "cell_type": "markdown",
   "metadata": {},
   "source": [
    "From the preprocessing, we saw that each station has is own data, mainly because of the traffic being different across them, but also because the agent values differ.\\\n",
    "We will then need to create a dataset for each agent-station pair. Some data will be duplicate.\n",
    "\n",
    "We will merge the dataset traffic, weather and pollution (target values) on the `Date` index.\\\n",
    "If the data to merge is hourly we can simply join the datasets using the index...\n",
    "\n",
    "**NOTE:** only the process of one station is showed."
   ]
  },
  {
   "cell_type": "code",
   "execution_count": 47,
   "metadata": {},
   "outputs": [],
   "source": [
    "merged_giardini_margherita = {}\n",
    "merged_giardini_margherita['NO2'] = join_datasets(\n",
    "    pollution_data['GIARDINI MARGHERITA']['NO2'],\n",
    "    traffic_data['GIARDINI MARGHERITA'],\n",
    "    weather_data,\n",
    "    dropna=True # drop the last day (31-12-2024)\n",
    "    )"
   ]
  },
  {
   "cell_type": "code",
   "execution_count": 48,
   "metadata": {},
   "outputs": [
    {
     "data": {
      "text/html": [
       "<div>\n",
       "<style scoped>\n",
       "    .dataframe tbody tr th:only-of-type {\n",
       "        vertical-align: middle;\n",
       "    }\n",
       "\n",
       "    .dataframe tbody tr th {\n",
       "        vertical-align: top;\n",
       "    }\n",
       "\n",
       "    .dataframe thead th {\n",
       "        text-align: right;\n",
       "    }\n",
       "</style>\n",
       "<table border=\"1\" class=\"dataframe\">\n",
       "  <thead>\n",
       "    <tr style=\"text-align: right;\">\n",
       "      <th></th>\n",
       "      <th>Agent_value</th>\n",
       "      <th>Traffic_value</th>\n",
       "      <th>TAVG</th>\n",
       "      <th>PREC</th>\n",
       "      <th>RHAVG</th>\n",
       "      <th>RAD</th>\n",
       "      <th>W_SCAL_INT</th>\n",
       "      <th>W_VEC_DIR</th>\n",
       "      <th>LEAFW</th>\n",
       "    </tr>\n",
       "    <tr>\n",
       "      <th>Date</th>\n",
       "      <th></th>\n",
       "      <th></th>\n",
       "      <th></th>\n",
       "      <th></th>\n",
       "      <th></th>\n",
       "      <th></th>\n",
       "      <th></th>\n",
       "      <th></th>\n",
       "      <th></th>\n",
       "    </tr>\n",
       "  </thead>\n",
       "  <tbody>\n",
       "    <tr>\n",
       "      <th>2019-01-02 00:00:00</th>\n",
       "      <td>25.0</td>\n",
       "      <td>4167.0</td>\n",
       "      <td>0.5</td>\n",
       "      <td>0.0</td>\n",
       "      <td>99.5</td>\n",
       "      <td>0.0</td>\n",
       "      <td>1.4</td>\n",
       "      <td>283.2</td>\n",
       "      <td>1.0</td>\n",
       "    </tr>\n",
       "    <tr>\n",
       "      <th>2019-01-02 01:00:00</th>\n",
       "      <td>25.0</td>\n",
       "      <td>1865.0</td>\n",
       "      <td>0.1</td>\n",
       "      <td>0.0</td>\n",
       "      <td>99.7</td>\n",
       "      <td>0.0</td>\n",
       "      <td>1.0</td>\n",
       "      <td>236.6</td>\n",
       "      <td>1.0</td>\n",
       "    </tr>\n",
       "    <tr>\n",
       "      <th>2019-01-02 02:00:00</th>\n",
       "      <td>22.0</td>\n",
       "      <td>914.0</td>\n",
       "      <td>0.1</td>\n",
       "      <td>0.0</td>\n",
       "      <td>99.4</td>\n",
       "      <td>0.0</td>\n",
       "      <td>0.6</td>\n",
       "      <td>242.0</td>\n",
       "      <td>0.0</td>\n",
       "    </tr>\n",
       "  </tbody>\n",
       "</table>\n",
       "</div>"
      ],
      "text/plain": [
       "                     Agent_value  Traffic_value  TAVG  PREC  RHAVG  RAD  \\\n",
       "Date                                                                      \n",
       "2019-01-02 00:00:00         25.0         4167.0   0.5   0.0   99.5  0.0   \n",
       "2019-01-02 01:00:00         25.0         1865.0   0.1   0.0   99.7  0.0   \n",
       "2019-01-02 02:00:00         22.0          914.0   0.1   0.0   99.4  0.0   \n",
       "\n",
       "                     W_SCAL_INT  W_VEC_DIR  LEAFW  \n",
       "Date                                               \n",
       "2019-01-02 00:00:00         1.4      283.2    1.0  \n",
       "2019-01-02 01:00:00         1.0      236.6    1.0  \n",
       "2019-01-02 02:00:00         0.6      242.0    0.0  "
      ]
     },
     "execution_count": 48,
     "metadata": {},
     "output_type": "execute_result"
    }
   ],
   "source": [
    "merged_giardini_margherita['NO2'].head(3)"
   ]
  },
  {
   "cell_type": "markdown",
   "metadata": {},
   "source": [
    "...but if we are considering a daily agent like *PM10*, as introduced in the [traffic notebook](./2-traffic_preprocessing.ipynb) and [weather notebook](./3-weather_preprocessing.ipynb), we should first convert the traffic and weather datasets to represent the daily informations by aggregating the hourly values. Then, we can merge those data with the target values."
   ]
  },
  {
   "cell_type": "code",
   "execution_count": 49,
   "metadata": {},
   "outputs": [
    {
     "data": {
      "text/plain": [
       "<function utils.preprocessing.transform_traffic_to_daily_df(df: pandas.core.frame.DataFrame, bin_size=0, offset=0, dropna=True, **kwargs)>"
      ]
     },
     "execution_count": 49,
     "metadata": {},
     "output_type": "execute_result"
    }
   ],
   "source": [
    "transform_traffic_to_daily_df # create bins for the traffic hours"
   ]
  },
  {
   "cell_type": "code",
   "execution_count": 50,
   "metadata": {},
   "outputs": [
    {
     "data": {
      "text/plain": [
       "<function utils.preprocessing.transform_weather_to_daily_df(df: pandas.core.frame.DataFrame, aggregations={}, max_min_columns=[], keep_splitted_columns=True, **kwargs)>"
      ]
     },
     "execution_count": 50,
     "metadata": {},
     "output_type": "execute_result"
    }
   ],
   "source": [
    "transform_weather_to_daily_df # use appropriate aggregation functions for the daily features"
   ]
  },
  {
   "cell_type": "markdown",
   "metadata": {},
   "source": [
    "## **Normalize the features**"
   ]
  },
  {
   "cell_type": "markdown",
   "metadata": {},
   "source": [
    "The features have different distributions, so we apply the transformation individually for each column. Both scaling to [0, 1], standardization or other functions can be used.\n",
    "\n",
    "We also save the agents distribution, to be able to go back to the original values."
   ]
  },
  {
   "cell_type": "code",
   "execution_count": 51,
   "metadata": {},
   "outputs": [],
   "source": [
    "normalized_giardini_margherita={}\n",
    "# Applies `MinMaxScaler` to the specified columns, skipping `skip` columns.    \n",
    "# If no skip columns are specified, all the columns are attempted to be scaled.\n",
    "# If columns appear in `return_dist`, a dict with their mean and std will be returned.\n",
    "normalized_giardini_margherita['NO2'], dist = normalize_columns(merged_giardini_margherita['NO2'], return_dists=['Agent_value'], scaler=StandardScaler())"
   ]
  },
  {
   "cell_type": "code",
   "execution_count": 52,
   "metadata": {},
   "outputs": [
    {
     "name": "stdout",
     "output_type": "stream",
     "text": [
      "Agent value distributions:  {'mean': 17.136602996327458, 'std': 12.587616590341343}\n"
     ]
    },
    {
     "data": {
      "text/html": [
       "<div>\n",
       "<style scoped>\n",
       "    .dataframe tbody tr th:only-of-type {\n",
       "        vertical-align: middle;\n",
       "    }\n",
       "\n",
       "    .dataframe tbody tr th {\n",
       "        vertical-align: top;\n",
       "    }\n",
       "\n",
       "    .dataframe thead th {\n",
       "        text-align: right;\n",
       "    }\n",
       "</style>\n",
       "<table border=\"1\" class=\"dataframe\">\n",
       "  <thead>\n",
       "    <tr style=\"text-align: right;\">\n",
       "      <th></th>\n",
       "      <th>Agent_value</th>\n",
       "      <th>Traffic_value</th>\n",
       "      <th>TAVG</th>\n",
       "      <th>PREC</th>\n",
       "      <th>RHAVG</th>\n",
       "      <th>RAD</th>\n",
       "      <th>W_SCAL_INT</th>\n",
       "      <th>W_VEC_DIR</th>\n",
       "      <th>LEAFW</th>\n",
       "    </tr>\n",
       "    <tr>\n",
       "      <th>Date</th>\n",
       "      <th></th>\n",
       "      <th></th>\n",
       "      <th></th>\n",
       "      <th></th>\n",
       "      <th></th>\n",
       "      <th></th>\n",
       "      <th></th>\n",
       "      <th></th>\n",
       "      <th></th>\n",
       "    </tr>\n",
       "  </thead>\n",
       "  <tbody>\n",
       "    <tr>\n",
       "      <th>2019-01-02 00:00:00</th>\n",
       "      <td>0.624693</td>\n",
       "      <td>-1.001239</td>\n",
       "      <td>-1.801424</td>\n",
       "      <td>-0.137549</td>\n",
       "      <td>1.678544</td>\n",
       "      <td>-0.663642</td>\n",
       "      <td>-0.919936</td>\n",
       "      <td>0.883229</td>\n",
       "      <td>2.156313</td>\n",
       "    </tr>\n",
       "    <tr>\n",
       "      <th>2019-01-02 01:00:00</th>\n",
       "      <td>0.624693</td>\n",
       "      <td>-1.209222</td>\n",
       "      <td>-1.848190</td>\n",
       "      <td>-0.137549</td>\n",
       "      <td>1.688450</td>\n",
       "      <td>-0.663642</td>\n",
       "      <td>-1.140309</td>\n",
       "      <td>0.360257</td>\n",
       "      <td>2.156313</td>\n",
       "    </tr>\n",
       "    <tr>\n",
       "      <th>2019-01-02 02:00:00</th>\n",
       "      <td>0.386364</td>\n",
       "      <td>-1.295143</td>\n",
       "      <td>-1.848190</td>\n",
       "      <td>-0.137549</td>\n",
       "      <td>1.673591</td>\n",
       "      <td>-0.663642</td>\n",
       "      <td>-1.360681</td>\n",
       "      <td>0.420859</td>\n",
       "      <td>-0.463754</td>\n",
       "    </tr>\n",
       "  </tbody>\n",
       "</table>\n",
       "</div>"
      ],
      "text/plain": [
       "                     Agent_value  Traffic_value      TAVG      PREC     RHAVG  \\\n",
       "Date                                                                            \n",
       "2019-01-02 00:00:00     0.624693      -1.001239 -1.801424 -0.137549  1.678544   \n",
       "2019-01-02 01:00:00     0.624693      -1.209222 -1.848190 -0.137549  1.688450   \n",
       "2019-01-02 02:00:00     0.386364      -1.295143 -1.848190 -0.137549  1.673591   \n",
       "\n",
       "                          RAD  W_SCAL_INT  W_VEC_DIR     LEAFW  \n",
       "Date                                                            \n",
       "2019-01-02 00:00:00 -0.663642   -0.919936   0.883229  2.156313  \n",
       "2019-01-02 01:00:00 -0.663642   -1.140309   0.360257  2.156313  \n",
       "2019-01-02 02:00:00 -0.663642   -1.360681   0.420859 -0.463754  "
      ]
     },
     "execution_count": 52,
     "metadata": {},
     "output_type": "execute_result"
    }
   ],
   "source": [
    "print('Agent value distributions: ', dist['Agent_value'])\n",
    "normalized_giardini_margherita['NO2'].head(3)"
   ]
  },
  {
   "cell_type": "markdown",
   "metadata": {},
   "source": [
    "## **Encode date and time informations**"
   ]
  },
  {
   "cell_type": "markdown",
   "metadata": {},
   "source": [
    "We also want to encode date and hour informations, to help the models learn that traffic is really small during the night or the weekends, and so on. We could also add a feature for holidays, if needed.\n",
    "\n",
    "We can (in order of columns required for the encoding method):\n",
    "- one hot encode the hour/day/month (does not account for day 31 being close to day 1)\n",
    "- radial basis function (more accurate)(creates a feature for each possible value of the column to encode. For example, it would introduce 12 feature if encoding the months)\n",
    "- sine/cosine (1 sin feature and 1 cos feature for each column to encode)\n",
    "\n",
    "The year should not be relevant.\n",
    "\n",
    "We start by encoding the months using radial and the day using sine/cosine, introducing 12 features + 2 features. Using radial basis for the days would need 31 new columns and might not be needed.\n",
    "\n",
    "*Source: [here](https://developer.nvidia.com/blog/three-approaches-to-encoding-time-information-as-features-for-ml-models/)*"
   ]
  },
  {
   "cell_type": "code",
   "execution_count": 53,
   "metadata": {},
   "outputs": [],
   "source": [
    "method = 'radial_months-sin-cos_days_hours'\n",
    "\n",
    "encoded_giardini_margherita = {}\n",
    "# Using the given method, introduces new columns to encode the Date index.\n",
    "encoded_giardini_margherita['NO2'] = encode_date_index(normalized_giardini_margherita['NO2'], method=method)"
   ]
  },
  {
   "cell_type": "markdown",
   "metadata": {},
   "source": [
    "## **Final Dataset**"
   ]
  },
  {
   "cell_type": "markdown",
   "metadata": {},
   "source": [
    "What we end up with, is a dataset for each agent of each station, with input data and target values.\n",
    "\n",
    "*Agent_value* has to be considered as $y_{true}$"
   ]
  },
  {
   "cell_type": "code",
   "execution_count": 54,
   "metadata": {},
   "outputs": [
    {
     "data": {
      "text/html": [
       "<div>\n",
       "<style scoped>\n",
       "    .dataframe tbody tr th:only-of-type {\n",
       "        vertical-align: middle;\n",
       "    }\n",
       "\n",
       "    .dataframe tbody tr th {\n",
       "        vertical-align: top;\n",
       "    }\n",
       "\n",
       "    .dataframe thead th {\n",
       "        text-align: right;\n",
       "    }\n",
       "</style>\n",
       "<table border=\"1\" class=\"dataframe\">\n",
       "  <thead>\n",
       "    <tr style=\"text-align: right;\">\n",
       "      <th></th>\n",
       "      <th>Agent_value</th>\n",
       "      <th>Traffic_value</th>\n",
       "      <th>TAVG</th>\n",
       "      <th>PREC</th>\n",
       "      <th>RHAVG</th>\n",
       "      <th>RAD</th>\n",
       "      <th>W_SCAL_INT</th>\n",
       "      <th>W_VEC_DIR</th>\n",
       "      <th>LEAFW</th>\n",
       "      <th>hour_sin</th>\n",
       "      <th>...</th>\n",
       "      <th>month_rbf_3</th>\n",
       "      <th>month_rbf_4</th>\n",
       "      <th>month_rbf_5</th>\n",
       "      <th>month_rbf_6</th>\n",
       "      <th>month_rbf_7</th>\n",
       "      <th>month_rbf_8</th>\n",
       "      <th>month_rbf_9</th>\n",
       "      <th>month_rbf_10</th>\n",
       "      <th>month_rbf_11</th>\n",
       "      <th>month_rbf_12</th>\n",
       "    </tr>\n",
       "    <tr>\n",
       "      <th>Date</th>\n",
       "      <th></th>\n",
       "      <th></th>\n",
       "      <th></th>\n",
       "      <th></th>\n",
       "      <th></th>\n",
       "      <th></th>\n",
       "      <th></th>\n",
       "      <th></th>\n",
       "      <th></th>\n",
       "      <th></th>\n",
       "      <th></th>\n",
       "      <th></th>\n",
       "      <th></th>\n",
       "      <th></th>\n",
       "      <th></th>\n",
       "      <th></th>\n",
       "      <th></th>\n",
       "      <th></th>\n",
       "      <th></th>\n",
       "      <th></th>\n",
       "      <th></th>\n",
       "    </tr>\n",
       "  </thead>\n",
       "  <tbody>\n",
       "    <tr>\n",
       "      <th>2019-01-02 00:00:00</th>\n",
       "      <td>0.624693</td>\n",
       "      <td>-1.001239</td>\n",
       "      <td>-1.801424</td>\n",
       "      <td>-0.137549</td>\n",
       "      <td>1.678544</td>\n",
       "      <td>-0.663642</td>\n",
       "      <td>-0.919936</td>\n",
       "      <td>0.883229</td>\n",
       "      <td>2.156313</td>\n",
       "      <td>0.000000</td>\n",
       "      <td>...</td>\n",
       "      <td>0.000335</td>\n",
       "      <td>1.522998e-08</td>\n",
       "      <td>1.266417e-14</td>\n",
       "      <td>1.928750e-22</td>\n",
       "      <td>5.380186e-32</td>\n",
       "      <td>1.928750e-22</td>\n",
       "      <td>1.266417e-14</td>\n",
       "      <td>1.522998e-08</td>\n",
       "      <td>0.000335</td>\n",
       "      <td>0.135335</td>\n",
       "    </tr>\n",
       "    <tr>\n",
       "      <th>2019-01-02 01:00:00</th>\n",
       "      <td>0.624693</td>\n",
       "      <td>-1.209222</td>\n",
       "      <td>-1.848190</td>\n",
       "      <td>-0.137549</td>\n",
       "      <td>1.688450</td>\n",
       "      <td>-0.663642</td>\n",
       "      <td>-1.140309</td>\n",
       "      <td>0.360257</td>\n",
       "      <td>2.156313</td>\n",
       "      <td>0.258819</td>\n",
       "      <td>...</td>\n",
       "      <td>0.000335</td>\n",
       "      <td>1.522998e-08</td>\n",
       "      <td>1.266417e-14</td>\n",
       "      <td>1.928750e-22</td>\n",
       "      <td>5.380186e-32</td>\n",
       "      <td>1.928750e-22</td>\n",
       "      <td>1.266417e-14</td>\n",
       "      <td>1.522998e-08</td>\n",
       "      <td>0.000335</td>\n",
       "      <td>0.135335</td>\n",
       "    </tr>\n",
       "    <tr>\n",
       "      <th>2019-01-02 02:00:00</th>\n",
       "      <td>0.386364</td>\n",
       "      <td>-1.295143</td>\n",
       "      <td>-1.848190</td>\n",
       "      <td>-0.137549</td>\n",
       "      <td>1.673591</td>\n",
       "      <td>-0.663642</td>\n",
       "      <td>-1.360681</td>\n",
       "      <td>0.420859</td>\n",
       "      <td>-0.463754</td>\n",
       "      <td>0.500000</td>\n",
       "      <td>...</td>\n",
       "      <td>0.000335</td>\n",
       "      <td>1.522998e-08</td>\n",
       "      <td>1.266417e-14</td>\n",
       "      <td>1.928750e-22</td>\n",
       "      <td>5.380186e-32</td>\n",
       "      <td>1.928750e-22</td>\n",
       "      <td>1.266417e-14</td>\n",
       "      <td>1.522998e-08</td>\n",
       "      <td>0.000335</td>\n",
       "      <td>0.135335</td>\n",
       "    </tr>\n",
       "    <tr>\n",
       "      <th>2019-01-02 03:00:00</th>\n",
       "      <td>0.306920</td>\n",
       "      <td>-1.317188</td>\n",
       "      <td>-1.941722</td>\n",
       "      <td>-0.137549</td>\n",
       "      <td>1.658732</td>\n",
       "      <td>-0.663642</td>\n",
       "      <td>-0.975029</td>\n",
       "      <td>-2.107587</td>\n",
       "      <td>-0.463754</td>\n",
       "      <td>0.707107</td>\n",
       "      <td>...</td>\n",
       "      <td>0.000335</td>\n",
       "      <td>1.522998e-08</td>\n",
       "      <td>1.266417e-14</td>\n",
       "      <td>1.928750e-22</td>\n",
       "      <td>5.380186e-32</td>\n",
       "      <td>1.928750e-22</td>\n",
       "      <td>1.266417e-14</td>\n",
       "      <td>1.522998e-08</td>\n",
       "      <td>0.000335</td>\n",
       "      <td>0.135335</td>\n",
       "    </tr>\n",
       "    <tr>\n",
       "      <th>2019-01-02 05:00:00</th>\n",
       "      <td>1.021909</td>\n",
       "      <td>-1.214913</td>\n",
       "      <td>-2.023562</td>\n",
       "      <td>-0.137549</td>\n",
       "      <td>1.658732</td>\n",
       "      <td>-0.663642</td>\n",
       "      <td>-1.360681</td>\n",
       "      <td>0.035925</td>\n",
       "      <td>-0.463754</td>\n",
       "      <td>0.965926</td>\n",
       "      <td>...</td>\n",
       "      <td>0.000335</td>\n",
       "      <td>1.522998e-08</td>\n",
       "      <td>1.266417e-14</td>\n",
       "      <td>1.928750e-22</td>\n",
       "      <td>5.380186e-32</td>\n",
       "      <td>1.928750e-22</td>\n",
       "      <td>1.266417e-14</td>\n",
       "      <td>1.522998e-08</td>\n",
       "      <td>0.000335</td>\n",
       "      <td>0.135335</td>\n",
       "    </tr>\n",
       "  </tbody>\n",
       "</table>\n",
       "<p>5 rows × 25 columns</p>\n",
       "</div>"
      ],
      "text/plain": [
       "                     Agent_value  Traffic_value      TAVG      PREC     RHAVG  \\\n",
       "Date                                                                            \n",
       "2019-01-02 00:00:00     0.624693      -1.001239 -1.801424 -0.137549  1.678544   \n",
       "2019-01-02 01:00:00     0.624693      -1.209222 -1.848190 -0.137549  1.688450   \n",
       "2019-01-02 02:00:00     0.386364      -1.295143 -1.848190 -0.137549  1.673591   \n",
       "2019-01-02 03:00:00     0.306920      -1.317188 -1.941722 -0.137549  1.658732   \n",
       "2019-01-02 05:00:00     1.021909      -1.214913 -2.023562 -0.137549  1.658732   \n",
       "\n",
       "                          RAD  W_SCAL_INT  W_VEC_DIR     LEAFW  hour_sin  ...  \\\n",
       "Date                                                                      ...   \n",
       "2019-01-02 00:00:00 -0.663642   -0.919936   0.883229  2.156313  0.000000  ...   \n",
       "2019-01-02 01:00:00 -0.663642   -1.140309   0.360257  2.156313  0.258819  ...   \n",
       "2019-01-02 02:00:00 -0.663642   -1.360681   0.420859 -0.463754  0.500000  ...   \n",
       "2019-01-02 03:00:00 -0.663642   -0.975029  -2.107587 -0.463754  0.707107  ...   \n",
       "2019-01-02 05:00:00 -0.663642   -1.360681   0.035925 -0.463754  0.965926  ...   \n",
       "\n",
       "                     month_rbf_3   month_rbf_4   month_rbf_5   month_rbf_6  \\\n",
       "Date                                                                         \n",
       "2019-01-02 00:00:00     0.000335  1.522998e-08  1.266417e-14  1.928750e-22   \n",
       "2019-01-02 01:00:00     0.000335  1.522998e-08  1.266417e-14  1.928750e-22   \n",
       "2019-01-02 02:00:00     0.000335  1.522998e-08  1.266417e-14  1.928750e-22   \n",
       "2019-01-02 03:00:00     0.000335  1.522998e-08  1.266417e-14  1.928750e-22   \n",
       "2019-01-02 05:00:00     0.000335  1.522998e-08  1.266417e-14  1.928750e-22   \n",
       "\n",
       "                      month_rbf_7   month_rbf_8   month_rbf_9  month_rbf_10  \\\n",
       "Date                                                                          \n",
       "2019-01-02 00:00:00  5.380186e-32  1.928750e-22  1.266417e-14  1.522998e-08   \n",
       "2019-01-02 01:00:00  5.380186e-32  1.928750e-22  1.266417e-14  1.522998e-08   \n",
       "2019-01-02 02:00:00  5.380186e-32  1.928750e-22  1.266417e-14  1.522998e-08   \n",
       "2019-01-02 03:00:00  5.380186e-32  1.928750e-22  1.266417e-14  1.522998e-08   \n",
       "2019-01-02 05:00:00  5.380186e-32  1.928750e-22  1.266417e-14  1.522998e-08   \n",
       "\n",
       "                     month_rbf_11  month_rbf_12  \n",
       "Date                                             \n",
       "2019-01-02 00:00:00      0.000335      0.135335  \n",
       "2019-01-02 01:00:00      0.000335      0.135335  \n",
       "2019-01-02 02:00:00      0.000335      0.135335  \n",
       "2019-01-02 03:00:00      0.000335      0.135335  \n",
       "2019-01-02 05:00:00      0.000335      0.135335  \n",
       "\n",
       "[5 rows x 25 columns]"
      ]
     },
     "execution_count": 54,
     "metadata": {},
     "output_type": "execute_result"
    }
   ],
   "source": [
    "encoded_giardini_margherita['NO2'].head(5)"
   ]
  }
 ],
 "metadata": {
  "kernelspec": {
   "display_name": ".venv",
   "language": "python",
   "name": "python3"
  },
  "language_info": {
   "codemirror_mode": {
    "name": "ipython",
    "version": 3
   },
   "file_extension": ".py",
   "mimetype": "text/x-python",
   "name": "python",
   "nbconvert_exporter": "python",
   "pygments_lexer": "ipython3",
   "version": "3.10.11"
  }
 },
 "nbformat": 4,
 "nbformat_minor": 2
}
