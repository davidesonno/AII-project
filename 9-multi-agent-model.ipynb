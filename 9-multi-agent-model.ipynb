{
 "cells": [
  {
   "cell_type": "markdown",
   "id": "c45c01a7",
   "metadata": {},
   "source": [
    "# **Using a singular model-structure to predict the data**\n"
   ]
  },
  {
   "cell_type": "markdown",
   "id": "69bb8551",
   "metadata": {},
   "source": [
    "## Data Import"
   ]
  },
  {
   "cell_type": "code",
   "execution_count": 1,
   "id": "c77ec88c",
   "metadata": {},
   "outputs": [
    {
     "name": "stdout",
     "output_type": "stream",
     "text": [
      "[]\n"
     ]
    }
   ],
   "source": [
    "%load_ext autoreload\n",
    "%autoreload 2\n",
    "\n",
    "import pandas as pd\n",
    "import matplotlib.pyplot as plt\n",
    "from datetime import datetime\n",
    "\n",
    "# Models\n",
    "import tensorflow as tf\n",
    "from sklearn.ensemble import RandomForestRegressor\n",
    "from tensorflow.keras.models import Sequential\n",
    "from tensorflow.keras.layers import LSTM, Dense, Dropout, Conv1D, GlobalAveragePooling1D, BatchNormalization\n",
    "from tensorflow.keras.optimizers import Adam\n",
    "import xgboost as xgb\n",
    "\n",
    "# Metrics\n",
    "from sklearn.metrics import root_mean_squared_error, r2_score, mean_absolute_error\n",
    "\n",
    "from sklearn.model_selection import train_test_split\n",
    "\n",
    "from utils import *\n",
    "\n",
    "datasets_folder = './datasets'\n",
    "figsize = (20,4)\n",
    "verbosity = 0\n",
    "\n",
    "metrics = [root_mean_squared_error, r2_score, mean_absolute_error, huber]\n",
    "\n",
    "tf.config.set_visible_devices([], 'GPU')\n",
    "print(tf.config.list_physical_devices('GPU'))"
   ]
  },
  {
   "cell_type": "code",
   "execution_count": 44,
   "id": "d231c60c",
   "metadata": {},
   "outputs": [],
   "source": [
    "pollution_data = read_and_preprocess_dataset(datasets_folder, 'pollution', v=verbosity)\n",
    "traffic_data = read_and_preprocess_dataset(datasets_folder, 'traffic', v=verbosity, radius=2)\n",
    "weather_data = read_and_preprocess_dataset(datasets_folder, 'weather', v=verbosity)\n",
    "\n",
    "stations = list(pollution_data.keys())\n",
    "agents = list(set(agent for station in stations for agent in pollution_data[station].keys()))"
   ]
  },
  {
   "cell_type": "markdown",
   "id": "c82a0ad5",
   "metadata": {},
   "source": [
    "## Data Merging"
   ]
  },
  {
   "cell_type": "markdown",
   "id": "60b4ea51",
   "metadata": {},
   "source": [
    "- Traffic data is per-station, but it should be normalized globally. To do so we first merge the data, we apply normalization, and later use the date and the statino to merge the data with the pollutants."
   ]
  },
  {
   "cell_type": "code",
   "execution_count": 3,
   "id": "23c86605",
   "metadata": {},
   "outputs": [
    {
     "name": "stdout",
     "output_type": "stream",
     "text": [
      "Traffic_value    0\n",
      "Station          0\n",
      "dtype: int64\n"
     ]
    },
    {
     "data": {
      "text/html": [
       "<div>\n",
       "<style scoped>\n",
       "    .dataframe tbody tr th:only-of-type {\n",
       "        vertical-align: middle;\n",
       "    }\n",
       "\n",
       "    .dataframe tbody tr th {\n",
       "        vertical-align: top;\n",
       "    }\n",
       "\n",
       "    .dataframe thead th {\n",
       "        text-align: right;\n",
       "    }\n",
       "</style>\n",
       "<table border=\"1\" class=\"dataframe\">\n",
       "  <thead>\n",
       "    <tr style=\"text-align: right;\">\n",
       "      <th></th>\n",
       "      <th>Traffic_value</th>\n",
       "      <th>Station</th>\n",
       "    </tr>\n",
       "    <tr>\n",
       "      <th>Date</th>\n",
       "      <th></th>\n",
       "      <th></th>\n",
       "    </tr>\n",
       "  </thead>\n",
       "  <tbody>\n",
       "    <tr>\n",
       "      <th>2019-01-01 00:00:00</th>\n",
       "      <td>27629.0</td>\n",
       "      <td>GIARDINI MARGHERITA</td>\n",
       "    </tr>\n",
       "    <tr>\n",
       "      <th>2019-01-01 01:00:00</th>\n",
       "      <td>44430.0</td>\n",
       "      <td>GIARDINI MARGHERITA</td>\n",
       "    </tr>\n",
       "    <tr>\n",
       "      <th>2019-01-01 02:00:00</th>\n",
       "      <td>40318.0</td>\n",
       "      <td>GIARDINI MARGHERITA</td>\n",
       "    </tr>\n",
       "    <tr>\n",
       "      <th>2019-01-01 03:00:00</th>\n",
       "      <td>25661.0</td>\n",
       "      <td>GIARDINI MARGHERITA</td>\n",
       "    </tr>\n",
       "    <tr>\n",
       "      <th>2019-01-01 04:00:00</th>\n",
       "      <td>15906.0</td>\n",
       "      <td>GIARDINI MARGHERITA</td>\n",
       "    </tr>\n",
       "    <tr>\n",
       "      <th>...</th>\n",
       "      <td>...</td>\n",
       "      <td>...</td>\n",
       "    </tr>\n",
       "    <tr>\n",
       "      <th>2024-12-31 19:00:00</th>\n",
       "      <td>19786.0</td>\n",
       "      <td>VIA CHIARINI</td>\n",
       "    </tr>\n",
       "    <tr>\n",
       "      <th>2024-12-31 20:00:00</th>\n",
       "      <td>16239.0</td>\n",
       "      <td>VIA CHIARINI</td>\n",
       "    </tr>\n",
       "    <tr>\n",
       "      <th>2024-12-31 21:00:00</th>\n",
       "      <td>7226.0</td>\n",
       "      <td>VIA CHIARINI</td>\n",
       "    </tr>\n",
       "    <tr>\n",
       "      <th>2024-12-31 22:00:00</th>\n",
       "      <td>5568.0</td>\n",
       "      <td>VIA CHIARINI</td>\n",
       "    </tr>\n",
       "    <tr>\n",
       "      <th>2024-12-31 23:00:00</th>\n",
       "      <td>4587.0</td>\n",
       "      <td>VIA CHIARINI</td>\n",
       "    </tr>\n",
       "  </tbody>\n",
       "</table>\n",
       "<p>157824 rows × 2 columns</p>\n",
       "</div>"
      ],
      "text/plain": [
       "                     Traffic_value              Station\n",
       "Date                                                   \n",
       "2019-01-01 00:00:00        27629.0  GIARDINI MARGHERITA\n",
       "2019-01-01 01:00:00        44430.0  GIARDINI MARGHERITA\n",
       "2019-01-01 02:00:00        40318.0  GIARDINI MARGHERITA\n",
       "2019-01-01 03:00:00        25661.0  GIARDINI MARGHERITA\n",
       "2019-01-01 04:00:00        15906.0  GIARDINI MARGHERITA\n",
       "...                            ...                  ...\n",
       "2024-12-31 19:00:00        19786.0         VIA CHIARINI\n",
       "2024-12-31 20:00:00        16239.0         VIA CHIARINI\n",
       "2024-12-31 21:00:00         7226.0         VIA CHIARINI\n",
       "2024-12-31 22:00:00         5568.0         VIA CHIARINI\n",
       "2024-12-31 23:00:00         4587.0         VIA CHIARINI\n",
       "\n",
       "[157824 rows x 2 columns]"
      ]
     },
     "execution_count": 3,
     "metadata": {},
     "output_type": "execute_result"
    }
   ],
   "source": [
    "merged_traffic_data = pd.concat(\n",
    "    [df.assign(Station=key) for key, df in traffic_data.items()]\n",
    ")\n",
    "print(merged_traffic_data.resample('1h').max().isna().sum())\n",
    "merged_traffic_data"
   ]
  },
  {
   "cell_type": "code",
   "execution_count": 4,
   "id": "fe7dc1ed",
   "metadata": {},
   "outputs": [
    {
     "data": {
      "text/html": [
       "<div>\n",
       "<style scoped>\n",
       "    .dataframe tbody tr th:only-of-type {\n",
       "        vertical-align: middle;\n",
       "    }\n",
       "\n",
       "    .dataframe tbody tr th {\n",
       "        vertical-align: top;\n",
       "    }\n",
       "\n",
       "    .dataframe thead th {\n",
       "        text-align: right;\n",
       "    }\n",
       "</style>\n",
       "<table border=\"1\" class=\"dataframe\">\n",
       "  <thead>\n",
       "    <tr style=\"text-align: right;\">\n",
       "      <th></th>\n",
       "      <th>Traffic_value</th>\n",
       "      <th>Station</th>\n",
       "    </tr>\n",
       "    <tr>\n",
       "      <th>Date</th>\n",
       "      <th></th>\n",
       "      <th></th>\n",
       "    </tr>\n",
       "  </thead>\n",
       "  <tbody>\n",
       "    <tr>\n",
       "      <th>2019-01-01 00:00:00</th>\n",
       "      <td>-0.366692</td>\n",
       "      <td>GIARDINI MARGHERITA</td>\n",
       "    </tr>\n",
       "    <tr>\n",
       "      <th>2019-01-01 01:00:00</th>\n",
       "      <td>0.111507</td>\n",
       "      <td>GIARDINI MARGHERITA</td>\n",
       "    </tr>\n",
       "    <tr>\n",
       "      <th>2019-01-01 02:00:00</th>\n",
       "      <td>-0.005531</td>\n",
       "      <td>GIARDINI MARGHERITA</td>\n",
       "    </tr>\n",
       "    <tr>\n",
       "      <th>2019-01-01 03:00:00</th>\n",
       "      <td>-0.422706</td>\n",
       "      <td>GIARDINI MARGHERITA</td>\n",
       "    </tr>\n",
       "    <tr>\n",
       "      <th>2019-01-01 04:00:00</th>\n",
       "      <td>-0.700359</td>\n",
       "      <td>GIARDINI MARGHERITA</td>\n",
       "    </tr>\n",
       "    <tr>\n",
       "      <th>...</th>\n",
       "      <td>...</td>\n",
       "      <td>...</td>\n",
       "    </tr>\n",
       "    <tr>\n",
       "      <th>2024-12-31 19:00:00</th>\n",
       "      <td>-0.589924</td>\n",
       "      <td>VIA CHIARINI</td>\n",
       "    </tr>\n",
       "    <tr>\n",
       "      <th>2024-12-31 20:00:00</th>\n",
       "      <td>-0.690881</td>\n",
       "      <td>VIA CHIARINI</td>\n",
       "    </tr>\n",
       "    <tr>\n",
       "      <th>2024-12-31 21:00:00</th>\n",
       "      <td>-0.947414</td>\n",
       "      <td>VIA CHIARINI</td>\n",
       "    </tr>\n",
       "    <tr>\n",
       "      <th>2024-12-31 22:00:00</th>\n",
       "      <td>-0.994605</td>\n",
       "      <td>VIA CHIARINI</td>\n",
       "    </tr>\n",
       "    <tr>\n",
       "      <th>2024-12-31 23:00:00</th>\n",
       "      <td>-1.022526</td>\n",
       "      <td>VIA CHIARINI</td>\n",
       "    </tr>\n",
       "  </tbody>\n",
       "</table>\n",
       "<p>157824 rows × 2 columns</p>\n",
       "</div>"
      ],
      "text/plain": [
       "                     Traffic_value              Station\n",
       "Date                                                   \n",
       "2019-01-01 00:00:00      -0.366692  GIARDINI MARGHERITA\n",
       "2019-01-01 01:00:00       0.111507  GIARDINI MARGHERITA\n",
       "2019-01-01 02:00:00      -0.005531  GIARDINI MARGHERITA\n",
       "2019-01-01 03:00:00      -0.422706  GIARDINI MARGHERITA\n",
       "2019-01-01 04:00:00      -0.700359  GIARDINI MARGHERITA\n",
       "...                            ...                  ...\n",
       "2024-12-31 19:00:00      -0.589924         VIA CHIARINI\n",
       "2024-12-31 20:00:00      -0.690881         VIA CHIARINI\n",
       "2024-12-31 21:00:00      -0.947414         VIA CHIARINI\n",
       "2024-12-31 22:00:00      -0.994605         VIA CHIARINI\n",
       "2024-12-31 23:00:00      -1.022526         VIA CHIARINI\n",
       "\n",
       "[157824 rows x 2 columns]"
      ]
     },
     "execution_count": 4,
     "metadata": {},
     "output_type": "execute_result"
    }
   ],
   "source": [
    "scaler = StandardScaler()\n",
    "scaled_traffic_data = merged_traffic_data.copy()\n",
    "scaled_traffic_data['Traffic_value'] = scaler.fit_transform(merged_traffic_data[['Traffic_value']])\n",
    "scaled_traffic_data"
   ]
  },
  {
   "cell_type": "markdown",
   "id": "258542d2",
   "metadata": {},
   "source": [
    "- weather data is global, we only have to normalize it."
   ]
  },
  {
   "cell_type": "code",
   "execution_count": 5,
   "id": "7c3d415a",
   "metadata": {},
   "outputs": [
    {
     "name": "stdout",
     "output_type": "stream",
     "text": [
      "TAVG          0\n",
      "PREC          0\n",
      "RHAVG         0\n",
      "RAD           0\n",
      "W_SCAL_INT    0\n",
      "W_VEC_DIR     0\n",
      "LEAFW         0\n",
      "dtype: int64\n"
     ]
    },
    {
     "data": {
      "text/html": [
       "<div>\n",
       "<style scoped>\n",
       "    .dataframe tbody tr th:only-of-type {\n",
       "        vertical-align: middle;\n",
       "    }\n",
       "\n",
       "    .dataframe tbody tr th {\n",
       "        vertical-align: top;\n",
       "    }\n",
       "\n",
       "    .dataframe thead th {\n",
       "        text-align: right;\n",
       "    }\n",
       "</style>\n",
       "<table border=\"1\" class=\"dataframe\">\n",
       "  <thead>\n",
       "    <tr style=\"text-align: right;\">\n",
       "      <th></th>\n",
       "      <th>TAVG</th>\n",
       "      <th>PREC</th>\n",
       "      <th>RHAVG</th>\n",
       "      <th>RAD</th>\n",
       "      <th>W_SCAL_INT</th>\n",
       "      <th>W_VEC_DIR</th>\n",
       "      <th>LEAFW</th>\n",
       "    </tr>\n",
       "    <tr>\n",
       "      <th>Date</th>\n",
       "      <th></th>\n",
       "      <th></th>\n",
       "      <th></th>\n",
       "      <th></th>\n",
       "      <th></th>\n",
       "      <th></th>\n",
       "      <th></th>\n",
       "    </tr>\n",
       "  </thead>\n",
       "  <tbody>\n",
       "    <tr>\n",
       "      <th>2019-01-01 00:00:00</th>\n",
       "      <td>-1.746206</td>\n",
       "      <td>-0.136824</td>\n",
       "      <td>1.318018</td>\n",
       "      <td>-0.661589</td>\n",
       "      <td>-1.419227</td>\n",
       "      <td>0.045012</td>\n",
       "      <td>-0.465156</td>\n",
       "    </tr>\n",
       "    <tr>\n",
       "      <th>2019-01-01 01:00:00</th>\n",
       "      <td>-1.828166</td>\n",
       "      <td>-0.136824</td>\n",
       "      <td>1.382433</td>\n",
       "      <td>-0.661589</td>\n",
       "      <td>-1.419227</td>\n",
       "      <td>0.846389</td>\n",
       "      <td>-0.465156</td>\n",
       "    </tr>\n",
       "    <tr>\n",
       "      <th>2019-01-01 02:00:00</th>\n",
       "      <td>-1.781331</td>\n",
       "      <td>-0.136824</td>\n",
       "      <td>1.288289</td>\n",
       "      <td>-0.661589</td>\n",
       "      <td>-1.088148</td>\n",
       "      <td>-0.523708</td>\n",
       "      <td>-0.465156</td>\n",
       "    </tr>\n",
       "    <tr>\n",
       "      <th>2019-01-01 03:00:00</th>\n",
       "      <td>-1.816457</td>\n",
       "      <td>-0.136824</td>\n",
       "      <td>1.278379</td>\n",
       "      <td>-0.661589</td>\n",
       "      <td>-1.308868</td>\n",
       "      <td>-0.171911</td>\n",
       "      <td>-0.465156</td>\n",
       "    </tr>\n",
       "    <tr>\n",
       "      <th>2019-01-01 04:00:00</th>\n",
       "      <td>-1.746206</td>\n",
       "      <td>-0.136824</td>\n",
       "      <td>1.020722</td>\n",
       "      <td>-0.661589</td>\n",
       "      <td>-1.308868</td>\n",
       "      <td>-0.357363</td>\n",
       "      <td>-0.465156</td>\n",
       "    </tr>\n",
       "    <tr>\n",
       "      <th>...</th>\n",
       "      <td>...</td>\n",
       "      <td>...</td>\n",
       "      <td>...</td>\n",
       "      <td>...</td>\n",
       "      <td>...</td>\n",
       "      <td>...</td>\n",
       "      <td>...</td>\n",
       "    </tr>\n",
       "    <tr>\n",
       "      <th>2024-12-31 19:00:00</th>\n",
       "      <td>-1.113941</td>\n",
       "      <td>-0.136824</td>\n",
       "      <td>0.743245</td>\n",
       "      <td>-0.661589</td>\n",
       "      <td>-0.260449</td>\n",
       "      <td>0.441767</td>\n",
       "      <td>-0.465156</td>\n",
       "    </tr>\n",
       "    <tr>\n",
       "      <th>2024-12-31 20:00:00</th>\n",
       "      <td>-0.985147</td>\n",
       "      <td>-0.136824</td>\n",
       "      <td>0.525228</td>\n",
       "      <td>-0.661589</td>\n",
       "      <td>0.236170</td>\n",
       "      <td>0.355222</td>\n",
       "      <td>-0.465156</td>\n",
       "    </tr>\n",
       "    <tr>\n",
       "      <th>2024-12-31 21:00:00</th>\n",
       "      <td>-1.055398</td>\n",
       "      <td>-0.136824</td>\n",
       "      <td>0.629282</td>\n",
       "      <td>-0.661589</td>\n",
       "      <td>0.236170</td>\n",
       "      <td>0.345107</td>\n",
       "      <td>-0.465156</td>\n",
       "    </tr>\n",
       "    <tr>\n",
       "      <th>2024-12-31 22:00:00</th>\n",
       "      <td>-1.043690</td>\n",
       "      <td>-0.136824</td>\n",
       "      <td>0.559913</td>\n",
       "      <td>-0.661589</td>\n",
       "      <td>0.953508</td>\n",
       "      <td>0.308016</td>\n",
       "      <td>-0.465156</td>\n",
       "    </tr>\n",
       "    <tr>\n",
       "      <th>2024-12-31 23:00:00</th>\n",
       "      <td>-1.043690</td>\n",
       "      <td>-0.136824</td>\n",
       "      <td>0.723426</td>\n",
       "      <td>-0.661589</td>\n",
       "      <td>1.229408</td>\n",
       "      <td>0.288909</td>\n",
       "      <td>-0.465156</td>\n",
       "    </tr>\n",
       "  </tbody>\n",
       "</table>\n",
       "<p>52608 rows × 7 columns</p>\n",
       "</div>"
      ],
      "text/plain": [
       "                         TAVG      PREC     RHAVG       RAD  W_SCAL_INT  \\\n",
       "Date                                                                      \n",
       "2019-01-01 00:00:00 -1.746206 -0.136824  1.318018 -0.661589   -1.419227   \n",
       "2019-01-01 01:00:00 -1.828166 -0.136824  1.382433 -0.661589   -1.419227   \n",
       "2019-01-01 02:00:00 -1.781331 -0.136824  1.288289 -0.661589   -1.088148   \n",
       "2019-01-01 03:00:00 -1.816457 -0.136824  1.278379 -0.661589   -1.308868   \n",
       "2019-01-01 04:00:00 -1.746206 -0.136824  1.020722 -0.661589   -1.308868   \n",
       "...                       ...       ...       ...       ...         ...   \n",
       "2024-12-31 19:00:00 -1.113941 -0.136824  0.743245 -0.661589   -0.260449   \n",
       "2024-12-31 20:00:00 -0.985147 -0.136824  0.525228 -0.661589    0.236170   \n",
       "2024-12-31 21:00:00 -1.055398 -0.136824  0.629282 -0.661589    0.236170   \n",
       "2024-12-31 22:00:00 -1.043690 -0.136824  0.559913 -0.661589    0.953508   \n",
       "2024-12-31 23:00:00 -1.043690 -0.136824  0.723426 -0.661589    1.229408   \n",
       "\n",
       "                     W_VEC_DIR     LEAFW  \n",
       "Date                                      \n",
       "2019-01-01 00:00:00   0.045012 -0.465156  \n",
       "2019-01-01 01:00:00   0.846389 -0.465156  \n",
       "2019-01-01 02:00:00  -0.523708 -0.465156  \n",
       "2019-01-01 03:00:00  -0.171911 -0.465156  \n",
       "2019-01-01 04:00:00  -0.357363 -0.465156  \n",
       "...                        ...       ...  \n",
       "2024-12-31 19:00:00   0.441767 -0.465156  \n",
       "2024-12-31 20:00:00   0.355222 -0.465156  \n",
       "2024-12-31 21:00:00   0.345107 -0.465156  \n",
       "2024-12-31 22:00:00   0.308016 -0.465156  \n",
       "2024-12-31 23:00:00   0.288909 -0.465156  \n",
       "\n",
       "[52608 rows x 7 columns]"
      ]
     },
     "execution_count": 5,
     "metadata": {},
     "output_type": "execute_result"
    }
   ],
   "source": [
    "scaler = StandardScaler()\n",
    "scaled_weather_data = weather_data.copy()\n",
    "scaled_weather_data[:] = scaler.fit_transform(scaled_weather_data)\n",
    "print(scaled_weather_data.resample('1h').max().isna().sum())\n",
    "scaled_weather_data"
   ]
  },
  {
   "cell_type": "markdown",
   "id": "1715cf1d",
   "metadata": {},
   "source": [
    "- The agent values should be normalized to avoid exploding losses."
   ]
  },
  {
   "cell_type": "code",
   "execution_count": 71,
   "id": "8c0c459c",
   "metadata": {},
   "outputs": [
    {
     "name": "stdout",
     "output_type": "stream",
     "text": [
      "Found 12 nan values in PM2.5-GIARDINI MARGHERITA\n"
     ]
    }
   ],
   "source": [
    "for station in stations:\n",
    "    for agent, values in pollution_data[station].items():\n",
    "        num = values.isna().sum()['Agent_value']\n",
    "        if num > 0:\n",
    "            print(f'Found {num} nan values in {agent}-{station}')\n",
    "        pollution_data[station][agent] = values.dropna()\n"
   ]
  },
  {
   "cell_type": "code",
   "execution_count": 72,
   "id": "9d1769a0",
   "metadata": {},
   "outputs": [
    {
     "name": "stdout",
     "output_type": "stream",
     "text": [
      "GIARDINI MARGHERITA\n",
      "NO2, mean:[-0.41819203], std:[0.67688521]\n",
      "O3, mean:[0.0611332], std:[0.9894924]\n",
      "PM10, mean:[-0.07123814], std:[0.98838028]\n",
      "PM2.5, mean:[-0.06631884], std:[0.98888645]\n",
      "PORTA SAN FELICE\n",
      "C6H6, mean:[-3.71905419e-17], std:[1.]\n",
      "CO, mean:[3.57996147e-16], std:[1.]\n",
      "NO2, mean:[0.79580048], std:[1.03758237]\n",
      "PM10, mean:[0.13899262], std:[1.05475162]\n",
      "PM2.5, mean:[0.06539044], std:[1.00679905]\n",
      "VIA CHIARINI\n",
      "NO2, mean:[-0.37737511], std:[0.71756737]\n",
      "O3, mean:[-0.06134909], std:[1.00671928]\n",
      "PM10, mean:[-0.06973779], std:[0.93854246]\n"
     ]
    }
   ],
   "source": [
    "for station in stations:\n",
    "    print(station)\n",
    "    for agent, values in pollution_data[station].items():\n",
    "        print(f'{agent}, mean:{values.mean().values}, std:{values.std().values}')"
   ]
  },
  {
   "cell_type": "markdown",
   "id": "a5dbacfb",
   "metadata": {},
   "source": [
    "Each agent should be normalized across all statino, since  that the model heads will be per agent and not per station-agent."
   ]
  },
  {
   "cell_type": "code",
   "execution_count": 73,
   "id": "1d17d6cf",
   "metadata": {},
   "outputs": [
    {
     "data": {
      "text/plain": [
       "{'CO': (3.579961468350639e-16, 1.0),\n",
       " 'C6H6': (-3.7190541883988067e-17, 0.9999999999999999),\n",
       " 'NO2': (-8.234660293107883e-17, 1.0),\n",
       " 'PM10': (-3.35161667811368e-17, 1.0),\n",
       " 'PM2.5': (-6.678033230828009e-17, 1.0),\n",
       " 'O3': (-4.4041620749459014e-18, 1.0)}"
      ]
     },
     "execution_count": 73,
     "metadata": {},
     "output_type": "execute_result"
    }
   ],
   "source": [
    "agent_distributions = {} # dict agent:tuple[mean, std]\n",
    "\n",
    "for agent in agents:\n",
    "    aux = pd.concat([pollution_data[station][agent] for station in stations if agent in pollution_data[station]])\n",
    "    agent_distributions[agent] = (aux.mean().values[0], aux.std().values[0])\n",
    "\n",
    "agent_distributions"
   ]
  },
  {
   "cell_type": "code",
   "execution_count": 74,
   "id": "a663e4b1",
   "metadata": {},
   "outputs": [
    {
     "name": "stdout",
     "output_type": "stream",
     "text": [
      "CO -0.0 1.0\n",
      "C6H6 -0.0 1.0\n",
      "NO2 -0.0 1.0\n",
      "PM10 -0.0 1.0\n",
      "PM2.5 -0.0 1.0\n",
      "O3 -0.0 1.0\n"
     ]
    }
   ],
   "source": [
    "normalized_pollution_data = pollution_data.copy()\n",
    "\n",
    "for station in stations:\n",
    "    for agent in normalized_pollution_data[station]:\n",
    "        normalized_pollution_data[station][agent] = (normalized_pollution_data[station][agent] - agent_distributions[agent][0]) / agent_distributions[agent][1]\n",
    "\n",
    "for agent in agents:\n",
    "    aux = pd.concat([normalized_pollution_data[station][agent] for station in stations if agent in normalized_pollution_data[station]])\n",
    "    print(agent, round(aux.mean().values[0], 2), round(aux.std().values[0], 2))"
   ]
  },
  {
   "cell_type": "markdown",
   "id": "3564b4ad",
   "metadata": {},
   "source": [
    "- We can now divide the traffic per station, merge them with the weather and create the input sequences. For every agent of the same station, the input data is the same.\n",
    "    \n",
    "    We might also want to consider adding new informations, like the date encodings and so on..."
   ]
  },
  {
   "cell_type": "code",
   "execution_count": 48,
   "id": "068a6abc",
   "metadata": {},
   "outputs": [
    {
     "data": {
      "text/plain": [
       "'GIARDINI MARGHERITA'"
      ]
     },
     "metadata": {},
     "output_type": "display_data"
    },
    {
     "data": {
      "text/plain": [
       "Traffic_value    0\n",
       "TAVG             0\n",
       "PREC             0\n",
       "RHAVG            0\n",
       "RAD              0\n",
       "W_SCAL_INT       0\n",
       "W_VEC_DIR        0\n",
       "LEAFW            0\n",
       "dtype: int64"
      ]
     },
     "metadata": {},
     "output_type": "display_data"
    },
    {
     "data": {
      "text/html": [
       "<div>\n",
       "<style scoped>\n",
       "    .dataframe tbody tr th:only-of-type {\n",
       "        vertical-align: middle;\n",
       "    }\n",
       "\n",
       "    .dataframe tbody tr th {\n",
       "        vertical-align: top;\n",
       "    }\n",
       "\n",
       "    .dataframe thead th {\n",
       "        text-align: right;\n",
       "    }\n",
       "</style>\n",
       "<table border=\"1\" class=\"dataframe\">\n",
       "  <thead>\n",
       "    <tr style=\"text-align: right;\">\n",
       "      <th></th>\n",
       "      <th>Traffic_value</th>\n",
       "      <th>TAVG</th>\n",
       "      <th>PREC</th>\n",
       "      <th>RHAVG</th>\n",
       "      <th>RAD</th>\n",
       "      <th>W_SCAL_INT</th>\n",
       "      <th>W_VEC_DIR</th>\n",
       "      <th>LEAFW</th>\n",
       "    </tr>\n",
       "    <tr>\n",
       "      <th>Date</th>\n",
       "      <th></th>\n",
       "      <th></th>\n",
       "      <th></th>\n",
       "      <th></th>\n",
       "      <th></th>\n",
       "      <th></th>\n",
       "      <th></th>\n",
       "      <th></th>\n",
       "    </tr>\n",
       "  </thead>\n",
       "  <tbody>\n",
       "    <tr>\n",
       "      <th>2019-01-01 00:00:00</th>\n",
       "      <td>-0.366692</td>\n",
       "      <td>-1.746206</td>\n",
       "      <td>-0.136824</td>\n",
       "      <td>1.318018</td>\n",
       "      <td>-0.661589</td>\n",
       "      <td>-1.419227</td>\n",
       "      <td>0.045012</td>\n",
       "      <td>-0.465156</td>\n",
       "    </tr>\n",
       "    <tr>\n",
       "      <th>2019-01-01 01:00:00</th>\n",
       "      <td>0.111507</td>\n",
       "      <td>-1.828166</td>\n",
       "      <td>-0.136824</td>\n",
       "      <td>1.382433</td>\n",
       "      <td>-0.661589</td>\n",
       "      <td>-1.419227</td>\n",
       "      <td>0.846389</td>\n",
       "      <td>-0.465156</td>\n",
       "    </tr>\n",
       "    <tr>\n",
       "      <th>2019-01-01 02:00:00</th>\n",
       "      <td>-0.005531</td>\n",
       "      <td>-1.781331</td>\n",
       "      <td>-0.136824</td>\n",
       "      <td>1.288289</td>\n",
       "      <td>-0.661589</td>\n",
       "      <td>-1.088148</td>\n",
       "      <td>-0.523708</td>\n",
       "      <td>-0.465156</td>\n",
       "    </tr>\n",
       "  </tbody>\n",
       "</table>\n",
       "</div>"
      ],
      "text/plain": [
       "                     Traffic_value      TAVG      PREC     RHAVG       RAD  \\\n",
       "Date                                                                         \n",
       "2019-01-01 00:00:00      -0.366692 -1.746206 -0.136824  1.318018 -0.661589   \n",
       "2019-01-01 01:00:00       0.111507 -1.828166 -0.136824  1.382433 -0.661589   \n",
       "2019-01-01 02:00:00      -0.005531 -1.781331 -0.136824  1.288289 -0.661589   \n",
       "\n",
       "                     W_SCAL_INT  W_VEC_DIR     LEAFW  \n",
       "Date                                                  \n",
       "2019-01-01 00:00:00   -1.419227   0.045012 -0.465156  \n",
       "2019-01-01 01:00:00   -1.419227   0.846389 -0.465156  \n",
       "2019-01-01 02:00:00   -1.088148  -0.523708 -0.465156  "
      ]
     },
     "metadata": {},
     "output_type": "display_data"
    },
    {
     "data": {
      "text/plain": [
       "'PORTA SAN FELICE'"
      ]
     },
     "metadata": {},
     "output_type": "display_data"
    },
    {
     "data": {
      "text/plain": [
       "Traffic_value    0\n",
       "TAVG             0\n",
       "PREC             0\n",
       "RHAVG            0\n",
       "RAD              0\n",
       "W_SCAL_INT       0\n",
       "W_VEC_DIR        0\n",
       "LEAFW            0\n",
       "dtype: int64"
      ]
     },
     "metadata": {},
     "output_type": "display_data"
    },
    {
     "data": {
      "text/html": [
       "<div>\n",
       "<style scoped>\n",
       "    .dataframe tbody tr th:only-of-type {\n",
       "        vertical-align: middle;\n",
       "    }\n",
       "\n",
       "    .dataframe tbody tr th {\n",
       "        vertical-align: top;\n",
       "    }\n",
       "\n",
       "    .dataframe thead th {\n",
       "        text-align: right;\n",
       "    }\n",
       "</style>\n",
       "<table border=\"1\" class=\"dataframe\">\n",
       "  <thead>\n",
       "    <tr style=\"text-align: right;\">\n",
       "      <th></th>\n",
       "      <th>Traffic_value</th>\n",
       "      <th>TAVG</th>\n",
       "      <th>PREC</th>\n",
       "      <th>RHAVG</th>\n",
       "      <th>RAD</th>\n",
       "      <th>W_SCAL_INT</th>\n",
       "      <th>W_VEC_DIR</th>\n",
       "      <th>LEAFW</th>\n",
       "    </tr>\n",
       "    <tr>\n",
       "      <th>Date</th>\n",
       "      <th></th>\n",
       "      <th></th>\n",
       "      <th></th>\n",
       "      <th></th>\n",
       "      <th></th>\n",
       "      <th></th>\n",
       "      <th></th>\n",
       "      <th></th>\n",
       "    </tr>\n",
       "  </thead>\n",
       "  <tbody>\n",
       "    <tr>\n",
       "      <th>2019-01-01 00:00:00</th>\n",
       "      <td>0.011177</td>\n",
       "      <td>-1.746206</td>\n",
       "      <td>-0.136824</td>\n",
       "      <td>1.318018</td>\n",
       "      <td>-0.661589</td>\n",
       "      <td>-1.419227</td>\n",
       "      <td>0.045012</td>\n",
       "      <td>-0.465156</td>\n",
       "    </tr>\n",
       "    <tr>\n",
       "      <th>2019-01-01 01:00:00</th>\n",
       "      <td>0.599669</td>\n",
       "      <td>-1.828166</td>\n",
       "      <td>-0.136824</td>\n",
       "      <td>1.382433</td>\n",
       "      <td>-0.661589</td>\n",
       "      <td>-1.419227</td>\n",
       "      <td>0.846389</td>\n",
       "      <td>-0.465156</td>\n",
       "    </tr>\n",
       "    <tr>\n",
       "      <th>2019-01-01 02:00:00</th>\n",
       "      <td>0.316324</td>\n",
       "      <td>-1.781331</td>\n",
       "      <td>-0.136824</td>\n",
       "      <td>1.288289</td>\n",
       "      <td>-0.661589</td>\n",
       "      <td>-1.088148</td>\n",
       "      <td>-0.523708</td>\n",
       "      <td>-0.465156</td>\n",
       "    </tr>\n",
       "  </tbody>\n",
       "</table>\n",
       "</div>"
      ],
      "text/plain": [
       "                     Traffic_value      TAVG      PREC     RHAVG       RAD  \\\n",
       "Date                                                                         \n",
       "2019-01-01 00:00:00       0.011177 -1.746206 -0.136824  1.318018 -0.661589   \n",
       "2019-01-01 01:00:00       0.599669 -1.828166 -0.136824  1.382433 -0.661589   \n",
       "2019-01-01 02:00:00       0.316324 -1.781331 -0.136824  1.288289 -0.661589   \n",
       "\n",
       "                     W_SCAL_INT  W_VEC_DIR     LEAFW  \n",
       "Date                                                  \n",
       "2019-01-01 00:00:00   -1.419227   0.045012 -0.465156  \n",
       "2019-01-01 01:00:00   -1.419227   0.846389 -0.465156  \n",
       "2019-01-01 02:00:00   -1.088148  -0.523708 -0.465156  "
      ]
     },
     "metadata": {},
     "output_type": "display_data"
    },
    {
     "data": {
      "text/plain": [
       "'VIA CHIARINI'"
      ]
     },
     "metadata": {},
     "output_type": "display_data"
    },
    {
     "data": {
      "text/plain": [
       "Traffic_value    0\n",
       "TAVG             0\n",
       "PREC             0\n",
       "RHAVG            0\n",
       "RAD              0\n",
       "W_SCAL_INT       0\n",
       "W_VEC_DIR        0\n",
       "LEAFW            0\n",
       "dtype: int64"
      ]
     },
     "metadata": {},
     "output_type": "display_data"
    },
    {
     "data": {
      "text/html": [
       "<div>\n",
       "<style scoped>\n",
       "    .dataframe tbody tr th:only-of-type {\n",
       "        vertical-align: middle;\n",
       "    }\n",
       "\n",
       "    .dataframe tbody tr th {\n",
       "        vertical-align: top;\n",
       "    }\n",
       "\n",
       "    .dataframe thead th {\n",
       "        text-align: right;\n",
       "    }\n",
       "</style>\n",
       "<table border=\"1\" class=\"dataframe\">\n",
       "  <thead>\n",
       "    <tr style=\"text-align: right;\">\n",
       "      <th></th>\n",
       "      <th>Traffic_value</th>\n",
       "      <th>TAVG</th>\n",
       "      <th>PREC</th>\n",
       "      <th>RHAVG</th>\n",
       "      <th>RAD</th>\n",
       "      <th>W_SCAL_INT</th>\n",
       "      <th>W_VEC_DIR</th>\n",
       "      <th>LEAFW</th>\n",
       "    </tr>\n",
       "    <tr>\n",
       "      <th>Date</th>\n",
       "      <th></th>\n",
       "      <th></th>\n",
       "      <th></th>\n",
       "      <th></th>\n",
       "      <th></th>\n",
       "      <th></th>\n",
       "      <th></th>\n",
       "      <th></th>\n",
       "    </tr>\n",
       "  </thead>\n",
       "  <tbody>\n",
       "    <tr>\n",
       "      <th>2019-01-01 00:00:00</th>\n",
       "      <td>-0.913856</td>\n",
       "      <td>-1.746206</td>\n",
       "      <td>-0.136824</td>\n",
       "      <td>1.318018</td>\n",
       "      <td>-0.661589</td>\n",
       "      <td>-1.419227</td>\n",
       "      <td>0.045012</td>\n",
       "      <td>-0.465156</td>\n",
       "    </tr>\n",
       "    <tr>\n",
       "      <th>2019-01-01 01:00:00</th>\n",
       "      <td>-0.724523</td>\n",
       "      <td>-1.828166</td>\n",
       "      <td>-0.136824</td>\n",
       "      <td>1.382433</td>\n",
       "      <td>-0.661589</td>\n",
       "      <td>-1.419227</td>\n",
       "      <td>0.846389</td>\n",
       "      <td>-0.465156</td>\n",
       "    </tr>\n",
       "    <tr>\n",
       "      <th>2019-01-01 02:00:00</th>\n",
       "      <td>-0.787369</td>\n",
       "      <td>-1.781331</td>\n",
       "      <td>-0.136824</td>\n",
       "      <td>1.288289</td>\n",
       "      <td>-0.661589</td>\n",
       "      <td>-1.088148</td>\n",
       "      <td>-0.523708</td>\n",
       "      <td>-0.465156</td>\n",
       "    </tr>\n",
       "  </tbody>\n",
       "</table>\n",
       "</div>"
      ],
      "text/plain": [
       "                     Traffic_value      TAVG      PREC     RHAVG       RAD  \\\n",
       "Date                                                                         \n",
       "2019-01-01 00:00:00      -0.913856 -1.746206 -0.136824  1.318018 -0.661589   \n",
       "2019-01-01 01:00:00      -0.724523 -1.828166 -0.136824  1.382433 -0.661589   \n",
       "2019-01-01 02:00:00      -0.787369 -1.781331 -0.136824  1.288289 -0.661589   \n",
       "\n",
       "                     W_SCAL_INT  W_VEC_DIR     LEAFW  \n",
       "Date                                                  \n",
       "2019-01-01 00:00:00   -1.419227   0.045012 -0.465156  \n",
       "2019-01-01 01:00:00   -1.419227   0.846389 -0.465156  \n",
       "2019-01-01 02:00:00   -1.088148  -0.523708 -0.465156  "
      ]
     },
     "metadata": {},
     "output_type": "display_data"
    }
   ],
   "source": [
    "station_data = {\n",
    "    station: pd.merge(\n",
    "        scaled_traffic_data[scaled_traffic_data['Station'] == station].drop(columns=['Station']),\n",
    "        scaled_weather_data,\n",
    "        left_index=True,\n",
    "        right_index=True\n",
    "    )\n",
    "    for station in stations\n",
    "}\n",
    "for station in station_data:\n",
    "    display(station, station_data[station].resample('1h').max().isna().sum(), station_data[station].head(3))"
   ]
  },
  {
   "cell_type": "markdown",
   "id": "1a96cd32",
   "metadata": {},
   "source": [
    "Sequences should also be indexed with the date of the last element, so that merging with the agent will be easier. To do so, we simply use one variable for the sequences and one for the dates."
   ]
  },
  {
   "cell_type": "code",
   "execution_count": 49,
   "id": "94ac2812",
   "metadata": {},
   "outputs": [],
   "source": [
    "hourly_time_steps = 3\n",
    "daily_time_steps = 24"
   ]
  },
  {
   "cell_type": "code",
   "execution_count": 50,
   "id": "ba2d443e",
   "metadata": {},
   "outputs": [],
   "source": [
    "station_sliding_windows = {}\n",
    "for station in station_data:\n",
    "    sequences, dates = create_sequences(\n",
    "        station_data[station],\n",
    "        pd.Series(station_data[station].index, index=station_data[station].index),\n",
    "        time_steps=hourly_time_steps\n",
    "    )\n",
    "    dates = dates.index.tolist()\n",
    "    station_sliding_windows[station] = sequences, dates"
   ]
  },
  {
   "cell_type": "code",
   "execution_count": 51,
   "id": "d4f0b157",
   "metadata": {},
   "outputs": [],
   "source": [
    "station_sequences = {}\n",
    "for station in station_data:\n",
    "    sequences, dates = create_sequences(\n",
    "        station_data[station],\n",
    "        pd.Series(station_data[station].index, index=station_data[station].index),\n",
    "        time_steps=daily_time_steps,\n",
    "        sliding_window=False\n",
    "    ) \n",
    "    station_sequences[station] = sequences, dates"
   ]
  },
  {
   "cell_type": "markdown",
   "id": "bd27730f",
   "metadata": {},
   "source": [
    "- At this point we should create the actual train data composed of sequence + agentID and the target values. We could of course create an huge dataset and directly use it, but I dont know if it is too big and with too many repeated values (sequences are repeated for each agent and each sequence share some rows).\n",
    "\n",
    "    <!-- For now, I simply try to make a dataset made of `in=(station_date, sequence)`, `x=(station_date, agent)` and `y=(target)`. I don't want the model to learn station and agent.  -->\n",
    "    The model should be able to take a batch and use the dates to access the sequences, create the embeddings, and use the agent to predict the concentration using the correct classification head. Since that we have to map a dict would be suitable for fast data access.\n",
    "\n",
    "- Also, at this point we have to divide hourly and daily agents because the embedding we are trying to create for the stations can be quite different. For example if we have to predict an hourly pollutant, we might want to use 3/5 prev. hours. For daily agents instead, the whole 24 hours might be helpful."
   ]
  },
  {
   "cell_type": "code",
   "execution_count": 152,
   "id": "f4b103ba",
   "metadata": {},
   "outputs": [],
   "source": [
    "def create_key(station, date):\n",
    "    return (station+' '+str(date)).replace(' ','_')\n",
    "\n",
    "def sort_lists(timestamps, list_a, list_b, list_c):\n",
    "    combined = list(zip(timestamps, list_a, list_b, list_c))\n",
    "    combined_sorted = sorted(combined, key=lambda x: x[0])\n",
    "    return map(list, zip(*combined_sorted))\n",
    "\n",
    "\n",
    "hourly_input_data = {}\n",
    "daily_input_data = {}\n",
    "for station in station_sequences:\n",
    "    for seq, date in zip(station_sliding_windows[station][0], station_sliding_windows[station][1]):\n",
    "        hourly_input_data[create_key(station, date)] = seq\n",
    "    for seq, date in zip(station_sequences[station][0], station_sequences[station][1]):\n",
    "        daily_input_data[create_key(station, date)] = seq\n",
    "\n",
    "h_dates = []\n",
    "h_keys = []\n",
    "h_agentsIDs = []\n",
    "h_values = []\n",
    "\n",
    "d_dates = []\n",
    "d_keys = []\n",
    "d_agentsIDs = []\n",
    "d_values = []\n",
    "\n",
    "for station in pollution_data:\n",
    "    for agent in pollution_data[station]:\n",
    "        for target, date in zip(pollution_data[station][agent]['Agent_value'], pollution_data[station][agent].index):\n",
    "            if agent in ('PM10', 'PM2.5'):\n",
    "                d_dates.append(date)\n",
    "                d_keys.append(create_key(station, date))\n",
    "                d_agentsIDs.append(agents.index(agent))\n",
    "                d_values.append(target)\n",
    "            else: \n",
    "                h_dates.append(date)\n",
    "                h_keys.append(create_key(station, date))\n",
    "                h_agentsIDs.append(agents.index(agent))\n",
    "                h_values.append(target)\n",
    "\n",
    "# sort the arrays using the dates\n",
    "h_dates, h_keys, h_agentsIDs, h_values = sort_lists(h_dates, h_keys, h_agentsIDs, h_values)\n",
    "\n",
    "d_dates, d_keys, d_agentsIDs, d_values = sort_lists(d_dates, d_keys, d_agentsIDs, d_values)\n"
   ]
  },
  {
   "cell_type": "code",
   "execution_count": 153,
   "id": "74a870cc",
   "metadata": {},
   "outputs": [
    {
     "name": "stdout",
     "output_type": "stream",
     "text": [
      "NaN in h_values: False\n",
      "NaN in d_values: False\n"
     ]
    }
   ],
   "source": [
    "print(\"NaN in h_values:\", np.isnan(h_values).any())\n",
    "print(\"NaN in d_values:\", np.isnan(d_values).any())"
   ]
  },
  {
   "cell_type": "markdown",
   "id": "75079162",
   "metadata": {},
   "source": [
    "## Dataset"
   ]
  },
  {
   "cell_type": "markdown",
   "id": "8923a09b",
   "metadata": {},
   "source": [
    "- The model will use a TensorFlow DataSet for better something (something's gotta be better right?)."
   ]
  },
  {
   "cell_type": "markdown",
   "id": "fcc5a9d2",
   "metadata": {},
   "source": [
    "Remove rows if there is no input data"
   ]
  },
  {
   "cell_type": "code",
   "execution_count": null,
   "id": "f10699b5",
   "metadata": {},
   "outputs": [],
   "source": [
    "# Filter for hourly data\n",
    "valid_h_indices = [i for i, k in enumerate(h_keys) if k in hourly_input_data]\n",
    "h_keys       = [h_keys[i]       for i in valid_h_indices]\n",
    "h_agentsIDs  = [h_agentsIDs[i]  for i in valid_h_indices]\n",
    "h_values     = [h_values[i]     for i in valid_h_indices]\n",
    "h_dates      = [h_dates[i]      for i in valid_h_indices]\n",
    "\n",
    "# Filter for daily data\n",
    "valid_d_indices = [i for i, k in enumerate(d_keys) if k in daily_input_data]\n",
    "d_keys       = [d_keys[i]       for i in valid_d_indices]\n",
    "d_agentsIDs  = [d_agentsIDs[i]  for i in valid_d_indices]\n",
    "d_values     = [d_values[i]     for i in valid_d_indices]\n",
    "d_dates      = [d_dates[i]      for i in valid_d_indices]"
   ]
  },
  {
   "cell_type": "code",
   "execution_count": 155,
   "id": "5f79ec5d",
   "metadata": {},
   "outputs": [],
   "source": [
    "def make_tf_loader(data_dict, time_steps, features):\n",
    "    def _load_sample(key, task_id, y):\n",
    "        k = key.numpy().decode(\"utf-8\")\n",
    "        x = data_dict[k].astype(\"float32\")   # [time_steps, features]\n",
    "        return x, task_id, y\n",
    "\n",
    "    def _tf_load(key, task_id, y):\n",
    "        x, t, yy = tf.py_function(\n",
    "            func=_load_sample,\n",
    "            inp=[key, task_id, y],\n",
    "            Tout=[tf.float32, tf.int32, tf.float32]\n",
    "        )\n",
    "        # set static shapes so batching works\n",
    "        x.set_shape([time_steps, features])\n",
    "        t.set_shape([])\n",
    "        yy.set_shape([])\n",
    "        return x, t, yy\n",
    "\n",
    "    return _tf_load\n",
    "\n",
    "hourly_input_shape = (list(hourly_input_data.values())[0]).shape\n",
    "daily_input_shape =  (list(daily_input_data.values())[0]).shape\n",
    "h_loader = make_tf_loader(hourly_input_data, *hourly_input_shape)\n",
    "d_loader = make_tf_loader(daily_input_data, *daily_input_shape)\n",
    "\n",
    "hourly_dataset = tf.data.Dataset.from_tensor_slices((h_keys, h_agentsIDs, h_values))\n",
    "daily_dataset = tf.data.Dataset.from_tensor_slices((d_keys, d_agentsIDs, d_values))\n",
    "\n",
    "hourly_dataset = hourly_dataset.map(h_loader, num_parallel_calls=tf.data.AUTOTUNE)\n",
    "daily_dataset = daily_dataset.map(d_loader, num_parallel_calls=tf.data.AUTOTUNE)"
   ]
  },
  {
   "cell_type": "markdown",
   "id": "54dd2f11",
   "metadata": {},
   "source": [
    "### Model"
   ]
  },
  {
   "cell_type": "markdown",
   "id": "8ecb83ab",
   "metadata": {},
   "source": [
    "- As we said earlier, the model should be able to use the station and date to access the actual training sequences."
   ]
  },
  {
   "cell_type": "code",
   "execution_count": null,
   "id": "c3545299",
   "metadata": {},
   "outputs": [],
   "source": [
    "class MultiAgentModel(tf.keras.Model):\n",
    "    def __init__(\n",
    "        self,\n",
    "        input_shape,\n",
    "        task_ids,  # e.g. [2, 5]\n",
    "        lstm_units=(128, 64),\n",
    "        head_hidden_units=32,\n",
    "    ):\n",
    "        super().__init__()\n",
    "        self.task_ids = tf.constant(task_ids, dtype=tf.int32)\n",
    "        self.task_id_to_index = {int(tid): i for i, tid in enumerate(task_ids)}  # id → index\n",
    "\n",
    "        self.encoder = tf.keras.Sequential(name=\"encoder\")\n",
    "        self.encoder.add(tf.keras.layers.Masking(input_shape=input_shape))\n",
    "        for i, units in enumerate(lstm_units):\n",
    "            self.encoder.add(tf.keras.layers.LSTM(\n",
    "                units, return_sequences=(i < len(lstm_units) - 1), name=f\"lstm_{i}\"\n",
    "            ))\n",
    "\n",
    "        self.heads = []\n",
    "        for tid in task_ids:\n",
    "            head = tf.keras.Sequential(name=f\"head_agent_{tid}\")\n",
    "            head.add(tf.keras.layers.InputLayer(input_shape=(lstm_units[-1],)))\n",
    "            head.add(tf.keras.layers.Dense(head_hidden_units, activation=\"relu\"))\n",
    "            head.add(tf.keras.layers.Dense(1))\n",
    "            self.heads.append(head)\n",
    "\n",
    "    def call(self, inputs, training=False):\n",
    "        x, task_ids = inputs  # x: [B, T, F], task_ids: [B]\n",
    "\n",
    "        # 1. Encode sequence\n",
    "        embs = self.encoder(x, training=training)  # [B, D]\n",
    "\n",
    "        # 2. Map task_ids → head indices\n",
    "        lookup_table = tf.lookup.StaticHashTable(\n",
    "            tf.lookup.KeyValueTensorInitializer(\n",
    "                keys=tf.constant(list(self.task_id_to_index.keys()), dtype=tf.int32),\n",
    "                values=tf.constant(list(self.task_id_to_index.values()), dtype=tf.int32),\n",
    "            ),\n",
    "            default_value=-1\n",
    "        )\n",
    "        head_indices = lookup_table.lookup(task_ids)  # [B]\n",
    "\n",
    "        # 3. Apply each head using tf.map_fn + tf.switch_case\n",
    "        def apply_head(i):\n",
    "            emb_i, head_idx = i\n",
    "\n",
    "            def case_fn(j):\n",
    "                return lambda: self.heads[j](tf.expand_dims(emb_i, axis=0), training=training)\n",
    "\n",
    "            # Build cases for switch_case\n",
    "            branches = [case_fn(j) for j in range(len(self.heads))]\n",
    "\n",
    "            out = tf.switch_case(head_idx, branch_fns=branches)\n",
    "            return out[0]  # [1] → scalar\n",
    "\n",
    "        preds = tf.map_fn(\n",
    "            apply_head,\n",
    "            (embs, head_indices),\n",
    "            fn_output_signature=tf.TensorSpec(shape=(1,), dtype=tf.float32)\n",
    "        )\n",
    "\n",
    "        return tf.squeeze(preds, axis=1)  # [B]\n",
    "\n",
    "    def train_step(self, data):\n",
    "        x_batch, task_ids, y_batch = data\n",
    "        with tf.GradientTape() as tape:\n",
    "            preds = self((x_batch, task_ids), training=True)\n",
    "            loss = self.compiled_loss(y_batch, preds)\n",
    "        grads = tape.gradient(loss, self.trainable_variables)\n",
    "        self.optimizer.apply_gradients(zip(grads, self.trainable_variables))\n",
    "        self.compiled_metrics.update_state(y_batch, preds)\n",
    "        return {m.name: m.result() for m in self.metrics}\n",
    "\n",
    "    def test_step(self, data):\n",
    "        x_batch, task_ids, y_batch = data\n",
    "        preds = self((x_batch, task_ids), training=False)\n",
    "        loss = self.compiled_loss(y_batch, preds)\n",
    "        self.compiled_metrics.update_state(y_batch, preds)\n",
    "        return {m.name: m.result() for m in self.metrics}\n"
   ]
  },
  {
   "cell_type": "markdown",
   "id": "1a404416",
   "metadata": {},
   "source": [
    "## Training"
   ]
  },
  {
   "cell_type": "code",
   "execution_count": 157,
   "id": "0c5c9865",
   "metadata": {},
   "outputs": [],
   "source": [
    "def split_dataset(ds, test_frac=0.15, val_frac=0.1, batch_size=32):\n",
    "    total_size = len(list(ds))  # you can also use len(h_keys) or h_ds_raw.cardinality()\n",
    "    test_size  = int(test_frac * total_size)\n",
    "    val_size   = int(val_frac * (total_size - test_size))  # Val split after test\n",
    "    train_size = total_size - test_size - val_size\n",
    "\n",
    "    # Split into test and train\n",
    "    test_ds = ds.take(test_size)\n",
    "    train_ds = ds.skip(test_size)\n",
    "\n",
    "    # Shuffle the train set\n",
    "    train_ds = train_ds.shuffle(train_size, seed=42)\n",
    "\n",
    "    # Now split train into train and validation\n",
    "    val_ds = train_ds.take(val_size)\n",
    "    train_ds = train_ds.skip(val_size)\n",
    "\n",
    "    return (\n",
    "        train_ds.batch(batch_size).prefetch(tf.data.AUTOTUNE),\n",
    "        val_ds.batch(batch_size).prefetch(tf.data.AUTOTUNE),\n",
    "        test_ds.batch(batch_size).prefetch(tf.data.AUTOTUNE)\n",
    "    )\n"
   ]
  },
  {
   "cell_type": "code",
   "execution_count": 158,
   "id": "3fe492b8",
   "metadata": {},
   "outputs": [],
   "source": [
    "batch_size = 32\n",
    "\n",
    "h_train, h_val, h_test = split_dataset(hourly_dataset, batch_size=batch_size)\n",
    "d_train, d_val, d_test = split_dataset(daily_dataset, batch_size=batch_size)"
   ]
  },
  {
   "cell_type": "markdown",
   "id": "cfb10552",
   "metadata": {},
   "source": [
    "### Daily"
   ]
  },
  {
   "cell_type": "code",
   "execution_count": 175,
   "id": "1377969c",
   "metadata": {},
   "outputs": [
    {
     "name": "stdout",
     "output_type": "stream",
     "text": [
      "Epoch 1/10\n",
      "253/253 [==============================] - 20s 47ms/step - loss: 0.6603 - mae: 0.5701 - val_loss: 0.5376 - val_mae: 0.5026\n",
      "Epoch 2/10\n",
      "253/253 [==============================] - 12s 40ms/step - loss: 0.5424 - mae: 0.5089 - val_loss: 0.4783 - val_mae: 0.4721\n",
      "Epoch 3/10\n",
      "253/253 [==============================] - 13s 45ms/step - loss: 0.5197 - mae: 0.4957 - val_loss: 0.4908 - val_mae: 0.4967\n",
      "Epoch 4/10\n",
      "253/253 [==============================] - 13s 43ms/step - loss: 0.4988 - mae: 0.4847 - val_loss: 0.4644 - val_mae: 0.4895\n",
      "Epoch 5/10\n",
      "253/253 [==============================] - 13s 43ms/step - loss: 0.4905 - mae: 0.4794 - val_loss: 0.4902 - val_mae: 0.4603\n",
      "Epoch 6/10\n",
      "253/253 [==============================] - 12s 39ms/step - loss: 0.4816 - mae: 0.4754 - val_loss: 0.3669 - val_mae: 0.4223\n",
      "Epoch 7/10\n",
      "253/253 [==============================] - 12s 39ms/step - loss: 0.4714 - mae: 0.4675 - val_loss: 0.5641 - val_mae: 0.5086\n",
      "Epoch 8/10\n",
      "253/253 [==============================] - 12s 39ms/step - loss: 0.4655 - mae: 0.4640 - val_loss: 0.3866 - val_mae: 0.4140\n",
      "Epoch 9/10\n",
      "253/253 [==============================] - 12s 38ms/step - loss: 0.4635 - mae: 0.4651 - val_loss: 0.3517 - val_mae: 0.4194\n",
      "Epoch 10/10\n",
      "253/253 [==============================] - 12s 39ms/step - loss: 0.4438 - mae: 0.4556 - val_loss: 0.4746 - val_mae: 0.4522\n"
     ]
    },
    {
     "data": {
      "image/png": "[encoded data removed]",
      "text/plain": [
       "<Figure size 1200x500 with 1 Axes>"
      ]
     },
     "metadata": {},
     "output_type": "display_data"
    }
   ],
   "source": [
    "d_model = MultiAgentModel(\n",
    "    input_shape=daily_input_shape,\n",
    "    task_ids=[agents.index(agent) for agent in ('PM10','PM2.5')],\n",
    "    lstm_units=(128, 64),\n",
    "    head_hidden_units=32,\n",
    ")\n",
    "\n",
    "d_model.compile(\n",
    "    tf.keras.optimizers.Adam(learning_rate=1e-4),\n",
    "    loss=\"mse\",       # mean squared error for regression\n",
    "    metrics=[\"mae\"],  # mean absolute error\n",
    "    weighted_metrics=[]\n",
    ")\n",
    "\n",
    "d_hist = d_model.fit(\n",
    "    x=d_train,\n",
    "    validation_data=d_val,\n",
    "    epochs=10\n",
    ")\n",
    "plot_history(d_hist)"
   ]
  },
  {
   "cell_type": "code",
   "execution_count": 177,
   "id": "009b2b4c",
   "metadata": {},
   "outputs": [
    {
     "name": "stdout",
     "output_type": "stream",
     "text": [
      "50/50 [==============================] - 3s 11ms/step\n"
     ]
    }
   ],
   "source": [
    "results = d_model.predict(d_test.map(lambda s, a, v: ((s, a),))) # don't pass the target values"
   ]
  },
  {
   "cell_type": "code",
   "execution_count": 178,
   "id": "3cc51422",
   "metadata": {},
   "outputs": [
    {
     "name": "stdout",
     "output_type": "stream",
     "text": [
      "[3 4]\n"
     ]
    },
    {
     "data": {
      "image/png": "[encoded data removed]",
      "text/plain": [
       "<Figure size 2000x500 with 1 Axes>"
      ]
     },
     "metadata": {},
     "output_type": "display_data"
    }
   ],
   "source": [
    "true_values = []\n",
    "agents_idx = []\n",
    "# seqs = []\n",
    "for k, a, v in d_test:\n",
    "    true_values.extend(v.numpy())\n",
    "    agents_idx.extend(a.numpy())\n",
    "    # seqs.extend(k.numpy())\n",
    "\n",
    "print(np.unique(agents_idx))\n",
    "\n",
    "plt.figure(figsize=(20,5))\n",
    "plt.plot(results, label='Predictions')\n",
    "plt.plot(true_values, label='True values')\n",
    "plt.legend()\n",
    "plt.show()"
   ]
  }
 ],
 "metadata": {
  "kernelspec": {
   "display_name": ".venv",
   "language": "python",
   "name": "python3"
  },
  "language_info": {
   "codemirror_mode": {
    "name": "ipython",
    "version": 3
   },
   "file_extension": ".py",
   "mimetype": "text/x-python",
   "name": "python",
   "nbconvert_exporter": "python",
   "pygments_lexer": "ipython3",
   "version": "3.10.11"
  }
 },
 "nbformat": 4,
 "nbformat_minor": 5
}
