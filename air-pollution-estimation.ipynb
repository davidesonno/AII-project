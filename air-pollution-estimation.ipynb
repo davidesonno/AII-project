{
 "cells": [
  {
   "cell_type": "markdown",
   "metadata": {},
   "source": [
    "# Air pollution estimation"
   ]
  },
  {
   "cell_type": "code",
   "execution_count": 2,
   "metadata": {},
   "outputs": [],
   "source": [
    "import pandas as pd\n",
    "import numpy as np\n",
    "import os\n",
    "import matplotlib.pyplot as plt\n",
    "\n",
    "from utils import *\n",
    "\n",
    "datasets_folder = './datasets'"
   ]
  },
  {
   "cell_type": "markdown",
   "metadata": {},
   "source": [
    "## Dataframe creation"
   ]
  },
  {
   "cell_type": "markdown",
   "metadata": {},
   "source": [
    "### Air pollution Dataset"
   ]
  },
  {
   "cell_type": "code",
   "execution_count": 3,
   "metadata": {},
   "outputs": [
    {
     "data": {
      "text/html": [
       "<div>\n",
       "<style scoped>\n",
       "    .dataframe tbody tr th:only-of-type {\n",
       "        vertical-align: middle;\n",
       "    }\n",
       "\n",
       "    .dataframe tbody tr th {\n",
       "        vertical-align: top;\n",
       "    }\n",
       "\n",
       "    .dataframe thead th {\n",
       "        text-align: right;\n",
       "    }\n",
       "</style>\n",
       "<table border=\"1\" class=\"dataframe\">\n",
       "  <thead>\n",
       "    <tr style=\"text-align: right;\">\n",
       "      <th></th>\n",
       "      <th>COD_STAZ</th>\n",
       "      <th>AGENTE</th>\n",
       "      <th>DATA_INIZIO</th>\n",
       "      <th>DATA_FINE</th>\n",
       "      <th>VALORE</th>\n",
       "      <th>UM</th>\n",
       "    </tr>\n",
       "  </thead>\n",
       "  <tbody>\n",
       "    <tr>\n",
       "      <th>0</th>\n",
       "      <td>VIA CHIARINI</td>\n",
       "      <td>O3 (OZONO)</td>\n",
       "      <td>2024-07-30T17:01:00+02:00</td>\n",
       "      <td>2024-07-30T18:00:00+02:00</td>\n",
       "      <td>117.0</td>\n",
       "      <td>ug/m3</td>\n",
       "    </tr>\n",
       "    <tr>\n",
       "      <th>1</th>\n",
       "      <td>VIA CHIARINI</td>\n",
       "      <td>O3 (OZONO)</td>\n",
       "      <td>2024-07-31T13:01:00+02:00</td>\n",
       "      <td>2024-07-31T14:00:00+02:00</td>\n",
       "      <td>162.0</td>\n",
       "      <td>ug/m3</td>\n",
       "    </tr>\n",
       "    <tr>\n",
       "      <th>2</th>\n",
       "      <td>VIA CHIARINI</td>\n",
       "      <td>O3 (OZONO)</td>\n",
       "      <td>2024-08-01T01:01:00+02:00</td>\n",
       "      <td>2024-08-01T02:00:00+02:00</td>\n",
       "      <td>74.0</td>\n",
       "      <td>ug/m3</td>\n",
       "    </tr>\n",
       "  </tbody>\n",
       "</table>\n",
       "</div>"
      ],
      "text/plain": [
       "       COD_STAZ      AGENTE                DATA_INIZIO  \\\n",
       "0  VIA CHIARINI  O3 (OZONO)  2024-07-30T17:01:00+02:00   \n",
       "1  VIA CHIARINI  O3 (OZONO)  2024-07-31T13:01:00+02:00   \n",
       "2  VIA CHIARINI  O3 (OZONO)  2024-08-01T01:01:00+02:00   \n",
       "\n",
       "                   DATA_FINE  VALORE     UM  \n",
       "0  2024-07-30T18:00:00+02:00   117.0  ug/m3  \n",
       "1  2024-07-31T14:00:00+02:00   162.0  ug/m3  \n",
       "2  2024-08-01T02:00:00+02:00    74.0  ug/m3  "
      ]
     },
     "execution_count": 3,
     "metadata": {},
     "output_type": "execute_result"
    }
   ],
   "source": [
    "air_pollution_dataset = os.path.join(datasets_folder,'pollution/pollution.csv')\n",
    "\n",
    "air_pollution_df = pd.read_csv(air_pollution_dataset, sep=';')\n",
    "air_pollution_df.head(3)"
   ]
  },
  {
   "cell_type": "markdown",
   "metadata": {},
   "source": [
    "### Traffic Dataset"
   ]
  },
  {
   "cell_type": "code",
   "execution_count": 4,
   "metadata": {},
   "outputs": [
    {
     "name": "stdout",
     "output_type": "stream",
     "text": [
      "Merged 6 CSV files\n",
      "Merged 6 CSV files\n"
     ]
    }
   ],
   "source": [
    "traffic_folder = os.path.join(datasets_folder,'traffic')\n",
    "\n",
    "readings_df = merge_csv_to_dataframe(os.path.join(traffic_folder, 'readings'), sep=';')\n",
    "accuracies_df = merge_csv_to_dataframe(os.path.join(traffic_folder, 'accuracies'), sep=';')"
   ]
  },
  {
   "cell_type": "code",
   "execution_count": 5,
   "metadata": {},
   "outputs": [
    {
     "data": {
      "text/html": [
       "<div>\n",
       "<style scoped>\n",
       "    .dataframe tbody tr th:only-of-type {\n",
       "        vertical-align: middle;\n",
       "    }\n",
       "\n",
       "    .dataframe tbody tr th {\n",
       "        vertical-align: top;\n",
       "    }\n",
       "\n",
       "    .dataframe thead th {\n",
       "        text-align: right;\n",
       "    }\n",
       "</style>\n",
       "<table border=\"1\" class=\"dataframe\">\n",
       "  <thead>\n",
       "    <tr style=\"text-align: right;\">\n",
       "      <th></th>\n",
       "      <th>data</th>\n",
       "      <th>codice spira</th>\n",
       "      <th>00:00-01:00</th>\n",
       "      <th>01:00-02:00</th>\n",
       "      <th>02:00-03:00</th>\n",
       "      <th>03:00-04:00</th>\n",
       "      <th>04:00-05:00</th>\n",
       "      <th>05:00-06:00</th>\n",
       "      <th>06:00-07:00</th>\n",
       "      <th>07:00-08:00</th>\n",
       "      <th>...</th>\n",
       "      <th>stato</th>\n",
       "      <th>codimpsem</th>\n",
       "      <th>direzione</th>\n",
       "      <th>angolo</th>\n",
       "      <th>longitudine</th>\n",
       "      <th>latitudine</th>\n",
       "      <th>geopoint</th>\n",
       "      <th>ID_univoco_stazione_spira</th>\n",
       "      <th>giorno settimana</th>\n",
       "      <th>Giorno della settimana</th>\n",
       "    </tr>\n",
       "  </thead>\n",
       "  <tbody>\n",
       "    <tr>\n",
       "      <th>0</th>\n",
       "      <td>2023-12-12</td>\n",
       "      <td>3.17 3.18 6 2</td>\n",
       "      <td>33</td>\n",
       "      <td>23</td>\n",
       "      <td>17</td>\n",
       "      <td>10</td>\n",
       "      <td>26</td>\n",
       "      <td>53</td>\n",
       "      <td>93</td>\n",
       "      <td>292</td>\n",
       "      <td>...</td>\n",
       "      <td>A</td>\n",
       "      <td>401.0</td>\n",
       "      <td>NaN</td>\n",
       "      <td>2.0</td>\n",
       "      <td>11.348231</td>\n",
       "      <td>44.521548</td>\n",
       "      <td>44.5215481671945, 11.348230662166</td>\n",
       "      <td>532.0</td>\n",
       "      <td>Martedì</td>\n",
       "      <td>NaN</td>\n",
       "    </tr>\n",
       "    <tr>\n",
       "      <th>1</th>\n",
       "      <td>2023-12-12</td>\n",
       "      <td>3.17 3.19 2 3</td>\n",
       "      <td>48</td>\n",
       "      <td>18</td>\n",
       "      <td>12</td>\n",
       "      <td>15</td>\n",
       "      <td>42</td>\n",
       "      <td>101</td>\n",
       "      <td>194</td>\n",
       "      <td>592</td>\n",
       "      <td>...</td>\n",
       "      <td>A</td>\n",
       "      <td>401.0</td>\n",
       "      <td>NaN</td>\n",
       "      <td>182.0</td>\n",
       "      <td>11.348157</td>\n",
       "      <td>44.521549</td>\n",
       "      <td>44.5215485863886, 11.3481566444247</td>\n",
       "      <td>534.0</td>\n",
       "      <td>Martedì</td>\n",
       "      <td>NaN</td>\n",
       "    </tr>\n",
       "    <tr>\n",
       "      <th>2</th>\n",
       "      <td>2023-12-12</td>\n",
       "      <td>3.18 0.127 4 1</td>\n",
       "      <td>12</td>\n",
       "      <td>4</td>\n",
       "      <td>3</td>\n",
       "      <td>6</td>\n",
       "      <td>3</td>\n",
       "      <td>26</td>\n",
       "      <td>29</td>\n",
       "      <td>70</td>\n",
       "      <td>...</td>\n",
       "      <td>A</td>\n",
       "      <td>213.0</td>\n",
       "      <td>O</td>\n",
       "      <td>70.0</td>\n",
       "      <td>11.349238</td>\n",
       "      <td>44.525276</td>\n",
       "      <td>44.5252762330901, 11.3492381515612</td>\n",
       "      <td>535.0</td>\n",
       "      <td>Martedì</td>\n",
       "      <td>NaN</td>\n",
       "    </tr>\n",
       "  </tbody>\n",
       "</table>\n",
       "<p>3 rows × 46 columns</p>\n",
       "</div>"
      ],
      "text/plain": [
       "         data    codice spira  00:00-01:00  01:00-02:00  02:00-03:00  \\\n",
       "0  2023-12-12   3.17 3.18 6 2           33           23           17   \n",
       "1  2023-12-12   3.17 3.19 2 3           48           18           12   \n",
       "2  2023-12-12  3.18 0.127 4 1           12            4            3   \n",
       "\n",
       "   03:00-04:00  04:00-05:00  05:00-06:00  06:00-07:00  07:00-08:00  ...  \\\n",
       "0           10           26           53           93          292  ...   \n",
       "1           15           42          101          194          592  ...   \n",
       "2            6            3           26           29           70  ...   \n",
       "\n",
       "   stato  codimpsem  direzione  angolo  longitudine  latitudine  \\\n",
       "0      A      401.0        NaN     2.0    11.348231   44.521548   \n",
       "1      A      401.0        NaN   182.0    11.348157   44.521549   \n",
       "2      A      213.0          O    70.0    11.349238   44.525276   \n",
       "\n",
       "                             geopoint  ID_univoco_stazione_spira  \\\n",
       "0   44.5215481671945, 11.348230662166                      532.0   \n",
       "1  44.5215485863886, 11.3481566444247                      534.0   \n",
       "2  44.5252762330901, 11.3492381515612                      535.0   \n",
       "\n",
       "   giorno settimana  Giorno della settimana  \n",
       "0           Martedì                     NaN  \n",
       "1           Martedì                     NaN  \n",
       "2           Martedì                     NaN  \n",
       "\n",
       "[3 rows x 46 columns]"
      ]
     },
     "execution_count": 5,
     "metadata": {},
     "output_type": "execute_result"
    }
   ],
   "source": [
    "readings_df.head(3)"
   ]
  },
  {
   "cell_type": "code",
   "execution_count": 6,
   "metadata": {},
   "outputs": [
    {
     "data": {
      "text/html": [
       "<div>\n",
       "<style scoped>\n",
       "    .dataframe tbody tr th:only-of-type {\n",
       "        vertical-align: middle;\n",
       "    }\n",
       "\n",
       "    .dataframe tbody tr th {\n",
       "        vertical-align: top;\n",
       "    }\n",
       "\n",
       "    .dataframe thead th {\n",
       "        text-align: right;\n",
       "    }\n",
       "</style>\n",
       "<table border=\"1\" class=\"dataframe\">\n",
       "  <thead>\n",
       "    <tr style=\"text-align: right;\">\n",
       "      <th></th>\n",
       "      <th>data</th>\n",
       "      <th>codice spira</th>\n",
       "      <th>00:00-01:00</th>\n",
       "      <th>01:00-02:00</th>\n",
       "      <th>02:00-03:00</th>\n",
       "      <th>03:00-04:00</th>\n",
       "      <th>04:00-05:00</th>\n",
       "      <th>05:00-06:00</th>\n",
       "      <th>06:00-07:00</th>\n",
       "      <th>07:00-08:00</th>\n",
       "      <th>...</th>\n",
       "      <th>14:00-15:00</th>\n",
       "      <th>15:00-16:00</th>\n",
       "      <th>16:00-17:00</th>\n",
       "      <th>17:00-18:00</th>\n",
       "      <th>18:00-19:00</th>\n",
       "      <th>19:00-20:00</th>\n",
       "      <th>20:00-21:00</th>\n",
       "      <th>21:00-22:00</th>\n",
       "      <th>22:00-23:00</th>\n",
       "      <th>23:00-24:00</th>\n",
       "    </tr>\n",
       "  </thead>\n",
       "  <tbody>\n",
       "    <tr>\n",
       "      <th>0</th>\n",
       "      <td>2019-01-14</td>\n",
       "      <td>4.30 4.96 4 1</td>\n",
       "      <td>100%</td>\n",
       "      <td>100%</td>\n",
       "      <td>100%</td>\n",
       "      <td>100%</td>\n",
       "      <td>100%</td>\n",
       "      <td>100%</td>\n",
       "      <td>100%</td>\n",
       "      <td>100%</td>\n",
       "      <td>...</td>\n",
       "      <td>100%</td>\n",
       "      <td>100%</td>\n",
       "      <td>100%</td>\n",
       "      <td>100%</td>\n",
       "      <td>100%</td>\n",
       "      <td>100%</td>\n",
       "      <td>100%</td>\n",
       "      <td>100%</td>\n",
       "      <td>100%</td>\n",
       "      <td>100%</td>\n",
       "    </tr>\n",
       "    <tr>\n",
       "      <th>1</th>\n",
       "      <td>2019-01-14</td>\n",
       "      <td>4.31 4.29 6 1</td>\n",
       "      <td>100%</td>\n",
       "      <td>100%</td>\n",
       "      <td>100%</td>\n",
       "      <td>95%</td>\n",
       "      <td>58%</td>\n",
       "      <td>87%</td>\n",
       "      <td>100%</td>\n",
       "      <td>100%</td>\n",
       "      <td>...</td>\n",
       "      <td>83%</td>\n",
       "      <td>91%</td>\n",
       "      <td>100%</td>\n",
       "      <td>100%</td>\n",
       "      <td>91%</td>\n",
       "      <td>79%</td>\n",
       "      <td>95%</td>\n",
       "      <td>87%</td>\n",
       "      <td>95%</td>\n",
       "      <td>100%</td>\n",
       "    </tr>\n",
       "    <tr>\n",
       "      <th>2</th>\n",
       "      <td>2019-01-14</td>\n",
       "      <td>4.31 4.39 4 1</td>\n",
       "      <td>100%</td>\n",
       "      <td>100%</td>\n",
       "      <td>100%</td>\n",
       "      <td>100%</td>\n",
       "      <td>66%</td>\n",
       "      <td>83%</td>\n",
       "      <td>100%</td>\n",
       "      <td>100%</td>\n",
       "      <td>...</td>\n",
       "      <td>100%</td>\n",
       "      <td>100%</td>\n",
       "      <td>100%</td>\n",
       "      <td>100%</td>\n",
       "      <td>100%</td>\n",
       "      <td>100%</td>\n",
       "      <td>100%</td>\n",
       "      <td>100%</td>\n",
       "      <td>100%</td>\n",
       "      <td>100%</td>\n",
       "    </tr>\n",
       "  </tbody>\n",
       "</table>\n",
       "<p>3 rows × 26 columns</p>\n",
       "</div>"
      ],
      "text/plain": [
       "         data   codice spira 00:00-01:00 01:00-02:00 02:00-03:00 03:00-04:00  \\\n",
       "0  2019-01-14  4.30 4.96 4 1        100%        100%        100%        100%   \n",
       "1  2019-01-14  4.31 4.29 6 1        100%        100%        100%         95%   \n",
       "2  2019-01-14  4.31 4.39 4 1        100%        100%        100%        100%   \n",
       "\n",
       "  04:00-05:00 05:00-06:00 06:00-07:00 07:00-08:00  ... 14:00-15:00  \\\n",
       "0        100%        100%        100%        100%  ...        100%   \n",
       "1         58%         87%        100%        100%  ...         83%   \n",
       "2         66%         83%        100%        100%  ...        100%   \n",
       "\n",
       "  15:00-16:00 16:00-17:00 17:00-18:00 18:00-19:00 19:00-20:00 20:00-21:00  \\\n",
       "0        100%        100%        100%        100%        100%        100%   \n",
       "1         91%        100%        100%         91%         79%         95%   \n",
       "2        100%        100%        100%        100%        100%        100%   \n",
       "\n",
       "  21:00-22:00 22:00-23:00 23:00-24:00  \n",
       "0        100%        100%        100%  \n",
       "1         87%         95%        100%  \n",
       "2        100%        100%        100%  \n",
       "\n",
       "[3 rows x 26 columns]"
      ]
     },
     "execution_count": 6,
     "metadata": {},
     "output_type": "execute_result"
    }
   ],
   "source": [
    "accuracies_df.head(3)"
   ]
  },
  {
   "cell_type": "markdown",
   "metadata": {},
   "source": [
    "### Weather Dataset"
   ]
  },
  {
   "cell_type": "code",
   "execution_count": 7,
   "metadata": {},
   "outputs": [
    {
     "name": "stdout",
     "output_type": "stream",
     "text": [
      "Merged 6 CSV files\n"
     ]
    },
    {
     "data": {
      "text/html": [
       "<div>\n",
       "<style scoped>\n",
       "    .dataframe tbody tr th:only-of-type {\n",
       "        vertical-align: middle;\n",
       "    }\n",
       "\n",
       "    .dataframe tbody tr th {\n",
       "        vertical-align: top;\n",
       "    }\n",
       "\n",
       "    .dataframe thead th {\n",
       "        text-align: right;\n",
       "    }\n",
       "</style>\n",
       "<table border=\"1\" class=\"dataframe\">\n",
       "  <thead>\n",
       "    <tr style=\"text-align: right;\">\n",
       "      <th></th>\n",
       "      <th>PragaTime</th>\n",
       "      <th>TAVG</th>\n",
       "      <th>PREC</th>\n",
       "      <th>RHAVG</th>\n",
       "      <th>RAD</th>\n",
       "      <th>W_SCAL_INT</th>\n",
       "      <th>W_VEC_DIR</th>\n",
       "      <th>W_VEC_INT</th>\n",
       "      <th>LEAFW</th>\n",
       "      <th>ET0</th>\n",
       "    </tr>\n",
       "  </thead>\n",
       "  <tbody>\n",
       "    <tr>\n",
       "      <th>0</th>\n",
       "      <td>2021-01-01 00:00:00</td>\n",
       "      <td>4.7</td>\n",
       "      <td>0.3</td>\n",
       "      <td>87.0</td>\n",
       "      <td>0.0</td>\n",
       "      <td>1.8</td>\n",
       "      <td>322.3</td>\n",
       "      <td>1.8</td>\n",
       "      <td>1.0</td>\n",
       "      <td>0.0</td>\n",
       "    </tr>\n",
       "    <tr>\n",
       "      <th>1</th>\n",
       "      <td>2021-01-01 01:00:00</td>\n",
       "      <td>4.2</td>\n",
       "      <td>0.1</td>\n",
       "      <td>87.1</td>\n",
       "      <td>0.0</td>\n",
       "      <td>0.9</td>\n",
       "      <td>339.6</td>\n",
       "      <td>0.8</td>\n",
       "      <td>1.0</td>\n",
       "      <td>0.0</td>\n",
       "    </tr>\n",
       "    <tr>\n",
       "      <th>2</th>\n",
       "      <td>2021-01-01 02:00:00</td>\n",
       "      <td>4.3</td>\n",
       "      <td>0.0</td>\n",
       "      <td>88.1</td>\n",
       "      <td>0.0</td>\n",
       "      <td>0.5</td>\n",
       "      <td>249.0</td>\n",
       "      <td>0.5</td>\n",
       "      <td>1.0</td>\n",
       "      <td>0.0</td>\n",
       "    </tr>\n",
       "    <tr>\n",
       "      <th>3</th>\n",
       "      <td>2021-01-01 03:00:00</td>\n",
       "      <td>4.2</td>\n",
       "      <td>0.6</td>\n",
       "      <td>90.8</td>\n",
       "      <td>0.0</td>\n",
       "      <td>0.9</td>\n",
       "      <td>68.7</td>\n",
       "      <td>0.4</td>\n",
       "      <td>1.0</td>\n",
       "      <td>0.0</td>\n",
       "    </tr>\n",
       "    <tr>\n",
       "      <th>4</th>\n",
       "      <td>2021-01-01 04:00:00</td>\n",
       "      <td>4.1</td>\n",
       "      <td>0.1</td>\n",
       "      <td>90.4</td>\n",
       "      <td>0.0</td>\n",
       "      <td>1.2</td>\n",
       "      <td>160.4</td>\n",
       "      <td>0.9</td>\n",
       "      <td>1.0</td>\n",
       "      <td>0.0</td>\n",
       "    </tr>\n",
       "    <tr>\n",
       "      <th>...</th>\n",
       "      <td>...</td>\n",
       "      <td>...</td>\n",
       "      <td>...</td>\n",
       "      <td>...</td>\n",
       "      <td>...</td>\n",
       "      <td>...</td>\n",
       "      <td>...</td>\n",
       "      <td>...</td>\n",
       "      <td>...</td>\n",
       "      <td>...</td>\n",
       "    </tr>\n",
       "    <tr>\n",
       "      <th>52580</th>\n",
       "      <td>2023-12-31 19:00:00</td>\n",
       "      <td>13.4</td>\n",
       "      <td>0.0</td>\n",
       "      <td>69.2</td>\n",
       "      <td>0.0</td>\n",
       "      <td>6.2</td>\n",
       "      <td>207.2</td>\n",
       "      <td>6.0</td>\n",
       "      <td>0.0</td>\n",
       "      <td>0.0</td>\n",
       "    </tr>\n",
       "    <tr>\n",
       "      <th>52581</th>\n",
       "      <td>2023-12-31 20:00:00</td>\n",
       "      <td>8.6</td>\n",
       "      <td>0.0</td>\n",
       "      <td>92.9</td>\n",
       "      <td>0.0</td>\n",
       "      <td>5.6</td>\n",
       "      <td>277.4</td>\n",
       "      <td>5.5</td>\n",
       "      <td>0.0</td>\n",
       "      <td>0.0</td>\n",
       "    </tr>\n",
       "    <tr>\n",
       "      <th>52582</th>\n",
       "      <td>2023-12-31 21:00:00</td>\n",
       "      <td>8.8</td>\n",
       "      <td>0.6</td>\n",
       "      <td>96.5</td>\n",
       "      <td>0.0</td>\n",
       "      <td>2.6</td>\n",
       "      <td>240.3</td>\n",
       "      <td>2.5</td>\n",
       "      <td>1.0</td>\n",
       "      <td>0.0</td>\n",
       "    </tr>\n",
       "    <tr>\n",
       "      <th>52583</th>\n",
       "      <td>2023-12-31 22:00:00</td>\n",
       "      <td>12.2</td>\n",
       "      <td>0.2</td>\n",
       "      <td>85.9</td>\n",
       "      <td>0.0</td>\n",
       "      <td>5.9</td>\n",
       "      <td>218.4</td>\n",
       "      <td>5.8</td>\n",
       "      <td>1.0</td>\n",
       "      <td>0.0</td>\n",
       "    </tr>\n",
       "    <tr>\n",
       "      <th>52584</th>\n",
       "      <td>2023-12-31 23:00:00</td>\n",
       "      <td>11.8</td>\n",
       "      <td>0.0</td>\n",
       "      <td>81.7</td>\n",
       "      <td>0.0</td>\n",
       "      <td>5.6</td>\n",
       "      <td>222.1</td>\n",
       "      <td>5.5</td>\n",
       "      <td>0.0</td>\n",
       "      <td>0.0</td>\n",
       "    </tr>\n",
       "  </tbody>\n",
       "</table>\n",
       "<p>52585 rows × 10 columns</p>\n",
       "</div>"
      ],
      "text/plain": [
       "                 PragaTime  TAVG  PREC  RHAVG  RAD  W_SCAL_INT  W_VEC_DIR  \\\n",
       "0      2021-01-01 00:00:00   4.7   0.3   87.0  0.0         1.8      322.3   \n",
       "1      2021-01-01 01:00:00   4.2   0.1   87.1  0.0         0.9      339.6   \n",
       "2      2021-01-01 02:00:00   4.3   0.0   88.1  0.0         0.5      249.0   \n",
       "3      2021-01-01 03:00:00   4.2   0.6   90.8  0.0         0.9       68.7   \n",
       "4      2021-01-01 04:00:00   4.1   0.1   90.4  0.0         1.2      160.4   \n",
       "...                    ...   ...   ...    ...  ...         ...        ...   \n",
       "52580  2023-12-31 19:00:00  13.4   0.0   69.2  0.0         6.2      207.2   \n",
       "52581  2023-12-31 20:00:00   8.6   0.0   92.9  0.0         5.6      277.4   \n",
       "52582  2023-12-31 21:00:00   8.8   0.6   96.5  0.0         2.6      240.3   \n",
       "52583  2023-12-31 22:00:00  12.2   0.2   85.9  0.0         5.9      218.4   \n",
       "52584  2023-12-31 23:00:00  11.8   0.0   81.7  0.0         5.6      222.1   \n",
       "\n",
       "       W_VEC_INT  LEAFW  ET0  \n",
       "0            1.8    1.0  0.0  \n",
       "1            0.8    1.0  0.0  \n",
       "2            0.5    1.0  0.0  \n",
       "3            0.4    1.0  0.0  \n",
       "4            0.9    1.0  0.0  \n",
       "...          ...    ...  ...  \n",
       "52580        6.0    0.0  0.0  \n",
       "52581        5.5    0.0  0.0  \n",
       "52582        2.5    1.0  0.0  \n",
       "52583        5.8    1.0  0.0  \n",
       "52584        5.5    0.0  0.0  \n",
       "\n",
       "[52585 rows x 10 columns]"
      ]
     },
     "execution_count": 7,
     "metadata": {},
     "output_type": "execute_result"
    }
   ],
   "source": [
    "weather_folder = os.path.join(datasets_folder,'weather')\n",
    "\n",
    "weather_df = merge_csv_to_dataframe(weather_folder)\n",
    "weather_df"
   ]
  },
  {
   "cell_type": "markdown",
   "metadata": {},
   "source": [
    "## Data exploration"
   ]
  },
  {
   "cell_type": "markdown",
   "metadata": {},
   "source": []
  },
  {
   "cell_type": "code",
   "execution_count": 8,
   "metadata": {},
   "outputs": [],
   "source": [
    "giardini_df = air_pollution_df[air_pollution_df['COD_STAZ'] == 'GIARDINI MARGHERITA']\n",
    "san_felice_df = air_pollution_df[air_pollution_df['COD_STAZ'] == 'PORTA SAN FELICE']\n",
    "chiarini_df = air_pollution_df[air_pollution_df['COD_STAZ'] == 'VIA CHIARINI']"
   ]
  },
  {
   "cell_type": "code",
   "execution_count": 9,
   "metadata": {},
   "outputs": [
    {
     "data": {
      "text/html": [
       "<div>\n",
       "<style scoped>\n",
       "    .dataframe tbody tr th:only-of-type {\n",
       "        vertical-align: middle;\n",
       "    }\n",
       "\n",
       "    .dataframe tbody tr th {\n",
       "        vertical-align: top;\n",
       "    }\n",
       "\n",
       "    .dataframe thead th {\n",
       "        text-align: right;\n",
       "    }\n",
       "</style>\n",
       "<table border=\"1\" class=\"dataframe\">\n",
       "  <thead>\n",
       "    <tr style=\"text-align: right;\">\n",
       "      <th></th>\n",
       "      <th>COD_STAZ</th>\n",
       "      <th>AGENTE</th>\n",
       "      <th>DATA_INIZIO</th>\n",
       "      <th>DATA_FINE</th>\n",
       "      <th>VALORE</th>\n",
       "      <th>UM</th>\n",
       "    </tr>\n",
       "  </thead>\n",
       "  <tbody>\n",
       "    <tr>\n",
       "      <th>count</th>\n",
       "      <td>472619</td>\n",
       "      <td>472619</td>\n",
       "      <td>472619</td>\n",
       "      <td>472619</td>\n",
       "      <td>472607.000000</td>\n",
       "      <td>472619</td>\n",
       "    </tr>\n",
       "    <tr>\n",
       "      <th>unique</th>\n",
       "      <td>3</td>\n",
       "      <td>8</td>\n",
       "      <td>52601</td>\n",
       "      <td>52601</td>\n",
       "      <td>NaN</td>\n",
       "      <td>2</td>\n",
       "    </tr>\n",
       "    <tr>\n",
       "      <th>top</th>\n",
       "      <td>PORTA SAN FELICE</td>\n",
       "      <td>NO2 (BIOSSIDO DI AZOTO)</td>\n",
       "      <td>2022-03-27T03:01:00+02:00</td>\n",
       "      <td>2020-03-29T03:00:00+02:00</td>\n",
       "      <td>NaN</td>\n",
       "      <td>ug/m3</td>\n",
       "    </tr>\n",
       "    <tr>\n",
       "      <th>freq</th>\n",
       "      <td>259799</td>\n",
       "      <td>154711</td>\n",
       "      <td>18</td>\n",
       "      <td>18</td>\n",
       "      <td>NaN</td>\n",
       "      <td>420828</td>\n",
       "    </tr>\n",
       "    <tr>\n",
       "      <th>mean</th>\n",
       "      <td>NaN</td>\n",
       "      <td>NaN</td>\n",
       "      <td>NaN</td>\n",
       "      <td>NaN</td>\n",
       "      <td>28.426199</td>\n",
       "      <td>NaN</td>\n",
       "    </tr>\n",
       "    <tr>\n",
       "      <th>std</th>\n",
       "      <td>NaN</td>\n",
       "      <td>NaN</td>\n",
       "      <td>NaN</td>\n",
       "      <td>NaN</td>\n",
       "      <td>34.394578</td>\n",
       "      <td>NaN</td>\n",
       "    </tr>\n",
       "    <tr>\n",
       "      <th>min</th>\n",
       "      <td>NaN</td>\n",
       "      <td>NaN</td>\n",
       "      <td>NaN</td>\n",
       "      <td>NaN</td>\n",
       "      <td>-2.000000</td>\n",
       "      <td>NaN</td>\n",
       "    </tr>\n",
       "    <tr>\n",
       "      <th>25%</th>\n",
       "      <td>NaN</td>\n",
       "      <td>NaN</td>\n",
       "      <td>NaN</td>\n",
       "      <td>NaN</td>\n",
       "      <td>2.100000</td>\n",
       "      <td>NaN</td>\n",
       "    </tr>\n",
       "    <tr>\n",
       "      <th>50%</th>\n",
       "      <td>NaN</td>\n",
       "      <td>NaN</td>\n",
       "      <td>NaN</td>\n",
       "      <td>NaN</td>\n",
       "      <td>16.000000</td>\n",
       "      <td>NaN</td>\n",
       "    </tr>\n",
       "    <tr>\n",
       "      <th>75%</th>\n",
       "      <td>NaN</td>\n",
       "      <td>NaN</td>\n",
       "      <td>NaN</td>\n",
       "      <td>NaN</td>\n",
       "      <td>42.000000</td>\n",
       "      <td>NaN</td>\n",
       "    </tr>\n",
       "    <tr>\n",
       "      <th>max</th>\n",
       "      <td>NaN</td>\n",
       "      <td>NaN</td>\n",
       "      <td>NaN</td>\n",
       "      <td>NaN</td>\n",
       "      <td>598.000000</td>\n",
       "      <td>NaN</td>\n",
       "    </tr>\n",
       "  </tbody>\n",
       "</table>\n",
       "</div>"
      ],
      "text/plain": [
       "                COD_STAZ                   AGENTE                DATA_INIZIO  \\\n",
       "count             472619                   472619                     472619   \n",
       "unique                 3                        8                      52601   \n",
       "top     PORTA SAN FELICE  NO2 (BIOSSIDO DI AZOTO)  2022-03-27T03:01:00+02:00   \n",
       "freq              259799                   154711                         18   \n",
       "mean                 NaN                      NaN                        NaN   \n",
       "std                  NaN                      NaN                        NaN   \n",
       "min                  NaN                      NaN                        NaN   \n",
       "25%                  NaN                      NaN                        NaN   \n",
       "50%                  NaN                      NaN                        NaN   \n",
       "75%                  NaN                      NaN                        NaN   \n",
       "max                  NaN                      NaN                        NaN   \n",
       "\n",
       "                        DATA_FINE         VALORE      UM  \n",
       "count                      472619  472607.000000  472619  \n",
       "unique                      52601            NaN       2  \n",
       "top     2020-03-29T03:00:00+02:00            NaN   ug/m3  \n",
       "freq                           18            NaN  420828  \n",
       "mean                          NaN      28.426199     NaN  \n",
       "std                           NaN      34.394578     NaN  \n",
       "min                           NaN      -2.000000     NaN  \n",
       "25%                           NaN       2.100000     NaN  \n",
       "50%                           NaN      16.000000     NaN  \n",
       "75%                           NaN      42.000000     NaN  \n",
       "max                           NaN     598.000000     NaN  "
      ]
     },
     "execution_count": 9,
     "metadata": {},
     "output_type": "execute_result"
    }
   ],
   "source": [
    "air_pollution_df.describe(include='all')"
   ]
  },
  {
   "cell_type": "markdown",
   "metadata": {},
   "source": [
    "52601 measurements, 3 different, 8 agents"
   ]
  },
  {
   "cell_type": "code",
   "execution_count": 10,
   "metadata": {},
   "outputs": [],
   "source": [
    "from datetime import datetime\n",
    "air_pollution_df['DATA_INIZIO'] = air_pollution_df['DATA_INIZIO'].apply(lambda x: datetime.fromisoformat(x))\n",
    "air_pollution_df['DATA_FINE'] = air_pollution_df['DATA_FINE'].apply(lambda x: datetime.fromisoformat(x))"
   ]
  },
  {
   "cell_type": "code",
   "execution_count": 11,
   "metadata": {},
   "outputs": [
    {
     "data": {
      "text/plain": [
       "(2192,)"
      ]
     },
     "execution_count": 11,
     "metadata": {},
     "output_type": "execute_result"
    }
   ],
   "source": [
    "np.unique(air_pollution_df['DATA_INIZIO'].apply(lambda x: x.date())).shape"
   ]
  },
  {
   "cell_type": "markdown",
   "metadata": {},
   "source": [
    "2192 days of measurements"
   ]
  },
  {
   "cell_type": "code",
   "execution_count": 12,
   "metadata": {},
   "outputs": [
    {
     "name": "stderr",
     "output_type": "stream",
     "text": [
      "/tmp/ipykernel_47322/3908520115.py:1: SettingWithCopyWarning: \n",
      "A value is trying to be set on a copy of a slice from a DataFrame.\n",
      "Try using .loc[row_indexer,col_indexer] = value instead\n",
      "\n",
      "See the caveats in the documentation: https://pandas.pydata.org/pandas-docs/stable/user_guide/indexing.html#returning-a-view-versus-a-copy\n",
      "  giardini_df['DATA_INIZIO'] = giardini_df['DATA_INIZIO'].apply(lambda x: datetime.fromisoformat(x))\n"
     ]
    },
    {
     "data": {
      "text/plain": [
       "(2187,)"
      ]
     },
     "execution_count": 12,
     "metadata": {},
     "output_type": "execute_result"
    }
   ],
   "source": [
    "giardini_df['DATA_INIZIO'] = giardini_df['DATA_INIZIO'].apply(lambda x: datetime.fromisoformat(x))\n",
    "np.unique(giardini_df['DATA_INIZIO'].apply(lambda x: x.date())).shape"
   ]
  },
  {
   "cell_type": "markdown",
   "metadata": {},
   "source": [
    "2187 days of measurements at giardini margherita"
   ]
  },
  {
   "cell_type": "code",
   "execution_count": 13,
   "metadata": {},
   "outputs": [
    {
     "name": "stderr",
     "output_type": "stream",
     "text": [
      "/tmp/ipykernel_47322/2495840756.py:1: SettingWithCopyWarning: \n",
      "A value is trying to be set on a copy of a slice from a DataFrame.\n",
      "Try using .loc[row_indexer,col_indexer] = value instead\n",
      "\n",
      "See the caveats in the documentation: https://pandas.pydata.org/pandas-docs/stable/user_guide/indexing.html#returning-a-view-versus-a-copy\n",
      "  san_felice_df['DATA_INIZIO'] = san_felice_df['DATA_INIZIO'].apply(lambda x: datetime.fromisoformat(x))\n"
     ]
    },
    {
     "data": {
      "text/plain": [
       "(2191,)"
      ]
     },
     "execution_count": 13,
     "metadata": {},
     "output_type": "execute_result"
    }
   ],
   "source": [
    "san_felice_df['DATA_INIZIO'] = san_felice_df['DATA_INIZIO'].apply(lambda x: datetime.fromisoformat(x))\n",
    "np.unique(san_felice_df['DATA_INIZIO'].apply(lambda x: x.date())).shape"
   ]
  },
  {
   "cell_type": "markdown",
   "metadata": {},
   "source": [
    "2191 days of measurements at san felice"
   ]
  },
  {
   "cell_type": "code",
   "execution_count": 14,
   "metadata": {},
   "outputs": [
    {
     "name": "stderr",
     "output_type": "stream",
     "text": [
      "/tmp/ipykernel_47322/1093406157.py:1: SettingWithCopyWarning: \n",
      "A value is trying to be set on a copy of a slice from a DataFrame.\n",
      "Try using .loc[row_indexer,col_indexer] = value instead\n",
      "\n",
      "See the caveats in the documentation: https://pandas.pydata.org/pandas-docs/stable/user_guide/indexing.html#returning-a-view-versus-a-copy\n",
      "  chiarini_df['DATA_INIZIO'] = chiarini_df['DATA_INIZIO'].apply(lambda x: datetime.fromisoformat(x))\n"
     ]
    },
    {
     "data": {
      "text/plain": [
       "(2190,)"
      ]
     },
     "execution_count": 14,
     "metadata": {},
     "output_type": "execute_result"
    }
   ],
   "source": [
    "chiarini_df['DATA_INIZIO'] = chiarini_df['DATA_INIZIO'].apply(lambda x: datetime.fromisoformat(x))\n",
    "np.unique(chiarini_df['DATA_INIZIO'].apply(lambda x: x.date())).shape"
   ]
  },
  {
   "cell_type": "markdown",
   "metadata": {},
   "source": [
    "2190 days of measurements at via chiarini"
   ]
  },
  {
   "cell_type": "markdown",
   "metadata": {},
   "source": [
    "### Agents measurements per station"
   ]
  },
  {
   "cell_type": "code",
   "execution_count": 15,
   "metadata": {},
   "outputs": [
    {
     "data": {
      "image/png": "[encoded data removed]",
      "text/plain": [
       "<Figure size 1800x500 with 3 Axes>"
      ]
     },
     "metadata": {},
     "output_type": "display_data"
    }
   ],
   "source": [
    "fig, axes = plt.subplots(1, 3, figsize=(18, 5))\n",
    "\n",
    "for i, df in enumerate([giardini_df, san_felice_df, chiarini_df]):\n",
    "    val, counts = np.unique(df['AGENTE'], return_counts=True)\n",
    "    axes[i].bar(val, counts, color='skyblue', edgecolor='black')\n",
    "    axes[i].set_xlabel('Unique Values')\n",
    "    axes[i].set_xticks(range(len(val)))\n",
    "    axes[i].set_xticklabels(val, rotation=90)\n",
    "    axes[i].set_ylabel('Counts')\n",
    "    axes[i].set_title(f'Polluting agent in {df[\"COD_STAZ\"].iloc[0]}')\n",
    "\n",
    "plt.tight_layout()\n",
    "plt.show()"
   ]
  },
  {
   "cell_type": "markdown",
   "metadata": {},
   "source": [
    "NO2 and O3 common to all the three stations, maybe good idea to consider just them? or maybe consider just Porta San Felice and use the first 4 agents."
   ]
  },
  {
   "cell_type": "code",
   "execution_count": null,
   "metadata": {},
   "outputs": [],
   "source": [
    "Other stuff to explore: boh sono le 23:22 sono stanco morto e ieri notte non ho dormito"
   ]
  },
  {
   "cell_type": "markdown",
   "metadata": {},
   "source": [
    "### Traffic Dataset"
   ]
  },
  {
   "cell_type": "markdown",
   "metadata": {},
   "source": [
    "### Weather Dataset"
   ]
  }
 ],
 "metadata": {
  "kernelspec": {
   "display_name": "Python 3",
   "language": "python",
   "name": "python3"
  },
  "language_info": {
   "codemirror_mode": {
    "name": "ipython",
    "version": 3
   },
   "file_extension": ".py",
   "mimetype": "text/x-python",
   "name": "python",
   "nbconvert_exporter": "python",
   "pygments_lexer": "ipython3",
   "version": "3.12.3"
  }
 },
 "nbformat": 4,
 "nbformat_minor": 2
}
