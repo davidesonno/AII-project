{
 "cells": [
  {
   "cell_type": "markdown",
   "metadata": {},
   "source": [
    "# Air Pollution Dataset Preprocessing"
   ]
  },
  {
   "cell_type": "code",
   "execution_count": 2,
   "metadata": {},
   "outputs": [],
   "source": [
    "%load_ext autoreload\n",
    "%autoreload 2\n",
    "\n",
    "import pandas as pd\n",
    "import numpy as np\n",
    "import os\n",
    "import matplotlib.pyplot as plt\n",
    "from datetime import datetime, timedelta\n",
    "import seaborn as sns\n",
    "\n",
    "from utils import *\n",
    "\n",
    "datasets_folder = './datasets'"
   ]
  },
  {
   "cell_type": "code",
   "execution_count": 3,
   "metadata": {},
   "outputs": [
    {
     "data": {
      "text/html": [
       "<div>\n",
       "<style scoped>\n",
       "    .dataframe tbody tr th:only-of-type {\n",
       "        vertical-align: middle;\n",
       "    }\n",
       "\n",
       "    .dataframe tbody tr th {\n",
       "        vertical-align: top;\n",
       "    }\n",
       "\n",
       "    .dataframe thead th {\n",
       "        text-align: right;\n",
       "    }\n",
       "</style>\n",
       "<table border=\"1\" class=\"dataframe\">\n",
       "  <thead>\n",
       "    <tr style=\"text-align: right;\">\n",
       "      <th></th>\n",
       "      <th>Station</th>\n",
       "      <th>Agent</th>\n",
       "      <th>Date</th>\n",
       "      <th>Value</th>\n",
       "      <th>Unit</th>\n",
       "    </tr>\n",
       "  </thead>\n",
       "  <tbody>\n",
       "    <tr>\n",
       "      <th>6726</th>\n",
       "      <td>GIARDINI MARGHERITA</td>\n",
       "      <td>PM2.5</td>\n",
       "      <td>2019-01-01 00:01:00</td>\n",
       "      <td>37.0</td>\n",
       "      <td>ug/m3</td>\n",
       "    </tr>\n",
       "    <tr>\n",
       "      <th>8067</th>\n",
       "      <td>GIARDINI MARGHERITA</td>\n",
       "      <td>PM10</td>\n",
       "      <td>2019-01-01 00:01:00</td>\n",
       "      <td>50.0</td>\n",
       "      <td>ug/m3</td>\n",
       "    </tr>\n",
       "    <tr>\n",
       "      <th>419631</th>\n",
       "      <td>PORTA SAN FELICE</td>\n",
       "      <td>PM2.5</td>\n",
       "      <td>2019-01-01 00:01:00</td>\n",
       "      <td>41.0</td>\n",
       "      <td>ug/m3</td>\n",
       "    </tr>\n",
       "  </tbody>\n",
       "</table>\n",
       "</div>"
      ],
      "text/plain": [
       "                    Station  Agent                Date  Value   Unit\n",
       "6726    GIARDINI MARGHERITA  PM2.5 2019-01-01 00:01:00   37.0  ug/m3\n",
       "8067    GIARDINI MARGHERITA   PM10 2019-01-01 00:01:00   50.0  ug/m3\n",
       "419631     PORTA SAN FELICE  PM2.5 2019-01-01 00:01:00   41.0  ug/m3"
      ]
     },
     "execution_count": 3,
     "metadata": {},
     "output_type": "execute_result"
    }
   ],
   "source": [
    "air_pollution_dataset = os.path.join(datasets_folder,'pollution/pollution.csv')\n",
    "\n",
    "air_pollution_df = pd.read_csv(air_pollution_dataset, sep=';')\n",
    "air_pollution_df.rename(columns={\n",
    "    'COD_STAZ': 'Station', \n",
    "    'AGENTE': 'Agent', \n",
    "    'DATA_INIZIO': 'Date', \n",
    "    'DATA_FINE': 'Ending_date', \n",
    "    'VALORE': 'Value', \n",
    "    'UM': 'Unit'\n",
    "}, inplace=True)\n",
    "\n",
    "air_pollution_df.drop(columns=['Ending_date'], inplace=True)\n",
    "air_pollution_df=air_pollution_df.sort_values(by='Date')\n",
    "air_pollution_df['Date'] = pd.to_datetime(air_pollution_df['Date'].apply(lambda x: ' '.join(x.split('T')).split('+')[0]))\n",
    "air_pollution_df['Agent'] = air_pollution_df['Agent'].apply(lambda x: x.split(' ')[0])\n",
    "\n",
    "air_pollution_df.head(3)"
   ]
  },
  {
   "cell_type": "markdown",
   "metadata": {},
   "source": [
    "Let's check the Unit of each agent"
   ]
  },
  {
   "cell_type": "code",
   "execution_count": 14,
   "metadata": {},
   "outputs": [
    {
     "data": {
      "text/html": [
       "<div>\n",
       "<style scoped>\n",
       "    .dataframe tbody tr th:only-of-type {\n",
       "        vertical-align: middle;\n",
       "    }\n",
       "\n",
       "    .dataframe tbody tr th {\n",
       "        vertical-align: top;\n",
       "    }\n",
       "\n",
       "    .dataframe thead th {\n",
       "        text-align: right;\n",
       "    }\n",
       "</style>\n",
       "<table border=\"1\" class=\"dataframe\">\n",
       "  <thead>\n",
       "    <tr style=\"text-align: right;\">\n",
       "      <th></th>\n",
       "      <th>Agent</th>\n",
       "      <th>Unit</th>\n",
       "    </tr>\n",
       "  </thead>\n",
       "  <tbody>\n",
       "    <tr>\n",
       "      <th>0</th>\n",
       "      <td>C6H6</td>\n",
       "      <td>ug/m3</td>\n",
       "    </tr>\n",
       "    <tr>\n",
       "      <th>1</th>\n",
       "      <td>CO</td>\n",
       "      <td>mg/m3</td>\n",
       "    </tr>\n",
       "    <tr>\n",
       "      <th>2</th>\n",
       "      <td>NO</td>\n",
       "      <td>ug/m3</td>\n",
       "    </tr>\n",
       "    <tr>\n",
       "      <th>3</th>\n",
       "      <td>NO2</td>\n",
       "      <td>ug/m3</td>\n",
       "    </tr>\n",
       "    <tr>\n",
       "      <th>4</th>\n",
       "      <td>NOX</td>\n",
       "      <td>ug/m3</td>\n",
       "    </tr>\n",
       "    <tr>\n",
       "      <th>5</th>\n",
       "      <td>O3</td>\n",
       "      <td>ug/m3</td>\n",
       "    </tr>\n",
       "    <tr>\n",
       "      <th>6</th>\n",
       "      <td>PM10</td>\n",
       "      <td>ug/m3</td>\n",
       "    </tr>\n",
       "    <tr>\n",
       "      <th>7</th>\n",
       "      <td>PM2.5</td>\n",
       "      <td>ug/m3</td>\n",
       "    </tr>\n",
       "  </tbody>\n",
       "</table>\n",
       "</div>"
      ],
      "text/plain": [
       "   Agent   Unit\n",
       "0   C6H6  ug/m3\n",
       "1     CO  mg/m3\n",
       "2     NO  ug/m3\n",
       "3    NO2  ug/m3\n",
       "4    NOX  ug/m3\n",
       "5     O3  ug/m3\n",
       "6   PM10  ug/m3\n",
       "7  PM2.5  ug/m3"
      ]
     },
     "execution_count": 14,
     "metadata": {},
     "output_type": "execute_result"
    }
   ],
   "source": [
    "air_pollution_df.groupby([ 'Agent','Unit']).size().reset_index(name='counts').drop(columns='counts')"
   ]
  },
  {
   "cell_type": "markdown",
   "metadata": {},
   "source": [
    "## Station estimations"
   ]
  },
  {
   "cell_type": "code",
   "execution_count": 3,
   "metadata": {},
   "outputs": [],
   "source": [
    "giardini_df = air_pollution_df[air_pollution_df['Station'] == 'GIARDINI MARGHERITA']\n",
    "san_felice_df = air_pollution_df[air_pollution_df['Station'] == 'PORTA SAN FELICE']\n",
    "chiarini_df = air_pollution_df[air_pollution_df['Station'] == 'VIA CHIARINI']"
   ]
  },
  {
   "cell_type": "markdown",
   "metadata": {},
   "source": [
    "### Giardini Margherita"
   ]
  },
  {
   "cell_type": "code",
   "execution_count": 4,
   "metadata": {},
   "outputs": [
    {
     "name": "stdout",
     "output_type": "stream",
     "text": [
      "Agent: NO2\n",
      "Date\n",
      "1.0    50984\n",
      "2.0      449\n",
      "3.0       23\n",
      "9.0        4\n",
      "0.0        3\n",
      "Name: count, dtype: int64\n",
      "Agent: O3\n",
      "Date\n",
      "1.0    51555\n",
      "2.0      134\n",
      "3.0       20\n",
      "4.0        6\n",
      "0.0        6\n",
      "Name: count, dtype: int64\n",
      "Agent: PM10\n",
      "Date\n",
      "24.0    2038\n",
      "23.0      12\n",
      "25.0      12\n",
      "48.0      12\n",
      "72.0      11\n",
      "Name: count, dtype: int64\n",
      "Agent: PM2.5\n",
      "Date\n",
      "24.0    2071\n",
      "48.0      13\n",
      "23.0      12\n",
      "25.0      12\n",
      "72.0       6\n",
      "Name: count, dtype: int64\n"
     ]
    }
   ],
   "source": [
    "for agent in np.unique(giardini_df['Agent']):\n",
    "    mask=(giardini_df['Agent']==agent)\n",
    "    timedeltas_hours = giardini_df['Date'][mask].diff().dt.total_seconds()[1:] / 3600  # Convert to hours\n",
    "    print(f'Agent: {agent}')\n",
    "    print(timedeltas_hours.value_counts().head(5))"
   ]
  },
  {
   "cell_type": "markdown",
   "metadata": {},
   "source": [
    "Resample (modify dataframe to have a dense index and add also to each row the missing values for station and Unit(not really necessary anyway))\n",
    "PM are resampled at 24h, other agents at 1h"
   ]
  },
  {
   "cell_type": "code",
   "execution_count": 5,
   "metadata": {},
   "outputs": [
    {
     "name": "stdout",
     "output_type": "stream",
     "text": [
      "Resampling PM10 on 24h\n",
      "Resampling PM2.5 on 24h\n",
      "Resampling NO2 on 1h\n",
      "Resampling O3 on 1h\n"
     ]
    },
    {
     "data": {
      "text/html": [
       "<div>\n",
       "<style scoped>\n",
       "    .dataframe tbody tr th:only-of-type {\n",
       "        vertical-align: middle;\n",
       "    }\n",
       "\n",
       "    .dataframe tbody tr th {\n",
       "        vertical-align: top;\n",
       "    }\n",
       "\n",
       "    .dataframe thead th {\n",
       "        text-align: right;\n",
       "    }\n",
       "</style>\n",
       "<table border=\"1\" class=\"dataframe\">\n",
       "  <thead>\n",
       "    <tr style=\"text-align: right;\">\n",
       "      <th></th>\n",
       "      <th>Date</th>\n",
       "      <th>Station</th>\n",
       "      <th>Agent</th>\n",
       "      <th>Value</th>\n",
       "      <th>Unit</th>\n",
       "    </tr>\n",
       "  </thead>\n",
       "  <tbody>\n",
       "    <tr>\n",
       "      <th>0</th>\n",
       "      <td>2019-01-01 00:00:00</td>\n",
       "      <td>GIARDINI MARGHERITA</td>\n",
       "      <td>NO2</td>\n",
       "      <td>29.0</td>\n",
       "      <td>ug/m3</td>\n",
       "    </tr>\n",
       "    <tr>\n",
       "      <th>1</th>\n",
       "      <td>2019-01-01 01:00:00</td>\n",
       "      <td>GIARDINI MARGHERITA</td>\n",
       "      <td>NO2</td>\n",
       "      <td>NaN</td>\n",
       "      <td>ug/m3</td>\n",
       "    </tr>\n",
       "    <tr>\n",
       "      <th>2</th>\n",
       "      <td>2019-01-01 02:00:00</td>\n",
       "      <td>GIARDINI MARGHERITA</td>\n",
       "      <td>NO2</td>\n",
       "      <td>23.0</td>\n",
       "      <td>ug/m3</td>\n",
       "    </tr>\n",
       "    <tr>\n",
       "      <th>3</th>\n",
       "      <td>2019-01-01 03:00:00</td>\n",
       "      <td>GIARDINI MARGHERITA</td>\n",
       "      <td>NO2</td>\n",
       "      <td>29.0</td>\n",
       "      <td>ug/m3</td>\n",
       "    </tr>\n",
       "    <tr>\n",
       "      <th>4</th>\n",
       "      <td>2019-01-01 04:00:00</td>\n",
       "      <td>GIARDINI MARGHERITA</td>\n",
       "      <td>NO2</td>\n",
       "      <td>26.0</td>\n",
       "      <td>ug/m3</td>\n",
       "    </tr>\n",
       "  </tbody>\n",
       "</table>\n",
       "</div>"
      ],
      "text/plain": [
       "                 Date              Station Agent  Value   Unit\n",
       "0 2019-01-01 00:00:00  GIARDINI MARGHERITA   NO2   29.0  ug/m3\n",
       "1 2019-01-01 01:00:00  GIARDINI MARGHERITA   NO2    NaN  ug/m3\n",
       "2 2019-01-01 02:00:00  GIARDINI MARGHERITA   NO2   23.0  ug/m3\n",
       "3 2019-01-01 03:00:00  GIARDINI MARGHERITA   NO2   29.0  ug/m3\n",
       "4 2019-01-01 04:00:00  GIARDINI MARGHERITA   NO2   26.0  ug/m3"
      ]
     },
     "execution_count": 5,
     "metadata": {},
     "output_type": "execute_result"
    }
   ],
   "source": [
    "giardini_agents_dict = {\n",
    "    'PM10': '24h',\n",
    "    'PM2.5': '24h',\n",
    "    'NO2': '1h',\n",
    "    'O3': '1h'\n",
    "}\n",
    "\n",
    "resampled_giardini_df = resample_df_on_column(giardini_df, giardini_agents_dict)\n",
    "resampled_giardini_df[resampled_giardini_df['Agent'] == 'NO2'].head()\n"
   ]
  },
  {
   "cell_type": "markdown",
   "metadata": {},
   "source": [
    "Added the missing rows but still the value is Nan"
   ]
  },
  {
   "cell_type": "code",
   "execution_count": 6,
   "metadata": {},
   "outputs": [
    {
     "name": "stdout",
     "output_type": "stream",
     "text": [
      "52608\n",
      "2192\n",
      "2192\n",
      "52608\n"
     ]
    }
   ],
   "source": [
    "print(len(resampled_giardini_df[resampled_giardini_df['Agent'] == 'NO2']))\n",
    "print(len(resampled_giardini_df[resampled_giardini_df['Agent'] == 'PM10']))\n",
    "print(len(resampled_giardini_df[resampled_giardini_df['Agent'] == 'PM2.5']))\n",
    "print(len(resampled_giardini_df[resampled_giardini_df['Agent'] == 'O3']))"
   ]
  },
  {
   "cell_type": "markdown",
   "metadata": {},
   "source": [
    "Just a check to see that now all the rows are present."
   ]
  },
  {
   "cell_type": "code",
   "execution_count": 7,
   "metadata": {},
   "outputs": [],
   "source": [
    "# start=datetime(2020,10,2)\n",
    "# end=datetime(2025,10,10)\n",
    "\n",
    "# for agent in np.unique(resampled_giardini_df['Agent']):\n",
    "#     mask=(resampled_giardini_df['Agent']==agent)&(resampled_giardini_df['Date']>start)&(resampled_giardini_df['Date']<end)\n",
    "#     timedeltas_hours = resampled_giardini_df['Date'][mask].diff().dt.total_seconds()[1:] / 3600  # Convert to hours\n",
    "\n",
    "#     plt.figure(figsize=(40, 5))\n",
    "#     plt.plot(resampled_giardini_df['Date'][mask][1:], timedeltas_hours, marker='o', linestyle='-')\n",
    "#     plt.xlabel('Datetime')\n",
    "#     plt.ylim(0,max(timedeltas_hours)+1)\n",
    "#     plt.ylabel('Time Difference (hours)')\n",
    "#     plt.title(f'{agent}')\n",
    "#     plt.xticks(rotation=45)  # Rotate labels for better readability\n",
    "#     plt.grid(True)\n",
    "#     plt.show()"
   ]
  },
  {
   "cell_type": "markdown",
   "metadata": {},
   "source": [
    "Plot to see the difference between the original data that seem to not have missing values and the resampled data where their location is clearly visibile. Those values can easily be filled with forward or backward filling."
   ]
  },
  {
   "cell_type": "code",
   "execution_count": 8,
   "metadata": {},
   "outputs": [],
   "source": [
    "# start_date=datetime(2019,1,1)\n",
    "# end_date=datetime(2019,1,7)\n",
    "\n",
    "# to_plot = resampled_giardini_df[resampled_giardini_df['Agent']=='NO2']\n",
    "# value_mean = to_plot['Value'].mean()\n",
    "# print(f'Mean: {value_mean}')\n",
    "\n",
    "# # plot_time_series([giardini_df[giardini_df['Agent']=='NO2']], 'Value', 'Date', legends=['NO2'], start_date=start_date, end_date=end_date, title='Original Data')\n",
    "# plot_time_series([to_plot], 'Value', 'Date', legends=['NO2'], start_date=start_date, end_date=end_date, title='Resampled Data')\n",
    "# # plot_time_series([to_plot.interpolate()], 'Value', 'Date', legends=['NO2'], start_date=start_date, end_date=end_date, title='Interpolated Data')\n",
    "# plot_time_series([to_plot.ffill()], 'Value', 'Date', legends=['NO2'], start_date=start_date, end_date=end_date, title='Forward Filled Data')\n",
    "# plot_time_series([to_plot.bfill()], 'Value', 'Date', legends=['NO2'], start_date=start_date, end_date=end_date, title='Backward Filled Data')\n",
    "# # plot_time_series([to_plot.fillna(value_mean)], 'Value', 'Date', legends=['NO2'], start_date=start_date, end_date=end_date, title='Average Filling Data')"
   ]
  },
  {
   "cell_type": "markdown",
   "metadata": {},
   "source": [
    "Check the amount of missing data"
   ]
  },
  {
   "cell_type": "code",
   "execution_count": 9,
   "metadata": {},
   "outputs": [
    {
     "data": {
      "text/plain": [
       "Date          0\n",
       "Station       0\n",
       "Agent         0\n",
       "Value      2169\n",
       "Unit          0\n",
       "dtype: int64"
      ]
     },
     "execution_count": 9,
     "metadata": {},
     "output_type": "execute_result"
    }
   ],
   "source": [
    "resampled_giardini_df.isna().sum()"
   ]
  },
  {
   "cell_type": "markdown",
   "metadata": {},
   "source": [
    "Fill the missing value using the average value of the specific metric value missing"
   ]
  },
  {
   "cell_type": "code",
   "execution_count": 10,
   "metadata": {},
   "outputs": [
    {
     "data": {
      "text/plain": [
       "Date       0\n",
       "Station    0\n",
       "Agent      0\n",
       "Value      0\n",
       "Unit       0\n",
       "dtype: int64"
      ]
     },
     "execution_count": 10,
     "metadata": {},
     "output_type": "execute_result"
    }
   ],
   "source": [
    "filled_giardini_df = fill_missing_dates_on_column_value(resampled_giardini_df, column='Agent', column_to_fill='Value', mode='mfill')\n",
    "filled_giardini_df.isna().sum()"
   ]
  },
  {
   "cell_type": "code",
   "execution_count": 11,
   "metadata": {},
   "outputs": [],
   "source": [
    "agent_dfs = df_to_agents_dict(filled_giardini_df)"
   ]
  },
  {
   "cell_type": "code",
   "execution_count": 12,
   "metadata": {},
   "outputs": [],
   "source": [
    "# split_date = datetime(2024, 1, 1)\n",
    "# train_giardini_df, test_giardini_df = filled_giardini_df[filled_giardini_df['Date'] < split_date], filled_giardini_df[filled_giardini_df['Date'] >= split_date]\n",
    "# train_giardini_df.shape, test_giardini_df.shape"
   ]
  },
  {
   "cell_type": "markdown",
   "metadata": {},
   "source": [
    "### Porta San Felice"
   ]
  },
  {
   "cell_type": "markdown",
   "metadata": {},
   "source": [
    "### Via Chiarini"
   ]
  }
 ],
 "metadata": {
  "kernelspec": {
   "display_name": "Python 3",
   "language": "python",
   "name": "python3"
  },
  "language_info": {
   "codemirror_mode": {
    "name": "ipython",
    "version": 3
   },
   "file_extension": ".py",
   "mimetype": "text/x-python",
   "name": "python",
   "nbconvert_exporter": "python",
   "pygments_lexer": "ipython3",
   "version": "3.10.11"
  }
 },
 "nbformat": 4,
 "nbformat_minor": 2
}
