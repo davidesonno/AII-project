{
 "cells": [
  {
   "cell_type": "markdown",
   "metadata": {},
   "source": [
    "# Air Pollution Dataset Preprocessing"
   ]
  },
  {
   "cell_type": "code",
   "execution_count": 1,
   "metadata": {},
   "outputs": [],
   "source": [
    "%load_ext autoreload\n",
    "%autoreload 2\n",
    "\n",
    "import pandas as pd\n",
    "import numpy as np\n",
    "import os\n",
    "import matplotlib.pyplot as plt\n",
    "from datetime import datetime, timedelta\n",
    "import seaborn as sns\n",
    "\n",
    "from utils import *\n",
    "\n",
    "datasets_folder = './datasets'"
   ]
  },
  {
   "cell_type": "markdown",
   "metadata": {},
   "source": [
    "## Data Reading"
   ]
  },
  {
   "cell_type": "code",
   "execution_count": 2,
   "metadata": {},
   "outputs": [
    {
     "data": {
      "text/html": [
       "<div>\n",
       "<style scoped>\n",
       "    .dataframe tbody tr th:only-of-type {\n",
       "        vertical-align: middle;\n",
       "    }\n",
       "\n",
       "    .dataframe tbody tr th {\n",
       "        vertical-align: top;\n",
       "    }\n",
       "\n",
       "    .dataframe thead th {\n",
       "        text-align: right;\n",
       "    }\n",
       "</style>\n",
       "<table border=\"1\" class=\"dataframe\">\n",
       "  <thead>\n",
       "    <tr style=\"text-align: right;\">\n",
       "      <th></th>\n",
       "      <th>Station</th>\n",
       "      <th>Agent</th>\n",
       "      <th>Date</th>\n",
       "      <th>Value</th>\n",
       "      <th>Unit</th>\n",
       "    </tr>\n",
       "  </thead>\n",
       "  <tbody>\n",
       "    <tr>\n",
       "      <th>153710</th>\n",
       "      <td>GIARDINI MARGHERITA</td>\n",
       "      <td>O3</td>\n",
       "      <td>2019-01-01</td>\n",
       "      <td>2.0</td>\n",
       "      <td>ug/m3</td>\n",
       "    </tr>\n",
       "    <tr>\n",
       "      <th>285790</th>\n",
       "      <td>PORTA SAN FELICE</td>\n",
       "      <td>NO</td>\n",
       "      <td>2019-01-01</td>\n",
       "      <td>97.0</td>\n",
       "      <td>ug/m3</td>\n",
       "    </tr>\n",
       "    <tr>\n",
       "      <th>129202</th>\n",
       "      <td>GIARDINI MARGHERITA</td>\n",
       "      <td>NO2</td>\n",
       "      <td>2019-01-01</td>\n",
       "      <td>29.0</td>\n",
       "      <td>ug/m3</td>\n",
       "    </tr>\n",
       "    <tr>\n",
       "      <th>250892</th>\n",
       "      <td>PORTA SAN FELICE</td>\n",
       "      <td>NO2</td>\n",
       "      <td>2019-01-01</td>\n",
       "      <td>40.0</td>\n",
       "      <td>ug/m3</td>\n",
       "    </tr>\n",
       "    <tr>\n",
       "      <th>374897</th>\n",
       "      <td>PORTA SAN FELICE</td>\n",
       "      <td>PM10</td>\n",
       "      <td>2019-01-01</td>\n",
       "      <td>52.0</td>\n",
       "      <td>ug/m3</td>\n",
       "    </tr>\n",
       "  </tbody>\n",
       "</table>\n",
       "</div>"
      ],
      "text/plain": [
       "                    Station Agent       Date  Value   Unit\n",
       "153710  GIARDINI MARGHERITA    O3 2019-01-01    2.0  ug/m3\n",
       "285790     PORTA SAN FELICE    NO 2019-01-01   97.0  ug/m3\n",
       "129202  GIARDINI MARGHERITA   NO2 2019-01-01   29.0  ug/m3\n",
       "250892     PORTA SAN FELICE   NO2 2019-01-01   40.0  ug/m3\n",
       "374897     PORTA SAN FELICE  PM10 2019-01-01   52.0  ug/m3"
      ]
     },
     "execution_count": 2,
     "metadata": {},
     "output_type": "execute_result"
    }
   ],
   "source": [
    "air_pollution_dataset = os.path.join(datasets_folder,'pollution/pollution.csv')\n",
    "\n",
    "air_pollution_df = pd.read_csv(air_pollution_dataset, sep=';')\n",
    "air_pollution_df.rename(columns={\n",
    "    'COD_STAZ': 'Station', \n",
    "    'AGENTE': 'Agent', \n",
    "    'DATA_INIZIO': 'Date', \n",
    "    'DATA_FINE': 'Ending_date', \n",
    "    'VALORE': 'Value', \n",
    "    'UM': 'Unit'\n",
    "}, inplace=True)\n",
    "\n",
    "air_pollution_df.drop(columns=['Ending_date'], inplace=True)\n",
    "air_pollution_df=air_pollution_df.sort_values(by='Date')\n",
    "air_pollution_df['Date'] = pd.to_datetime(air_pollution_df['Date'].apply(lambda x: ' '.join(x.split('T')).split('+')[0]))\n",
    "air_pollution_df['Date'] = air_pollution_df['Date'].apply(lambda x: x - timedelta(minutes=x.minute)) # round to the hour\n",
    "air_pollution_df['Agent'] = air_pollution_df['Agent'].apply(lambda x: x.split(' ')[0])\n",
    "\n",
    "air_pollution_df.head(5)"
   ]
  },
  {
   "cell_type": "markdown",
   "metadata": {},
   "source": [
    "Let's check the Unit of each agent"
   ]
  },
  {
   "cell_type": "code",
   "execution_count": 3,
   "metadata": {},
   "outputs": [
    {
     "data": {
      "text/html": [
       "<div>\n",
       "<style scoped>\n",
       "    .dataframe tbody tr th:only-of-type {\n",
       "        vertical-align: middle;\n",
       "    }\n",
       "\n",
       "    .dataframe tbody tr th {\n",
       "        vertical-align: top;\n",
       "    }\n",
       "\n",
       "    .dataframe thead th {\n",
       "        text-align: right;\n",
       "    }\n",
       "</style>\n",
       "<table border=\"1\" class=\"dataframe\">\n",
       "  <thead>\n",
       "    <tr style=\"text-align: right;\">\n",
       "      <th></th>\n",
       "      <th>Agent</th>\n",
       "      <th>Unit</th>\n",
       "    </tr>\n",
       "  </thead>\n",
       "  <tbody>\n",
       "    <tr>\n",
       "      <th>0</th>\n",
       "      <td>C6H6</td>\n",
       "      <td>ug/m3</td>\n",
       "    </tr>\n",
       "    <tr>\n",
       "      <th>1</th>\n",
       "      <td>CO</td>\n",
       "      <td>mg/m3</td>\n",
       "    </tr>\n",
       "    <tr>\n",
       "      <th>2</th>\n",
       "      <td>NO</td>\n",
       "      <td>ug/m3</td>\n",
       "    </tr>\n",
       "    <tr>\n",
       "      <th>3</th>\n",
       "      <td>NO2</td>\n",
       "      <td>ug/m3</td>\n",
       "    </tr>\n",
       "    <tr>\n",
       "      <th>4</th>\n",
       "      <td>NOX</td>\n",
       "      <td>ug/m3</td>\n",
       "    </tr>\n",
       "    <tr>\n",
       "      <th>5</th>\n",
       "      <td>O3</td>\n",
       "      <td>ug/m3</td>\n",
       "    </tr>\n",
       "    <tr>\n",
       "      <th>6</th>\n",
       "      <td>PM10</td>\n",
       "      <td>ug/m3</td>\n",
       "    </tr>\n",
       "    <tr>\n",
       "      <th>7</th>\n",
       "      <td>PM2.5</td>\n",
       "      <td>ug/m3</td>\n",
       "    </tr>\n",
       "  </tbody>\n",
       "</table>\n",
       "</div>"
      ],
      "text/plain": [
       "   Agent   Unit\n",
       "0   C6H6  ug/m3\n",
       "1     CO  mg/m3\n",
       "2     NO  ug/m3\n",
       "3    NO2  ug/m3\n",
       "4    NOX  ug/m3\n",
       "5     O3  ug/m3\n",
       "6   PM10  ug/m3\n",
       "7  PM2.5  ug/m3"
      ]
     },
     "execution_count": 3,
     "metadata": {},
     "output_type": "execute_result"
    }
   ],
   "source": [
    "air_pollution_df.groupby([ 'Agent','Unit']).size().reset_index(name='counts').drop(columns='counts')"
   ]
  },
  {
   "cell_type": "code",
   "execution_count": 4,
   "metadata": {},
   "outputs": [],
   "source": [
    "agents = np.unique(air_pollution_df['Agent'])\n",
    "stations = np.unique(air_pollution_df['Station'])\n",
    "\n",
    "station_dfs = {s:air_pollution_df[air_pollution_df['Station'] == s] for s in stations}"
   ]
  },
  {
   "cell_type": "markdown",
   "metadata": {},
   "source": [
    "## Missing Values"
   ]
  },
  {
   "cell_type": "markdown",
   "metadata": {},
   "source": [
    "\n",
    "Check gaps in the data"
   ]
  },
  {
   "cell_type": "code",
   "execution_count": null,
   "metadata": {},
   "outputs": [],
   "source": [
    "s=stations[0]\n",
    "print(f'Station {s}:')\n",
    "for agent in np.unique(station_dfs[s]['Agent']):\n",
    "    print(f' - Agent: {agent}')\n",
    "    mask=(station_dfs[s]['Agent']==agent)\n",
    "    timedeltas_hours = station_dfs[s]['Date'][mask].diff().dt.total_seconds()[1:] / 3600  # Convert to hours\n",
    "    display(pd.DataFrame(timedeltas_hours.value_counts()).transpose())"
   ]
  },
  {
   "cell_type": "code",
   "execution_count": null,
   "metadata": {},
   "outputs": [],
   "source": [
    "s=stations[1]\n",
    "print(f'Station {s}:')\n",
    "for agent in np.unique(station_dfs[s]['Agent']):\n",
    "    print(f' - Agent: {agent}')\n",
    "    mask=(station_dfs[s]['Agent']==agent)\n",
    "    timedeltas_hours = station_dfs[s]['Date'][mask].diff().dt.total_seconds()[1:] / 3600  # Convert to hours\n",
    "    display(pd.DataFrame(timedeltas_hours.value_counts()).transpose())"
   ]
  },
  {
   "cell_type": "code",
   "execution_count": null,
   "metadata": {},
   "outputs": [],
   "source": [
    "s=stations[2]\n",
    "print(f'Station {s}:')\n",
    "for agent in np.unique(station_dfs[s]['Agent']):\n",
    "    print(f' - Agent: {agent}')\n",
    "    mask=(station_dfs[s]['Agent']==agent)\n",
    "    timedeltas_hours = station_dfs[s]['Date'][mask].diff().dt.total_seconds()[1:] / 3600  # Convert to hours\n",
    "    display(pd.DataFrame(timedeltas_hours.value_counts()).transpose())"
   ]
  },
  {
   "cell_type": "markdown",
   "metadata": {},
   "source": [
    "### Resampling"
   ]
  },
  {
   "cell_type": "markdown",
   "metadata": {},
   "source": [
    "Resample (modify dataframe to have a dense index and add also to each row the missing values for station and Unit(not really necessary anyway))\n",
    "PM are resampled at 24h, other agents at 1h"
   ]
  },
  {
   "cell_type": "code",
   "execution_count": null,
   "metadata": {},
   "outputs": [],
   "source": [
    "agents_dict = {\n",
    "    'PM10': '24h',\n",
    "    'PM2.5': '24h',\n",
    "    'CO': '1h',\n",
    "    'O3': '1h',\n",
    "    'NO': '1h',\n",
    "    'NO2': '1h',\n",
    "    'NOX': '1h',\n",
    "    'C6H6': '1h'\n",
    "}\n",
    "\n",
    "resampled_san_felice_df = resample_df_on_column(station_dfs[stations[1]], agents_dict)\n",
    "resampled_san_felice_df[resampled_san_felice_df['Agent'] == 'NO2'].head()\n"
   ]
  },
  {
   "cell_type": "markdown",
   "metadata": {},
   "source": [
    "Added the missing rows but still the value is Nan"
   ]
  },
  {
   "cell_type": "code",
   "execution_count": null,
   "metadata": {},
   "outputs": [],
   "source": [
    "start_date=datetime(2019,1,1)\n",
    "end_date=datetime(2019,1,7)\n",
    "\n",
    "to_plot = resampled_san_felice_df[resampled_san_felice_df['Agent']=='CO']\n",
    "\n",
    "# plot_time_series([giardini_df[giardini_df['Agent']=='CO']], 'Value', 'Date', legends=['CO'], start_date=start_date, end_date=end_date, title='Original Data')\n",
    "plot_time_series([to_plot], 'Value', 'Date', legends=['CO'], start_date=start_date, end_date=end_date, title='Resampled Data')"
   ]
  },
  {
   "cell_type": "code",
   "execution_count": null,
   "metadata": {},
   "outputs": [],
   "source": [
    "start_date=datetime(2022,1,1)\n",
    "end_date=datetime(2025,1,1)\n",
    "\n",
    "# display the gaps of at lest 5 hours of NO2\n",
    "plot_missing_value_gaps(to_plot,start_date=start_date, end_date=end_date,\n",
    "                         min_gap=5, surrounding_vals=20)"
   ]
  },
  {
   "cell_type": "markdown",
   "metadata": {},
   "source": [
    "Check the amount of missing data for each agent."
   ]
  },
  {
   "cell_type": "code",
   "execution_count": null,
   "metadata": {},
   "outputs": [],
   "source": [
    "for agent in np.unique(resampled_san_felice_df['Agent']):\n",
    "    count = resampled_san_felice_df[resampled_san_felice_df['Agent']==agent].isna().sum()['Value']\n",
    "    tot = len(resampled_san_felice_df[resampled_san_felice_df['Agent']==agent])\n",
    "    print(f'Agent {agent}: {count}({count/tot:.4f}%) missing Values')"
   ]
  },
  {
   "cell_type": "markdown",
   "metadata": {},
   "source": [
    "## Filling Missing Values"
   ]
  },
  {
   "cell_type": "markdown",
   "metadata": {},
   "source": [
    "Even if the data missing is small, oftentimes they create a big gap of missing values. We will try to reconstruct it to a somewhat reasonable behaviour."
   ]
  },
  {
   "cell_type": "markdown",
   "metadata": {},
   "source": [
    "### Full Process"
   ]
  },
  {
   "cell_type": "markdown",
   "metadata": {},
   "source": [
    "For each agent, we train a model to reconstruct the missing values."
   ]
  },
  {
   "cell_type": "markdown",
   "metadata": {},
   "source": [
    "#### Time Period"
   ]
  },
  {
   "cell_type": "markdown",
   "metadata": {},
   "source": [
    "the prof had 5 min sampling and used 8 days... we have 60 minutes so... 3 months (?)"
   ]
  },
  {
   "cell_type": "markdown",
   "metadata": {},
   "source": [
    "Looking at the plots, most of 2023 and 2024 havent got big gaps, but also early 2019/2023 and late 2022. Let's try november 2022 to february 2023.\n",
    "\n",
    "Edit: mi sa non bastano?? allungo un po\n"
   ]
  },
  {
   "cell_type": "code",
   "execution_count": null,
   "metadata": {},
   "outputs": [],
   "source": [
    "start = datetime(2022,4,5,8)\n",
    "end = datetime(2022,6,30)\n",
    "end-start"
   ]
  },
  {
   "cell_type": "markdown",
   "metadata": {},
   "source": [
    "We are going to work with NO2 data."
   ]
  },
  {
   "cell_type": "code",
   "execution_count": null,
   "metadata": {},
   "outputs": [],
   "source": [
    "resampled_giardini_df['Date_idx'] = np.arange(len(resampled_giardini_df))"
   ]
  },
  {
   "cell_type": "code",
   "execution_count": null,
   "metadata": {},
   "outputs": [],
   "source": [
    "segment = resampled_giardini_df[(resampled_giardini_df['Agent']=='NO2')&(resampled_giardini_df['Date']>=start)&(resampled_giardini_df['Date']<end)]\n",
    "display(segment.isna().sum())\n",
    "# display(segment)"
   ]
  },
  {
   "cell_type": "markdown",
   "metadata": {},
   "source": [
    "#### Train and Test set"
   ]
  },
  {
   "cell_type": "markdown",
   "metadata": {},
   "source": [
    "The segment has only 4 missing values, so we choose a good period... Let's drop these rows and prepare a training and test set."
   ]
  },
  {
   "cell_type": "code",
   "execution_count": null,
   "metadata": {},
   "outputs": [],
   "source": [
    "tmp = segment.copy()\n",
    "tmp = tmp.dropna()\n",
    "tmp"
   ]
  },
  {
   "cell_type": "code",
   "execution_count": null,
   "metadata": {},
   "outputs": [],
   "source": [
    "np.random.seed(42)\n",
    "idx = np.arange(len(tmp))\n",
    "np.random.shuffle(idx[1:-1]) # do not shuffle the first/last point\n",
    "t = idx[1]; idx[1] = idx[-1]; idx[-1] = t # keep first/last points in the left half (??????????????????????????????????????????????????????????????????????????)\n",
    "\n",
    "split=0.8 # maybe a bit more than 2/3 since that there are little missing values? \n",
    "sep = int(len(idx) * split)\n",
    "train_data = tmp.iloc[idx[:sep]]\n",
    "test_data = tmp.iloc[idx[sep:]]"
   ]
  },
  {
   "cell_type": "code",
   "execution_count": null,
   "metadata": {},
   "outputs": [],
   "source": [
    "from sklearn.gaussian_process.kernels import RBF, ConstantKernel, WhiteKernel\n",
    "from sklearn.gaussian_process.kernels import ExpSineSquared, DotProduct, Matern\n",
    "from sklearn.gaussian_process import GaussianProcessRegressor\n",
    "from scipy.stats import norm\n",
    "\n",
    "figsize=(20,4)"
   ]
  },
  {
   "cell_type": "markdown",
   "metadata": {},
   "source": [
    "#### First kernel"
   ]
  },
  {
   "cell_type": "code",
   "execution_count": null,
   "metadata": {},
   "outputs": [],
   "source": [
    "kernel = WhiteKernel(1e-3, (1e-4, 1e2))\n",
    "kernel += ConstantKernel(1, (1e-2, 5e3)) * RBF(1, (1e-1, 1e1))\n",
    "\n",
    "np.random.seed(42)\n",
    "gp = GaussianProcessRegressor(kernel=kernel, n_restarts_optimizer=3)\n",
    "gp.fit(train_data[['Date_idx']], train_data['Value'])\n",
    "print(gp.kernel_)"
   ]
  },
  {
   "cell_type": "code",
   "execution_count": null,
   "metadata": {},
   "outputs": [],
   "source": [
    "pred, std = gp.predict(segment[['Date_idx']], return_std=True)\n",
    "pred = pd.Series(index=segment.index, data=pred)\n",
    "std = pd.Series(index=segment.index, data=std)"
   ]
  },
  {
   "cell_type": "code",
   "execution_count": null,
   "metadata": {},
   "outputs": [],
   "source": [
    "plot_gp(target_samples=test_data['Value'], samples=train_data['Value'], pred=pred, std=std, figsize=figsize)"
   ]
  },
  {
   "cell_type": "code",
   "execution_count": null,
   "metadata": {},
   "outputs": [],
   "source": [
    "# Obtain predictions for the validation data\n",
    "pred_ts = pred[test_data.index]\n",
    "std_ts = std[test_data.index]\n",
    "\n",
    "ldens = norm.logpdf(test_data['Value'], pred_ts, std_ts)\n",
    "ll = np.sum(ldens)\n",
    "print(f'Log likelihood of the validation set: {ll:.2f}')"
   ]
  },
  {
   "cell_type": "markdown",
   "metadata": {},
   "source": [
    "#### Second Kernel"
   ]
  },
  {
   "cell_type": "code",
   "execution_count": null,
   "metadata": {},
   "outputs": [],
   "source": [
    "kernel = WhiteKernel(1e-3, (1e-4, 1e2))\n",
    "kernel += ConstantKernel(1, (1e-2, 1e3)) * RBF(1, (1e-1, 1e1))\n",
    "kernel += ConstantKernel(1, (1e-2, 1e3)) * ExpSineSquared(1, 2000, (1e-1, 1e1), (900, 2100))\n",
    "\n",
    "np.random.seed(42)\n",
    "gp = GaussianProcessRegressor(kernel=kernel, n_restarts_optimizer=3)\n",
    "gp.fit(train_data[['Date_idx']], train_data['Value'])\n",
    "print(gp.kernel_)"
   ]
  },
  {
   "cell_type": "code",
   "execution_count": null,
   "metadata": {},
   "outputs": [],
   "source": [
    "pred, std = gp.predict(segment[['Date_idx']], return_std=True)\n",
    "pred = pd.Series(index=segment.index, data=pred)\n",
    "std = pd.Series(index=segment.index, data=std)"
   ]
  },
  {
   "cell_type": "code",
   "execution_count": null,
   "metadata": {},
   "outputs": [],
   "source": [
    "plot_gp(target_samples=test_data['Value'], samples=train_data['Value'], pred=pred, std=std, figsize=figsize)\n",
    "ldens = norm.logpdf(test_data['Value'], pred[test_data.index], std[test_data.index])\n",
    "print(f'Log likelihood of the validation set: {np.sum(ldens):.2f}')"
   ]
  },
  {
   "cell_type": "markdown",
   "metadata": {},
   "source": [
    "#### sezione strana sulla std"
   ]
  },
  {
   "cell_type": "code",
   "execution_count": null,
   "metadata": {},
   "outputs": [],
   "source": []
  },
  {
   "cell_type": "markdown",
   "metadata": {},
   "source": [
    "#### Full data filling\n",
    "\n",
    "***NOTE** : just NO2*"
   ]
  },
  {
   "cell_type": "code",
   "execution_count": null,
   "metadata": {},
   "outputs": [],
   "source": [
    "start_date=datetime(2022,3,20)\n",
    "end_date=datetime(2022,4,30)\n",
    "\n",
    "no2_df = resampled_giardini_df[(resampled_giardini_df['Agent']=='NO2')&(resampled_giardini_df['Date']>=start_date)&(resampled_giardini_df['Date']<=end_date)]\n",
    "len(no2_df)"
   ]
  },
  {
   "cell_type": "code",
   "execution_count": null,
   "metadata": {},
   "outputs": [],
   "source": [
    "gp2 = GaussianProcessRegressor(kernel=gp.kernel_, optimizer=None)\n",
    "tmp = no2_df.dropna() # The whole series (NaNs excluded)\n",
    "gp2.fit(tmp[['Date_idx']], tmp['Value'])\n",
    "pred_all, std_all = gp2.predict(no2_df[['Date_idx']], return_std=True)\n",
    "pred_all = pd.Series(index=no2_df.index, data=pred_all)\n",
    "std_all = pd.Series(index=no2_df.index, data=std_all)"
   ]
  },
  {
   "cell_type": "markdown",
   "metadata": {},
   "source": [
    "predictions :("
   ]
  },
  {
   "cell_type": "code",
   "execution_count": null,
   "metadata": {},
   "outputs": [],
   "source": [
    "plot_gp(samples=no2_df['Value'], pred=pred_all, std=std_all, figsize=figsize)"
   ]
  },
  {
   "cell_type": "markdown",
   "metadata": {},
   "source": [
    "### Final Function"
   ]
  },
  {
   "cell_type": "code",
   "execution_count": null,
   "metadata": {},
   "outputs": [],
   "source": [
    "model = {\n",
    "    \n",
    "}\n",
    "\n",
    "filled_giardini_df = fill_missing_dates_on_column_value(resampled_giardini_df, column_to_fill='Value', mode='model', model_settings=model)\n",
    "filled_giardini_df.isna().sum()"
   ]
  },
  {
   "cell_type": "code",
   "execution_count": null,
   "metadata": {},
   "outputs": [],
   "source": [
    "agent_dfs = df_to_agents_dict(filled_giardini_df)"
   ]
  },
  {
   "cell_type": "markdown",
   "metadata": {},
   "source": [
    "## **AQI**"
   ]
  },
  {
   "cell_type": "markdown",
   "metadata": {},
   "source": [
    "For each station we develop a model to describe the air pollution. Given that each station collects different data, and sometimes with different intensities, we decided to treat each station indepentendtely.\n",
    "\n",
    "Air polution follows this criteria:\n",
    "- for each pollutant a certain limit is defined (like 25 µg/m³ for PM2.5)\n",
    "- for each pollutant $ AQI = \\frac{Concentration}{Limit} \\times 100 $\n",
    "- take the maximum value across all the IQAs \n",
    "\n",
    "The overage value is then matched on the following table:\n",
    "\n",
    "| **AQI**         | **CONDITIONS** |\n",
    "| --------------- | -------------- |\n",
    "| <30             | EXCELLENT      |\n",
    "| From 34 to 66   | GOOD           |\n",
    "| From 67 to 99   | FAIR           |\n",
    "| From 99 to 150  | POOR           |\n",
    "| >150            | VERY POOR      |\n",
    "\n",
    "We are going to model each agent to predict its hour value and then use all of the predictions to compute the overall Air Quality Index and compare it with the one got from the readings."
   ]
  },
  {
   "cell_type": "markdown",
   "metadata": {},
   "source": [
    "<table class=\"pure-table legenda\">\n",
    "    <thead>\n",
    "        <tr class=\"main\"><th colspan=\"5\">Limiti di riferimento per gli inquinanti monitorati (D.Lgs.155/2010)</th></tr>\n",
    "        <tr>\n",
    "            <th>Inquinante</th>\n",
    "            <th>Limite</th>\n",
    "            <th>Periodo di mediazione</th>\n",
    "            <th>Limite</th>\n",
    "        </tr>\n",
    "    </thead>\n",
    "    <tbody>\n",
    "        <tr>\n",
    "            <td>PM10 (µg/m<sup>3</sup>)</td>\n",
    "            <td data-column=\"Limite\">Valore limite giornaliero</td>\n",
    "            <td data-column=\"Media\">Media giornaliera</td>\n",
    "            <td data-column=\"Limite\">50 µg/m<sup>3</sup></td>\n",
    "        </tr>\n",
    "        <tr>\n",
    "            <td><abbr title=\"Biossido di azoto\">NO<sub>2</sub></abbr> (µg/m<sup>3</sup>)</td>\n",
    "            <td data-column=\"Limite\">Valore limite orario</td>\n",
    "            <td data-column=\"Media\">Media oraria</td>\n",
    "            <td data-column=\"Limite\">200 µg/m<sup>3</sup></td>\n",
    "        </tr>\n",
    "        <tr>\n",
    "            <td rowspan=\"3\"><abbr title=\"Ozono\">O<sub>3</sub></abbr> (µg/m<sup>3</sup>)</td>\n",
    "            <td data-column=\"Limite\">Soglia d'informazione</td>\n",
    "            <td data-column=\"Media\">Media oraria</td>\n",
    "            <td data-column=\"Limite\">180 µg/m<sup>3</sup></td>\n",
    "        </tr>\n",
    "        <tr>\n",
    "            <td>Soglia d'allarme</td>\n",
    "            <td data-column=\"Media\">Media oraria</td>\n",
    "            <td data-column=\"Limite\">240 µg/m<sup>3</sup></td>\n",
    "        </tr>\n",
    "        <tr>\n",
    "            <td>Valore obiettivo</td>\n",
    "            <td data-column=\"Media\">Massima delle medie mobili su 8 ore</td>\n",
    "            <td data-column=\"Limite\">120 µg/m<sup>3</sup></td>\n",
    "        </tr>\n",
    "        <tr>\n",
    "            <td><abbr title=\"Monossido di carbonio\">CO</abbr> (mg/m<sup>3</sup>)</td>\n",
    "            <td data-column=\"Limite\">Valore limite</td>\n",
    "            <td data-column=\"Media\">Massima delle medie mobili su 8 ore</td>\n",
    "            <td data-column=\"Limite\">10 mg/m<sup>3</sup></td>\n",
    "        </tr>\n",
    "        <tr>\n",
    "            <td><abbr title=\"Biossido di zolfo\">SO<sub>2</sub></abbr> (µg/m<sup>3</sup>)</td>\n",
    "            <td data-column=\"Limite\">Valore limite giornaliero</td>\n",
    "            <td data-column=\"Media\">Media giornaliera</td>\n",
    "            <td data-column=\"Limite\">125 µg/m<sup>3</sup></td>\n",
    "        </tr>\n",
    "        <tr>\n",
    "            <td>PM2.5 (µg/m<sup>3</sup>)</td>\n",
    "            <td data-column=\"Limite\">Valore limite su base annua</td>\n",
    "            <td data-column=\"Media\">Media giornaliera</td>\n",
    "            <td data-column=\"Limite\">25 µg/m<sup>3</sup></td>\n",
    "        </tr>\n",
    "        <tr>\n",
    "            <td>Benzene (µg/m<sup>3</sup>)</td>\n",
    "            <td data-column=\"Limite\">Valore limite su base annua</td>\n",
    "            <td data-column=\"Media\">Media giornaliera</td>\n",
    "            <td data-column=\"Limite\">5 µg/m<sup>3</sup></td>\n",
    "        </tr>\n",
    "    </tbody>\n",
    "</table>\n",
    "\n",
    "*source: [ARPAE](https://apps.arpae.it/qualita-aria/bollettino-qa-provinciale/bo)*"
   ]
  },
  {
   "cell_type": "markdown",
   "metadata": {},
   "source": [
    "### Agents"
   ]
  },
  {
   "cell_type": "markdown",
   "metadata": {},
   "source": [
    "Let's inspect our agents:"
   ]
  },
  {
   "cell_type": "code",
   "execution_count": 5,
   "metadata": {},
   "outputs": [
    {
     "data": {
      "image/png": "[encoded data removed]",
      "text/plain": [
       "<Figure size 1500x500 with 6 Axes>"
      ]
     },
     "metadata": {},
     "output_type": "display_data"
    }
   ],
   "source": [
    "fig, axes = plt.subplots(1, 3, figsize=(15, 5))\n",
    "\n",
    "for i, s in enumerate(stations):\n",
    "    corr_matrix = station_dfs[s].pivot_table(index='Date', columns='Agent', values='Value').corr()\n",
    "    axes[i].set_title(f'Correlation matrix for {s}')\n",
    "    sns.heatmap(corr_matrix, annot=True, cmap='coolwarm', fmt='.2f', ax=axes[i])\n",
    "\n",
    "plt.tight_layout()\n",
    "plt.show()"
   ]
  },
  {
   "cell_type": "markdown",
   "metadata": {},
   "source": [
    "In the AQI standard NO and NOX are not present. NOX is simply a short-hand for both NO and NO2, in fatcs it is higly correlated with both of them. We can safely drop it because it is not useful and we already have its informations.\n",
    "\n",
    "Even if NO is different form NO2, it is not used to predict the Air Quality Index, so we choose to ignore it in outr models."
   ]
  },
  {
   "cell_type": "code",
   "execution_count": 6,
   "metadata": {},
   "outputs": [],
   "source": [
    "for s in stations:\n",
    "    station_dfs[s] = station_dfs[s][~station_dfs[s]['Agent'].isin(['NO','NOX'])]"
   ]
  },
  {
   "cell_type": "markdown",
   "metadata": {},
   "source": [
    "### Visualization"
   ]
  },
  {
   "cell_type": "code",
   "execution_count": 7,
   "metadata": {},
   "outputs": [],
   "source": [
    "pollutant_limits = {\n",
    "    'PM2.5': 25,    # µg/m³\n",
    "    'PM10': 50,     # µg/m³\n",
    "    'CO': 10,       # mg/m³\n",
    "    'O3': 180,      # µg/m³\n",
    "    'NO2': 200,     # µg/m³\n",
    "    'C6H6': 5       # µg/m³\n",
    "}"
   ]
  },
  {
   "cell_type": "code",
   "execution_count": 8,
   "metadata": {},
   "outputs": [
    {
     "name": "stdout",
     "output_type": "stream",
     "text": [
      "Splitting station \"GIARDINI MARGHERITA\"...\n",
      "Splitting station \"PORTA SAN FELICE\"...\n",
      "Splitting station \"VIA CHIARINI\"...\n",
      "Station GIARDINI MARGHERITA agents:\n",
      " -NO2,O3,PM10,PM2.5\n",
      "Station PORTA SAN FELICE agents:\n",
      " -C6H6,CO,NO2,PM10,PM2.5\n",
      "Station VIA CHIARINI agents:\n",
      " -NO2,O3,PM10\n"
     ]
    }
   ],
   "source": [
    "station_dicts = {s:df_to_agents_dict(station_dfs[s].drop(columns=['Unit']), drop_agents=True, drop_stations=True) for s in stations}\n",
    "for k in station_dicts:\n",
    "    print(f'Station {k} agents:',end='\\n -')\n",
    "    print(*list(station_dicts[k].keys()),sep=',')"
   ]
  },
  {
   "cell_type": "markdown",
   "metadata": {},
   "source": [
    "For each station construct the daily and hourly AQI for each agent."
   ]
  },
  {
   "cell_type": "code",
   "execution_count": 9,
   "metadata": {},
   "outputs": [],
   "source": [
    "station_AQIs_daily = {\n",
    "    s: {agent: get_AQI(station_dicts[s][agent], agent=agent, limit=pollutant_limits[agent], period='day', value_column='Value') for agent in station_dicts[s].keys()} for s in station_dicts\n",
    "}\n",
    "station_AQIs_hourly = {\n",
    "    s: {agent: get_AQI(station_dicts[s][agent], agent=agent, limit=pollutant_limits[agent], period='hour', value_column='Value') for agent in station_dicts[s].keys()} for s in station_dicts\n",
    "}"
   ]
  },
  {
   "cell_type": "code",
   "execution_count": 11,
   "metadata": {},
   "outputs": [
    {
     "data": {
      "application/vnd.plotly.v1+json": {
       "config": {
        "plotlyServerURL": "https://plot.ly"
       },
       "data": [
        {
         "hovertemplate": "agent=PM2.5<br>Date=%{x}<br>AQI=%{y}<extra></extra>",
         "legendgroup": "PM2.5",
         "marker": {
          "color": "#636efa",
          "pattern": {
           "shape": ""
          }
         },
         "name": "PM2.5",
         "orientation": "v",
         "showlegend": true,
         "textposition": "auto",
         "type": "bar",
         "x": [
          "2019-01-01T00:00:00.000000000",
          "2019-01-02T00:00:00.000000000",
          "2019-01-03T00:00:00.000000000",
          "2019-01-04T00:00:00.000000000",
          "2019-01-05T00:00:00.000000000",
          "2019-01-06T00:00:00.000000000",
          "2019-01-07T00:00:00.000000000",
          "2019-01-08T00:00:00.000000000",
          "2019-01-09T00:00:00.000000000",
          "2019-01-10T00:00:00.000000000",
          "2019-01-11T00:00:00.000000000",
          "2019-01-12T00:00:00.000000000",
          "2019-01-13T00:00:00.000000000",
          "2019-01-14T00:00:00.000000000",
          "2019-01-15T00:00:00.000000000",
          "2019-01-16T00:00:00.000000000",
          "2019-01-17T00:00:00.000000000",
          "2019-01-18T00:00:00.000000000",
          "2019-01-19T00:00:00.000000000",
          "2019-01-20T00:00:00.000000000",
          "2019-01-21T00:00:00.000000000",
          "2019-01-22T00:00:00.000000000",
          "2019-01-23T00:00:00.000000000",
          "2019-01-25T00:00:00.000000000",
          "2019-01-26T00:00:00.000000000",
          "2019-01-27T00:00:00.000000000",
          "2019-01-28T00:00:00.000000000",
          "2019-01-29T00:00:00.000000000",
          "2019-01-30T00:00:00.000000000",
          "2019-01-31T00:00:00.000000000",
          "2019-02-01T00:00:00.000000000",
          "2019-02-02T00:00:00.000000000",
          "2019-02-03T00:00:00.000000000",
          "2019-02-04T00:00:00.000000000",
          "2019-02-05T00:00:00.000000000",
          "2019-02-06T00:00:00.000000000",
          "2019-02-07T00:00:00.000000000",
          "2019-02-08T00:00:00.000000000",
          "2019-02-09T00:00:00.000000000",
          "2019-02-10T00:00:00.000000000",
          "2019-02-11T00:00:00.000000000",
          "2019-02-12T00:00:00.000000000",
          "2019-02-13T00:00:00.000000000",
          "2019-02-14T00:00:00.000000000",
          "2019-02-15T00:00:00.000000000",
          "2019-02-16T00:00:00.000000000",
          "2019-02-17T00:00:00.000000000",
          "2019-02-18T00:00:00.000000000",
          "2019-02-19T00:00:00.000000000",
          "2019-02-20T00:00:00.000000000",
          "2019-02-21T00:00:00.000000000",
          "2019-02-22T00:00:00.000000000",
          "2019-02-23T00:00:00.000000000",
          "2019-02-24T00:00:00.000000000",
          "2019-02-25T00:00:00.000000000",
          "2019-02-26T00:00:00.000000000",
          "2019-02-27T00:00:00.000000000",
          "2019-02-28T00:00:00.000000000",
          "2019-03-01T00:00:00.000000000",
          "2019-03-02T00:00:00.000000000",
          "2019-03-03T00:00:00.000000000",
          "2019-03-04T00:00:00.000000000",
          "2019-03-05T00:00:00.000000000",
          "2019-03-06T00:00:00.000000000",
          "2019-03-10T00:00:00.000000000",
          "2019-03-12T00:00:00.000000000",
          "2019-03-13T00:00:00.000000000",
          "2019-03-14T00:00:00.000000000",
          "2019-03-15T00:00:00.000000000",
          "2019-03-16T00:00:00.000000000",
          "2019-03-18T00:00:00.000000000",
          "2019-03-19T00:00:00.000000000",
          "2019-03-20T00:00:00.000000000",
          "2019-03-21T00:00:00.000000000",
          "2019-03-22T00:00:00.000000000",
          "2019-03-23T00:00:00.000000000",
          "2019-03-26T00:00:00.000000000",
          "2019-03-27T00:00:00.000000000",
          "2019-03-28T00:00:00.000000000",
          "2019-03-29T00:00:00.000000000",
          "2019-03-30T00:00:00.000000000",
          "2019-04-01T00:00:00.000000000",
          "2019-04-06T00:00:00.000000000",
          "2019-04-07T00:00:00.000000000",
          "2019-04-11T00:00:00.000000000",
          "2019-04-12T00:00:00.000000000",
          "2019-04-13T00:00:00.000000000",
          "2019-04-14T00:00:00.000000000",
          "2019-04-15T00:00:00.000000000",
          "2019-04-16T00:00:00.000000000",
          "2019-04-17T00:00:00.000000000",
          "2019-04-18T00:00:00.000000000",
          "2019-04-19T00:00:00.000000000",
          "2019-04-23T00:00:00.000000000",
          "2019-04-24T00:00:00.000000000",
          "2019-04-25T00:00:00.000000000",
          "2019-05-06T00:00:00.000000000",
          "2019-05-13T00:00:00.000000000",
          "2019-05-29T00:00:00.000000000",
          "2019-05-30T00:00:00.000000000",
          "2019-06-07T00:00:00.000000000",
          "2019-06-08T00:00:00.000000000",
          "2019-06-09T00:00:00.000000000",
          "2019-06-10T00:00:00.000000000",
          "2019-06-13T00:00:00.000000000",
          "2019-06-14T00:00:00.000000000",
          "2019-07-15T00:00:00.000000000",
          "2019-08-20T00:00:00.000000000",
          "2019-08-21T00:00:00.000000000",
          "2019-08-22T00:00:00.000000000",
          "2019-08-23T00:00:00.000000000",
          "2019-08-24T00:00:00.000000000",
          "2019-08-25T00:00:00.000000000",
          "2019-08-26T00:00:00.000000000",
          "2019-08-27T00:00:00.000000000",
          "2019-08-28T00:00:00.000000000",
          "2019-08-29T00:00:00.000000000",
          "2019-08-30T00:00:00.000000000",
          "2019-08-31T00:00:00.000000000",
          "2019-09-01T00:00:00.000000000",
          "2019-09-04T00:00:00.000000000",
          "2019-09-10T00:00:00.000000000",
          "2019-09-11T00:00:00.000000000",
          "2019-09-13T00:00:00.000000000",
          "2019-09-19T00:00:00.000000000",
          "2019-09-20T00:00:00.000000000",
          "2019-09-21T00:00:00.000000000",
          "2019-09-22T00:00:00.000000000",
          "2019-09-23T00:00:00.000000000",
          "2019-09-24T00:00:00.000000000",
          "2019-09-25T00:00:00.000000000",
          "2019-09-26T00:00:00.000000000",
          "2019-09-27T00:00:00.000000000",
          "2019-10-04T00:00:00.000000000",
          "2019-10-05T00:00:00.000000000",
          "2019-10-06T00:00:00.000000000",
          "2019-10-07T00:00:00.000000000",
          "2019-10-08T00:00:00.000000000",
          "2019-10-09T00:00:00.000000000",
          "2019-10-10T00:00:00.000000000",
          "2019-10-11T00:00:00.000000000",
          "2019-10-12T00:00:00.000000000",
          "2019-10-13T00:00:00.000000000",
          "2019-10-14T00:00:00.000000000",
          "2019-10-17T00:00:00.000000000",
          "2019-10-18T00:00:00.000000000",
          "2019-10-19T00:00:00.000000000",
          "2019-10-20T00:00:00.000000000",
          "2019-10-21T00:00:00.000000000",
          "2019-10-22T00:00:00.000000000",
          "2019-10-23T00:00:00.000000000",
          "2019-10-24T00:00:00.000000000",
          "2019-10-25T00:00:00.000000000",
          "2019-10-26T00:00:00.000000000",
          "2019-10-27T00:00:00.000000000",
          "2019-10-28T00:00:00.000000000",
          "2019-10-29T00:00:00.000000000",
          "2019-10-30T00:00:00.000000000",
          "2019-10-31T00:00:00.000000000",
          "2019-11-01T00:00:00.000000000",
          "2019-11-05T00:00:00.000000000",
          "2019-11-06T00:00:00.000000000",
          "2019-11-07T00:00:00.000000000",
          "2019-11-08T00:00:00.000000000",
          "2019-11-09T00:00:00.000000000",
          "2019-11-10T00:00:00.000000000",
          "2019-11-12T00:00:00.000000000",
          "2019-11-13T00:00:00.000000000",
          "2019-11-14T00:00:00.000000000",
          "2019-11-15T00:00:00.000000000",
          "2019-11-16T00:00:00.000000000",
          "2019-11-17T00:00:00.000000000",
          "2019-11-18T00:00:00.000000000",
          "2019-11-19T00:00:00.000000000",
          "2019-11-20T00:00:00.000000000",
          "2019-11-21T00:00:00.000000000",
          "2019-11-22T00:00:00.000000000",
          "2019-11-23T00:00:00.000000000",
          "2019-11-24T00:00:00.000000000",
          "2019-11-25T00:00:00.000000000",
          "2019-11-26T00:00:00.000000000",
          "2019-11-27T00:00:00.000000000",
          "2019-11-28T00:00:00.000000000",
          "2019-11-29T00:00:00.000000000",
          "2019-11-30T00:00:00.000000000",
          "2019-12-01T00:00:00.000000000",
          "2019-12-02T00:00:00.000000000",
          "2019-12-03T00:00:00.000000000",
          "2019-12-04T00:00:00.000000000",
          "2019-12-05T00:00:00.000000000",
          "2019-12-06T00:00:00.000000000",
          "2019-12-07T00:00:00.000000000",
          "2019-12-08T00:00:00.000000000",
          "2019-12-09T00:00:00.000000000",
          "2019-12-10T00:00:00.000000000",
          "2019-12-11T00:00:00.000000000",
          "2019-12-12T00:00:00.000000000",
          "2019-12-13T00:00:00.000000000",
          "2019-12-14T00:00:00.000000000",
          "2019-12-15T00:00:00.000000000",
          "2019-12-16T00:00:00.000000000",
          "2019-12-17T00:00:00.000000000",
          "2019-12-18T00:00:00.000000000",
          "2019-12-23T00:00:00.000000000",
          "2019-12-24T00:00:00.000000000",
          "2019-12-25T00:00:00.000000000",
          "2019-12-26T00:00:00.000000000",
          "2019-12-27T00:00:00.000000000",
          "2019-12-28T00:00:00.000000000",
          "2019-12-29T00:00:00.000000000",
          "2019-12-30T00:00:00.000000000"
         ],
         "xaxis": "x",
         "y": {
          "bdata": "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",
          "dtype": "f8"
         },
         "yaxis": "y"
        },
        {
         "hovertemplate": "agent=PM10<br>Date=%{x}<br>AQI=%{y}<extra></extra>",
         "legendgroup": "PM10",
         "marker": {
          "color": "#EF553B",
          "pattern": {
           "shape": ""
          }
         },
         "name": "PM10",
         "orientation": "v",
         "showlegend": true,
         "textposition": "auto",
         "type": "bar",
         "x": [
          "2019-01-24T00:00:00.000000000"
         ],
         "xaxis": "x",
         "y": {
          "bdata": "q6qqqqqqQEA=",
          "dtype": "f8"
         },
         "yaxis": "y"
        },
        {
         "hovertemplate": "agent=O3<br>Date=%{x}<br>AQI=%{y}<extra></extra>",
         "legendgroup": "O3",
         "marker": {
          "color": "#00cc96",
          "pattern": {
           "shape": ""
          }
         },
         "name": "O3",
         "orientation": "v",
         "showlegend": true,
         "textposition": "auto",
         "type": "bar",
         "x": [
          "2019-03-07T00:00:00.000000000",
          "2019-03-08T00:00:00.000000000",
          "2019-03-09T00:00:00.000000000",
          "2019-03-11T00:00:00.000000000",
          "2019-03-17T00:00:00.000000000",
          "2019-03-24T00:00:00.000000000",
          "2019-03-25T00:00:00.000000000",
          "2019-03-31T00:00:00.000000000",
          "2019-04-02T00:00:00.000000000",
          "2019-04-03T00:00:00.000000000",
          "2019-04-04T00:00:00.000000000",
          "2019-04-05T00:00:00.000000000",
          "2019-04-08T00:00:00.000000000",
          "2019-04-09T00:00:00.000000000",
          "2019-04-10T00:00:00.000000000",
          "2019-04-20T00:00:00.000000000",
          "2019-04-21T00:00:00.000000000",
          "2019-04-22T00:00:00.000000000",
          "2019-04-26T00:00:00.000000000",
          "2019-04-27T00:00:00.000000000",
          "2019-04-28T00:00:00.000000000",
          "2019-04-29T00:00:00.000000000",
          "2019-04-30T00:00:00.000000000",
          "2019-05-01T00:00:00.000000000",
          "2019-05-02T00:00:00.000000000",
          "2019-05-03T00:00:00.000000000",
          "2019-05-04T00:00:00.000000000",
          "2019-05-05T00:00:00.000000000",
          "2019-05-07T00:00:00.000000000",
          "2019-05-08T00:00:00.000000000",
          "2019-05-09T00:00:00.000000000",
          "2019-05-10T00:00:00.000000000",
          "2019-05-11T00:00:00.000000000",
          "2019-05-12T00:00:00.000000000",
          "2019-05-14T00:00:00.000000000",
          "2019-05-15T00:00:00.000000000",
          "2019-05-16T00:00:00.000000000",
          "2019-05-17T00:00:00.000000000",
          "2019-05-18T00:00:00.000000000",
          "2019-05-19T00:00:00.000000000",
          "2019-05-20T00:00:00.000000000",
          "2019-05-21T00:00:00.000000000",
          "2019-05-22T00:00:00.000000000",
          "2019-05-23T00:00:00.000000000",
          "2019-05-24T00:00:00.000000000",
          "2019-05-25T00:00:00.000000000",
          "2019-05-26T00:00:00.000000000",
          "2019-05-27T00:00:00.000000000",
          "2019-05-28T00:00:00.000000000",
          "2019-05-31T00:00:00.000000000",
          "2019-06-01T00:00:00.000000000",
          "2019-06-02T00:00:00.000000000",
          "2019-06-03T00:00:00.000000000",
          "2019-06-04T00:00:00.000000000",
          "2019-06-05T00:00:00.000000000",
          "2019-06-06T00:00:00.000000000",
          "2019-06-11T00:00:00.000000000",
          "2019-06-12T00:00:00.000000000",
          "2019-06-15T00:00:00.000000000",
          "2019-06-16T00:00:00.000000000",
          "2019-06-17T00:00:00.000000000",
          "2019-06-18T00:00:00.000000000",
          "2019-06-19T00:00:00.000000000",
          "2019-06-20T00:00:00.000000000",
          "2019-06-21T00:00:00.000000000",
          "2019-06-22T00:00:00.000000000",
          "2019-06-23T00:00:00.000000000",
          "2019-06-24T00:00:00.000000000",
          "2019-06-25T00:00:00.000000000",
          "2019-06-26T00:00:00.000000000",
          "2019-06-27T00:00:00.000000000",
          "2019-06-28T00:00:00.000000000",
          "2019-06-29T00:00:00.000000000",
          "2019-06-30T00:00:00.000000000",
          "2019-07-01T00:00:00.000000000",
          "2019-07-02T00:00:00.000000000",
          "2019-07-03T00:00:00.000000000",
          "2019-07-04T00:00:00.000000000",
          "2019-07-05T00:00:00.000000000",
          "2019-07-06T00:00:00.000000000",
          "2019-07-07T00:00:00.000000000",
          "2019-07-08T00:00:00.000000000",
          "2019-07-09T00:00:00.000000000",
          "2019-07-10T00:00:00.000000000",
          "2019-07-11T00:00:00.000000000",
          "2019-07-12T00:00:00.000000000",
          "2019-07-13T00:00:00.000000000",
          "2019-07-14T00:00:00.000000000",
          "2019-07-16T00:00:00.000000000",
          "2019-07-17T00:00:00.000000000",
          "2019-07-18T00:00:00.000000000",
          "2019-07-19T00:00:00.000000000",
          "2019-07-20T00:00:00.000000000",
          "2019-07-21T00:00:00.000000000",
          "2019-07-22T00:00:00.000000000",
          "2019-07-23T00:00:00.000000000",
          "2019-07-24T00:00:00.000000000",
          "2019-07-25T00:00:00.000000000",
          "2019-07-26T00:00:00.000000000",
          "2019-07-27T00:00:00.000000000",
          "2019-07-28T00:00:00.000000000",
          "2019-07-29T00:00:00.000000000",
          "2019-07-30T00:00:00.000000000",
          "2019-07-31T00:00:00.000000000",
          "2019-08-01T00:00:00.000000000",
          "2019-08-02T00:00:00.000000000",
          "2019-08-03T00:00:00.000000000",
          "2019-08-04T00:00:00.000000000",
          "2019-08-05T00:00:00.000000000",
          "2019-08-06T00:00:00.000000000",
          "2019-08-07T00:00:00.000000000",
          "2019-08-08T00:00:00.000000000",
          "2019-08-09T00:00:00.000000000",
          "2019-08-10T00:00:00.000000000",
          "2019-08-11T00:00:00.000000000",
          "2019-08-12T00:00:00.000000000",
          "2019-08-13T00:00:00.000000000",
          "2019-08-14T00:00:00.000000000",
          "2019-08-15T00:00:00.000000000",
          "2019-08-16T00:00:00.000000000",
          "2019-08-17T00:00:00.000000000",
          "2019-08-18T00:00:00.000000000",
          "2019-08-19T00:00:00.000000000",
          "2019-09-02T00:00:00.000000000",
          "2019-09-03T00:00:00.000000000",
          "2019-09-05T00:00:00.000000000",
          "2019-09-06T00:00:00.000000000",
          "2019-09-07T00:00:00.000000000",
          "2019-09-08T00:00:00.000000000",
          "2019-09-09T00:00:00.000000000",
          "2019-09-12T00:00:00.000000000",
          "2019-09-14T00:00:00.000000000",
          "2019-09-15T00:00:00.000000000",
          "2019-09-16T00:00:00.000000000",
          "2019-09-17T00:00:00.000000000",
          "2019-09-18T00:00:00.000000000",
          "2019-09-28T00:00:00.000000000",
          "2019-09-29T00:00:00.000000000",
          "2019-09-30T00:00:00.000000000",
          "2019-10-01T00:00:00.000000000",
          "2019-10-02T00:00:00.000000000",
          "2019-10-03T00:00:00.000000000",
          "2019-10-15T00:00:00.000000000",
          "2019-10-16T00:00:00.000000000",
          "2019-11-04T00:00:00.000000000",
          "2019-12-20T00:00:00.000000000",
          "2019-12-21T00:00:00.000000000",
          "2019-12-22T00:00:00.000000000"
         ],
         "xaxis": "x",
         "y": {
          "bdata": "0F5CewntREDkOI7jOK5CQIX2EtpLqEJAMKG9hPZyN0A4juM4jsM5QF5CewntpURAJrSX0F7CSkAQna/ukVZEQDmO4ziOo0FAtJfQXkLLRUDdI61MngBAQAAAAAAAQD9AaC+hvYQWQEB7Ce0ltJdBQHsJ7SW0Z0RAchzHcRwHQ0ByHMdxHBdCQFZVVVVVJUBACu0ltJcQQEBMaC+hvURGQB3HcRzHsT5AX0J7Ce3lNUAAAAAAACBCQNBeQnsJzUZAqqqqqqpqSUB7Ce0ltCdDQNBeQnsJ7TlAL6G9hPbyPkBoL6G9hBZAQL6E9hLa20FAtJfQXkLLQEDaS2gvoU1BQNBeQnsJbUdAMKG9hPbSNkB7Ce0ltDc3QI7jOI7juDNAvoT2EtrLPEBCewntJXQ7QJfQXkJ7STJAhfYS2kvIMED//////788QAAAAAAA8ERAVVVVVVUVRkCO4ziO43hCQKqqqqqq6kZAMKG9hPZyR0CF9hLaS4g+QBPaS2gvAT1Azs3Nzc1NQUDkOI7jOM5AQAAAAAAAcEdAOY7jOI4zSEDHcRzHcXxJQF5CewnttU1AhfYS2kv4TEAJ7SW0l2BKQPcS2ktov0VAvoT2EtqLRkDHcRzHcTxIQDChvYT24kpAvoT2Etq7SEBeQnsJ7ZVKQPcS2kto301AaS+hvYQmTkCrqqqqqupLQDmO4ziO40JAjuM4juN4R0D//////y9LQB3HcRzH4UtAOY7jOI4TUEDkOI7jOO5TQPcS2ktol1BAhfYS2ku4S0B7Ce0ltM9QQDmO4ziOu1JAGiV+RokfUEAU2ktoLzFPQKK9hPYS+k1ATGgvob3kUUAAAAAAAAhRQI7jOI7jmEpAMKG9hPYSSEDX/LBIGfhDQBPaS2gv4URA9NU90srkREAU2ktoL4FFQPcS2ktoT0dAl9BeQnsZRUCO4ziO40hFQKG9hPYSyktAaS+hvYT2RkDjOI7jOF5MQF9Cewnt5U9A4ziO4zjOT0BfQnsJ7eVQQO0ltJfQ7lBAX0J7Ce1VTkD1pje96U1QQGgvob2EFlBA4ziO4ziuR0C0l9BeQhtBQNtLaC+hzUhA9xLaS2jvTEBCewntJZROQDmO4ziOA1FATGgvob2ETEAAAAAAAABJQO0ltJfQXklAj+M4juOIS0BDewntJUxRQBzHcRzHYUlAchzHcRxHSUAAAAAAALBIQPcS2kton0xA7SW0l9CuSUDQXkJ7Cf1DQAntJbSXoEZA0F5CewkdQkBpL6G9hMZEQHsJ7SW0R0ZATGgvob2ER0Adx3Ecx1FKQAAAAAAAQEpAX0J7Ce1VSUD3EtpLaP9BQIX2EtpLKEpATGgvob0EOkDQXkJ7Ce0+QO0ltJfQXjRAXkJ7Ce2lPkDtJbSX0F5EQPcS2kto/0FAXkJ7Ce0lQkB7Ce0ltKdFQHIcx3EcB1BAAAAAAACARkDQXkJ7CX1GQOM4juM4vkZAAAAAAADQQUAdx3Ecx+FBQBCdr+6RVjlAx3Ecx3FcNkA5juM4juMyQO0ltJfQnjVAAAAAAABAMECivYT2ElozQEJ7Ce0lNCpAVlVVVVXVLkA=",
          "dtype": "f8"
         },
         "yaxis": "y"
        },
        {
         "hovertemplate": "agent=NO2<br>Date=%{x}<br>AQI=%{y}<extra></extra>",
         "legendgroup": "NO2",
         "marker": {
          "color": "#ab63fa",
          "pattern": {
           "shape": ""
          }
         },
         "name": "NO2",
         "orientation": "v",
         "showlegend": true,
         "textposition": "auto",
         "type": "bar",
         "x": [
          "2019-11-02T00:00:00.000000000",
          "2019-11-03T00:00:00.000000000",
          "2019-11-11T00:00:00.000000000",
          "2019-12-19T00:00:00.000000000"
         ],
         "xaxis": "x",
         "y": {
          "bdata": "bnrTm970LUAAAAAAAAAnQAAAAAAAgDBAq6qqqqrKMkA=",
          "dtype": "f8"
         },
         "yaxis": "y"
        }
       ],
       "layout": {
        "barmode": "relative",
        "height": 400,
        "legend": {
         "title": {
          "text": "agent"
         },
         "tracegroupgap": 0
        },
        "template": {
         "data": {
          "bar": [
           {
            "error_x": {
             "color": "#2a3f5f"
            },
            "error_y": {
             "color": "#2a3f5f"
            },
            "marker": {
             "line": {
              "color": "#E5ECF6",
              "width": 0.5
             },
             "pattern": {
              "fillmode": "overlay",
              "size": 10,
              "solidity": 0.2
             }
            },
            "type": "bar"
           }
          ],
          "barpolar": [
           {
            "marker": {
             "line": {
              "color": "#E5ECF6",
              "width": 0.5
             },
             "pattern": {
              "fillmode": "overlay",
              "size": 10,
              "solidity": 0.2
             }
            },
            "type": "barpolar"
           }
          ],
          "carpet": [
           {
            "aaxis": {
             "endlinecolor": "#2a3f5f",
             "gridcolor": "white",
             "linecolor": "white",
             "minorgridcolor": "white",
             "startlinecolor": "#2a3f5f"
            },
            "baxis": {
             "endlinecolor": "#2a3f5f",
             "gridcolor": "white",
             "linecolor": "white",
             "minorgridcolor": "white",
             "startlinecolor": "#2a3f5f"
            },
            "type": "carpet"
           }
          ],
          "choropleth": [
           {
            "colorbar": {
             "outlinewidth": 0,
             "ticks": ""
            },
            "type": "choropleth"
           }
          ],
          "contour": [
           {
            "colorbar": {
             "outlinewidth": 0,
             "ticks": ""
            },
            "colorscale": [
             [
              0,
              "#0d0887"
             ],
             [
              0.1111111111111111,
              "#46039f"
             ],
             [
              0.2222222222222222,
              "#7201a8"
             ],
             [
              0.3333333333333333,
              "#9c179e"
             ],
             [
              0.4444444444444444,
              "#bd3786"
             ],
             [
              0.5555555555555556,
              "#d8576b"
             ],
             [
              0.6666666666666666,
              "#ed7953"
             ],
             [
              0.7777777777777778,
              "#fb9f3a"
             ],
             [
              0.8888888888888888,
              "#fdca26"
             ],
             [
              1,
              "#f0f921"
             ]
            ],
            "type": "contour"
           }
          ],
          "contourcarpet": [
           {
            "colorbar": {
             "outlinewidth": 0,
             "ticks": ""
            },
            "type": "contourcarpet"
           }
          ],
          "heatmap": [
           {
            "colorbar": {
             "outlinewidth": 0,
             "ticks": ""
            },
            "colorscale": [
             [
              0,
              "#0d0887"
             ],
             [
              0.1111111111111111,
              "#46039f"
             ],
             [
              0.2222222222222222,
              "#7201a8"
             ],
             [
              0.3333333333333333,
              "#9c179e"
             ],
             [
              0.4444444444444444,
              "#bd3786"
             ],
             [
              0.5555555555555556,
              "#d8576b"
             ],
             [
              0.6666666666666666,
              "#ed7953"
             ],
             [
              0.7777777777777778,
              "#fb9f3a"
             ],
             [
              0.8888888888888888,
              "#fdca26"
             ],
             [
              1,
              "#f0f921"
             ]
            ],
            "type": "heatmap"
           }
          ],
          "histogram": [
           {
            "marker": {
             "pattern": {
              "fillmode": "overlay",
              "size": 10,
              "solidity": 0.2
             }
            },
            "type": "histogram"
           }
          ],
          "histogram2d": [
           {
            "colorbar": {
             "outlinewidth": 0,
             "ticks": ""
            },
            "colorscale": [
             [
              0,
              "#0d0887"
             ],
             [
              0.1111111111111111,
              "#46039f"
             ],
             [
              0.2222222222222222,
              "#7201a8"
             ],
             [
              0.3333333333333333,
              "#9c179e"
             ],
             [
              0.4444444444444444,
              "#bd3786"
             ],
             [
              0.5555555555555556,
              "#d8576b"
             ],
             [
              0.6666666666666666,
              "#ed7953"
             ],
             [
              0.7777777777777778,
              "#fb9f3a"
             ],
             [
              0.8888888888888888,
              "#fdca26"
             ],
             [
              1,
              "#f0f921"
             ]
            ],
            "type": "histogram2d"
           }
          ],
          "histogram2dcontour": [
           {
            "colorbar": {
             "outlinewidth": 0,
             "ticks": ""
            },
            "colorscale": [
             [
              0,
              "#0d0887"
             ],
             [
              0.1111111111111111,
              "#46039f"
             ],
             [
              0.2222222222222222,
              "#7201a8"
             ],
             [
              0.3333333333333333,
              "#9c179e"
             ],
             [
              0.4444444444444444,
              "#bd3786"
             ],
             [
              0.5555555555555556,
              "#d8576b"
             ],
             [
              0.6666666666666666,
              "#ed7953"
             ],
             [
              0.7777777777777778,
              "#fb9f3a"
             ],
             [
              0.8888888888888888,
              "#fdca26"
             ],
             [
              1,
              "#f0f921"
             ]
            ],
            "type": "histogram2dcontour"
           }
          ],
          "mesh3d": [
           {
            "colorbar": {
             "outlinewidth": 0,
             "ticks": ""
            },
            "type": "mesh3d"
           }
          ],
          "parcoords": [
           {
            "line": {
             "colorbar": {
              "outlinewidth": 0,
              "ticks": ""
             }
            },
            "type": "parcoords"
           }
          ],
          "pie": [
           {
            "automargin": true,
            "type": "pie"
           }
          ],
          "scatter": [
           {
            "fillpattern": {
             "fillmode": "overlay",
             "size": 10,
             "solidity": 0.2
            },
            "type": "scatter"
           }
          ],
          "scatter3d": [
           {
            "line": {
             "colorbar": {
              "outlinewidth": 0,
              "ticks": ""
             }
            },
            "marker": {
             "colorbar": {
              "outlinewidth": 0,
              "ticks": ""
             }
            },
            "type": "scatter3d"
           }
          ],
          "scattercarpet": [
           {
            "marker": {
             "colorbar": {
              "outlinewidth": 0,
              "ticks": ""
             }
            },
            "type": "scattercarpet"
           }
          ],
          "scattergeo": [
           {
            "marker": {
             "colorbar": {
              "outlinewidth": 0,
              "ticks": ""
             }
            },
            "type": "scattergeo"
           }
          ],
          "scattergl": [
           {
            "marker": {
             "colorbar": {
              "outlinewidth": 0,
              "ticks": ""
             }
            },
            "type": "scattergl"
           }
          ],
          "scattermap": [
           {
            "marker": {
             "colorbar": {
              "outlinewidth": 0,
              "ticks": ""
             }
            },
            "type": "scattermap"
           }
          ],
          "scattermapbox": [
           {
            "marker": {
             "colorbar": {
              "outlinewidth": 0,
              "ticks": ""
             }
            },
            "type": "scattermapbox"
           }
          ],
          "scatterpolar": [
           {
            "marker": {
             "colorbar": {
              "outlinewidth": 0,
              "ticks": ""
             }
            },
            "type": "scatterpolar"
           }
          ],
          "scatterpolargl": [
           {
            "marker": {
             "colorbar": {
              "outlinewidth": 0,
              "ticks": ""
             }
            },
            "type": "scatterpolargl"
           }
          ],
          "scatterternary": [
           {
            "marker": {
             "colorbar": {
              "outlinewidth": 0,
              "ticks": ""
             }
            },
            "type": "scatterternary"
           }
          ],
          "surface": [
           {
            "colorbar": {
             "outlinewidth": 0,
             "ticks": ""
            },
            "colorscale": [
             [
              0,
              "#0d0887"
             ],
             [
              0.1111111111111111,
              "#46039f"
             ],
             [
              0.2222222222222222,
              "#7201a8"
             ],
             [
              0.3333333333333333,
              "#9c179e"
             ],
             [
              0.4444444444444444,
              "#bd3786"
             ],
             [
              0.5555555555555556,
              "#d8576b"
             ],
             [
              0.6666666666666666,
              "#ed7953"
             ],
             [
              0.7777777777777778,
              "#fb9f3a"
             ],
             [
              0.8888888888888888,
              "#fdca26"
             ],
             [
              1,
              "#f0f921"
             ]
            ],
            "type": "surface"
           }
          ],
          "table": [
           {
            "cells": {
             "fill": {
              "color": "#EBF0F8"
             },
             "line": {
              "color": "white"
             }
            },
            "header": {
             "fill": {
              "color": "#C8D4E3"
             },
             "line": {
              "color": "white"
             }
            },
            "type": "table"
           }
          ]
         },
         "layout": {
          "annotationdefaults": {
           "arrowcolor": "#2a3f5f",
           "arrowhead": 0,
           "arrowwidth": 1
          },
          "autotypenumbers": "strict",
          "coloraxis": {
           "colorbar": {
            "outlinewidth": 0,
            "ticks": ""
           }
          },
          "colorscale": {
           "diverging": [
            [
             0,
             "#8e0152"
            ],
            [
             0.1,
             "#c51b7d"
            ],
            [
             0.2,
             "#de77ae"
            ],
            [
             0.3,
             "#f1b6da"
            ],
            [
             0.4,
             "#fde0ef"
            ],
            [
             0.5,
             "#f7f7f7"
            ],
            [
             0.6,
             "#e6f5d0"
            ],
            [
             0.7,
             "#b8e186"
            ],
            [
             0.8,
             "#7fbc41"
            ],
            [
             0.9,
             "#4d9221"
            ],
            [
             1,
             "#276419"
            ]
           ],
           "sequential": [
            [
             0,
             "#0d0887"
            ],
            [
             0.1111111111111111,
             "#46039f"
            ],
            [
             0.2222222222222222,
             "#7201a8"
            ],
            [
             0.3333333333333333,
             "#9c179e"
            ],
            [
             0.4444444444444444,
             "#bd3786"
            ],
            [
             0.5555555555555556,
             "#d8576b"
            ],
            [
             0.6666666666666666,
             "#ed7953"
            ],
            [
             0.7777777777777778,
             "#fb9f3a"
            ],
            [
             0.8888888888888888,
             "#fdca26"
            ],
            [
             1,
             "#f0f921"
            ]
           ],
           "sequentialminus": [
            [
             0,
             "#0d0887"
            ],
            [
             0.1111111111111111,
             "#46039f"
            ],
            [
             0.2222222222222222,
             "#7201a8"
            ],
            [
             0.3333333333333333,
             "#9c179e"
            ],
            [
             0.4444444444444444,
             "#bd3786"
            ],
            [
             0.5555555555555556,
             "#d8576b"
            ],
            [
             0.6666666666666666,
             "#ed7953"
            ],
            [
             0.7777777777777778,
             "#fb9f3a"
            ],
            [
             0.8888888888888888,
             "#fdca26"
            ],
            [
             1,
             "#f0f921"
            ]
           ]
          },
          "colorway": [
           "#636efa",
           "#EF553B",
           "#00cc96",
           "#ab63fa",
           "#FFA15A",
           "#19d3f3",
           "#FF6692",
           "#B6E880",
           "#FF97FF",
           "#FECB52"
          ],
          "font": {
           "color": "#2a3f5f"
          },
          "geo": {
           "bgcolor": "white",
           "lakecolor": "white",
           "landcolor": "#E5ECF6",
           "showlakes": true,
           "showland": true,
           "subunitcolor": "white"
          },
          "hoverlabel": {
           "align": "left"
          },
          "hovermode": "closest",
          "mapbox": {
           "style": "light"
          },
          "paper_bgcolor": "white",
          "plot_bgcolor": "#E5ECF6",
          "polar": {
           "angularaxis": {
            "gridcolor": "white",
            "linecolor": "white",
            "ticks": ""
           },
           "bgcolor": "#E5ECF6",
           "radialaxis": {
            "gridcolor": "white",
            "linecolor": "white",
            "ticks": ""
           }
          },
          "scene": {
           "xaxis": {
            "backgroundcolor": "#E5ECF6",
            "gridcolor": "white",
            "gridwidth": 2,
            "linecolor": "white",
            "showbackground": true,
            "ticks": "",
            "zerolinecolor": "white"
           },
           "yaxis": {
            "backgroundcolor": "#E5ECF6",
            "gridcolor": "white",
            "gridwidth": 2,
            "linecolor": "white",
            "showbackground": true,
            "ticks": "",
            "zerolinecolor": "white"
           },
           "zaxis": {
            "backgroundcolor": "#E5ECF6",
            "gridcolor": "white",
            "gridwidth": 2,
            "linecolor": "white",
            "showbackground": true,
            "ticks": "",
            "zerolinecolor": "white"
           }
          },
          "shapedefaults": {
           "line": {
            "color": "#2a3f5f"
           }
          },
          "ternary": {
           "aaxis": {
            "gridcolor": "white",
            "linecolor": "white",
            "ticks": ""
           },
           "baxis": {
            "gridcolor": "white",
            "linecolor": "white",
            "ticks": ""
           },
           "bgcolor": "#E5ECF6",
           "caxis": {
            "gridcolor": "white",
            "linecolor": "white",
            "ticks": ""
           }
          },
          "title": {
           "x": 0.05
          },
          "xaxis": {
           "automargin": true,
           "gridcolor": "white",
           "linecolor": "white",
           "ticks": "",
           "title": {
            "standoff": 15
           },
           "zerolinecolor": "white",
           "zerolinewidth": 2
          },
          "yaxis": {
           "automargin": true,
           "gridcolor": "white",
           "linecolor": "white",
           "ticks": "",
           "title": {
            "standoff": 15
           },
           "zerolinecolor": "white",
           "zerolinewidth": 2
          }
         }
        },
        "title": {
         "text": "Daily AQIs for station GIARDINI MARGHERITA"
        },
        "xaxis": {
         "anchor": "y",
         "domain": [
          0,
          1
         ],
         "title": {
          "text": "Date"
         }
        },
        "yaxis": {
         "anchor": "x",
         "domain": [
          0,
          1
         ],
         "title": {
          "text": "AQI"
         }
        }
       }
      }
     },
     "metadata": {},
     "output_type": "display_data"
    },
    {
     "data": {
      "application/vnd.plotly.v1+json": {
       "config": {
        "plotlyServerURL": "https://plot.ly"
       },
       "data": [
        {
         "hovertemplate": "agent=PM2.5<br>Date=%{x}<br>AQI=%{y}<extra></extra>",
         "legendgroup": "PM2.5",
         "marker": {
          "color": "#636efa",
          "pattern": {
           "shape": ""
          }
         },
         "name": "PM2.5",
         "orientation": "v",
         "showlegend": true,
         "textposition": "auto",
         "type": "bar",
         "x": [
          "2019-01-01T00:00:00.000000000",
          "2019-01-02T00:00:00.000000000",
          "2019-01-03T00:00:00.000000000",
          "2019-01-04T00:00:00.000000000",
          "2019-01-05T00:00:00.000000000",
          "2019-01-06T00:00:00.000000000",
          "2019-01-07T00:00:00.000000000",
          "2019-01-08T00:00:00.000000000",
          "2019-01-10T00:00:00.000000000",
          "2019-01-12T00:00:00.000000000",
          "2019-01-13T00:00:00.000000000",
          "2019-01-15T00:00:00.000000000",
          "2019-01-16T00:00:00.000000000",
          "2019-01-17T00:00:00.000000000",
          "2019-01-19T00:00:00.000000000",
          "2019-01-20T00:00:00.000000000",
          "2019-01-21T00:00:00.000000000",
          "2019-01-22T00:00:00.000000000",
          "2019-01-23T00:00:00.000000000",
          "2019-01-24T00:00:00.000000000",
          "2019-01-25T00:00:00.000000000",
          "2019-01-26T00:00:00.000000000",
          "2019-01-27T00:00:00.000000000",
          "2019-01-28T00:00:00.000000000",
          "2019-01-29T00:00:00.000000000",
          "2019-01-30T00:00:00.000000000",
          "2019-01-31T00:00:00.000000000",
          "2019-02-01T00:00:00.000000000",
          "2019-02-02T00:00:00.000000000",
          "2019-02-03T00:00:00.000000000",
          "2019-02-04T00:00:00.000000000",
          "2019-02-05T00:00:00.000000000",
          "2019-02-06T00:00:00.000000000",
          "2019-02-07T00:00:00.000000000",
          "2019-02-08T00:00:00.000000000",
          "2019-02-09T00:00:00.000000000",
          "2019-02-10T00:00:00.000000000",
          "2019-02-11T00:00:00.000000000",
          "2019-02-12T00:00:00.000000000",
          "2019-02-13T00:00:00.000000000",
          "2019-02-14T00:00:00.000000000",
          "2019-02-15T00:00:00.000000000",
          "2019-02-16T00:00:00.000000000",
          "2019-02-17T00:00:00.000000000",
          "2019-02-18T00:00:00.000000000",
          "2019-02-19T00:00:00.000000000",
          "2019-02-20T00:00:00.000000000",
          "2019-02-21T00:00:00.000000000",
          "2019-02-22T00:00:00.000000000",
          "2019-02-23T00:00:00.000000000",
          "2019-02-24T00:00:00.000000000",
          "2019-02-25T00:00:00.000000000",
          "2019-02-26T00:00:00.000000000",
          "2019-02-27T00:00:00.000000000",
          "2019-02-28T00:00:00.000000000",
          "2019-03-01T00:00:00.000000000",
          "2019-03-02T00:00:00.000000000",
          "2019-03-03T00:00:00.000000000",
          "2019-03-04T00:00:00.000000000",
          "2019-03-05T00:00:00.000000000",
          "2019-03-06T00:00:00.000000000",
          "2019-03-07T00:00:00.000000000",
          "2019-03-09T00:00:00.000000000",
          "2019-03-10T00:00:00.000000000",
          "2019-03-12T00:00:00.000000000",
          "2019-03-13T00:00:00.000000000",
          "2019-03-14T00:00:00.000000000",
          "2019-03-15T00:00:00.000000000",
          "2019-03-16T00:00:00.000000000",
          "2019-03-17T00:00:00.000000000",
          "2019-03-18T00:00:00.000000000",
          "2019-03-19T00:00:00.000000000",
          "2019-03-20T00:00:00.000000000",
          "2019-03-21T00:00:00.000000000",
          "2019-03-22T00:00:00.000000000",
          "2019-03-23T00:00:00.000000000",
          "2019-03-24T00:00:00.000000000",
          "2019-03-26T00:00:00.000000000",
          "2019-03-27T00:00:00.000000000",
          "2019-03-28T00:00:00.000000000",
          "2019-03-29T00:00:00.000000000",
          "2019-03-30T00:00:00.000000000",
          "2019-04-01T00:00:00.000000000",
          "2019-04-05T00:00:00.000000000",
          "2019-04-06T00:00:00.000000000",
          "2019-04-07T00:00:00.000000000",
          "2019-04-08T00:00:00.000000000",
          "2019-04-09T00:00:00.000000000",
          "2019-04-10T00:00:00.000000000",
          "2019-04-11T00:00:00.000000000",
          "2019-04-12T00:00:00.000000000",
          "2019-04-13T00:00:00.000000000",
          "2019-04-14T00:00:00.000000000",
          "2019-04-15T00:00:00.000000000",
          "2019-04-16T00:00:00.000000000",
          "2019-04-17T00:00:00.000000000",
          "2019-04-18T00:00:00.000000000",
          "2019-04-19T00:00:00.000000000",
          "2019-04-20T00:00:00.000000000",
          "2019-04-21T00:00:00.000000000",
          "2019-04-22T00:00:00.000000000",
          "2019-04-23T00:00:00.000000000",
          "2019-04-24T00:00:00.000000000",
          "2019-04-25T00:00:00.000000000",
          "2019-04-26T00:00:00.000000000",
          "2019-04-27T00:00:00.000000000",
          "2019-04-28T00:00:00.000000000",
          "2019-04-29T00:00:00.000000000",
          "2019-04-30T00:00:00.000000000",
          "2019-05-01T00:00:00.000000000",
          "2019-05-02T00:00:00.000000000",
          "2019-05-03T00:00:00.000000000",
          "2019-05-05T00:00:00.000000000",
          "2019-05-06T00:00:00.000000000",
          "2019-05-07T00:00:00.000000000",
          "2019-05-08T00:00:00.000000000",
          "2019-05-09T00:00:00.000000000",
          "2019-05-11T00:00:00.000000000",
          "2019-05-12T00:00:00.000000000",
          "2019-05-15T00:00:00.000000000",
          "2019-05-16T00:00:00.000000000",
          "2019-05-20T00:00:00.000000000",
          "2019-05-21T00:00:00.000000000",
          "2019-05-22T00:00:00.000000000",
          "2019-05-23T00:00:00.000000000",
          "2019-05-24T00:00:00.000000000",
          "2019-05-25T00:00:00.000000000",
          "2019-05-30T00:00:00.000000000",
          "2019-05-31T00:00:00.000000000",
          "2019-06-01T00:00:00.000000000",
          "2019-06-02T00:00:00.000000000",
          "2019-06-05T00:00:00.000000000",
          "2019-06-06T00:00:00.000000000",
          "2019-06-07T00:00:00.000000000",
          "2019-06-08T00:00:00.000000000",
          "2019-06-09T00:00:00.000000000",
          "2019-06-10T00:00:00.000000000",
          "2019-06-11T00:00:00.000000000",
          "2019-06-12T00:00:00.000000000",
          "2019-06-13T00:00:00.000000000",
          "2019-06-14T00:00:00.000000000",
          "2019-06-15T00:00:00.000000000",
          "2019-06-16T00:00:00.000000000",
          "2019-06-17T00:00:00.000000000",
          "2019-06-18T00:00:00.000000000",
          "2019-06-19T00:00:00.000000000",
          "2019-06-20T00:00:00.000000000",
          "2019-06-21T00:00:00.000000000",
          "2019-06-22T00:00:00.000000000",
          "2019-06-23T00:00:00.000000000",
          "2019-06-24T00:00:00.000000000",
          "2019-06-25T00:00:00.000000000",
          "2019-06-26T00:00:00.000000000",
          "2019-06-27T00:00:00.000000000",
          "2019-06-28T00:00:00.000000000",
          "2019-06-29T00:00:00.000000000",
          "2019-06-30T00:00:00.000000000",
          "2019-07-01T00:00:00.000000000",
          "2019-07-02T00:00:00.000000000",
          "2019-07-03T00:00:00.000000000",
          "2019-07-04T00:00:00.000000000",
          "2019-07-05T00:00:00.000000000",
          "2019-07-06T00:00:00.000000000",
          "2019-07-07T00:00:00.000000000",
          "2019-07-08T00:00:00.000000000",
          "2019-07-09T00:00:00.000000000",
          "2019-07-10T00:00:00.000000000",
          "2019-07-11T00:00:00.000000000",
          "2019-07-12T00:00:00.000000000",
          "2019-07-13T00:00:00.000000000",
          "2019-07-14T00:00:00.000000000",
          "2019-07-15T00:00:00.000000000",
          "2019-07-16T00:00:00.000000000",
          "2019-07-17T00:00:00.000000000",
          "2019-07-18T00:00:00.000000000",
          "2019-07-19T00:00:00.000000000",
          "2019-07-20T00:00:00.000000000",
          "2019-07-21T00:00:00.000000000",
          "2019-07-22T00:00:00.000000000",
          "2019-07-23T00:00:00.000000000",
          "2019-07-24T00:00:00.000000000",
          "2019-07-25T00:00:00.000000000",
          "2019-07-26T00:00:00.000000000",
          "2019-07-28T00:00:00.000000000",
          "2019-07-29T00:00:00.000000000",
          "2019-07-30T00:00:00.000000000",
          "2019-07-31T00:00:00.000000000",
          "2019-08-01T00:00:00.000000000",
          "2019-08-02T00:00:00.000000000",
          "2019-08-03T00:00:00.000000000",
          "2019-08-04T00:00:00.000000000",
          "2019-08-05T00:00:00.000000000",
          "2019-08-06T00:00:00.000000000",
          "2019-08-07T00:00:00.000000000",
          "2019-08-08T00:00:00.000000000",
          "2019-08-09T00:00:00.000000000",
          "2019-08-10T00:00:00.000000000",
          "2019-08-11T00:00:00.000000000",
          "2019-08-12T00:00:00.000000000",
          "2019-08-13T00:00:00.000000000",
          "2019-08-14T00:00:00.000000000",
          "2019-08-19T00:00:00.000000000",
          "2019-08-20T00:00:00.000000000",
          "2019-08-21T00:00:00.000000000",
          "2019-08-22T00:00:00.000000000",
          "2019-08-23T00:00:00.000000000",
          "2019-08-24T00:00:00.000000000",
          "2019-08-25T00:00:00.000000000",
          "2019-08-26T00:00:00.000000000",
          "2019-08-27T00:00:00.000000000",
          "2019-08-30T00:00:00.000000000",
          "2019-08-31T00:00:00.000000000",
          "2019-09-01T00:00:00.000000000",
          "2019-09-02T00:00:00.000000000",
          "2019-09-03T00:00:00.000000000",
          "2019-09-04T00:00:00.000000000",
          "2019-09-05T00:00:00.000000000",
          "2019-09-06T00:00:00.000000000",
          "2019-09-07T00:00:00.000000000",
          "2019-09-08T00:00:00.000000000",
          "2019-09-09T00:00:00.000000000",
          "2019-09-10T00:00:00.000000000",
          "2019-09-11T00:00:00.000000000",
          "2019-09-12T00:00:00.000000000",
          "2019-09-13T00:00:00.000000000",
          "2019-09-14T00:00:00.000000000",
          "2019-09-15T00:00:00.000000000",
          "2019-09-16T00:00:00.000000000",
          "2019-09-17T00:00:00.000000000",
          "2019-09-18T00:00:00.000000000",
          "2019-09-19T00:00:00.000000000",
          "2019-09-20T00:00:00.000000000",
          "2019-09-21T00:00:00.000000000",
          "2019-09-22T00:00:00.000000000",
          "2019-09-23T00:00:00.000000000",
          "2019-09-24T00:00:00.000000000",
          "2019-09-25T00:00:00.000000000",
          "2019-09-26T00:00:00.000000000",
          "2019-09-27T00:00:00.000000000",
          "2019-09-28T00:00:00.000000000",
          "2019-09-29T00:00:00.000000000",
          "2019-09-30T00:00:00.000000000",
          "2019-10-02T00:00:00.000000000",
          "2019-10-04T00:00:00.000000000",
          "2019-10-05T00:00:00.000000000",
          "2019-10-06T00:00:00.000000000",
          "2019-10-07T00:00:00.000000000",
          "2019-10-08T00:00:00.000000000",
          "2019-10-09T00:00:00.000000000",
          "2019-10-10T00:00:00.000000000",
          "2019-10-11T00:00:00.000000000",
          "2019-10-12T00:00:00.000000000",
          "2019-10-13T00:00:00.000000000",
          "2019-10-14T00:00:00.000000000",
          "2019-10-15T00:00:00.000000000",
          "2019-10-17T00:00:00.000000000",
          "2019-10-18T00:00:00.000000000",
          "2019-10-21T00:00:00.000000000",
          "2019-10-22T00:00:00.000000000",
          "2019-10-23T00:00:00.000000000",
          "2019-10-24T00:00:00.000000000",
          "2019-10-25T00:00:00.000000000",
          "2019-10-26T00:00:00.000000000",
          "2019-10-27T00:00:00.000000000",
          "2019-10-28T00:00:00.000000000",
          "2019-10-29T00:00:00.000000000",
          "2019-10-30T00:00:00.000000000",
          "2019-10-31T00:00:00.000000000",
          "2019-11-01T00:00:00.000000000",
          "2019-11-02T00:00:00.000000000",
          "2019-11-05T00:00:00.000000000",
          "2019-11-06T00:00:00.000000000",
          "2019-11-07T00:00:00.000000000",
          "2019-11-08T00:00:00.000000000",
          "2019-11-09T00:00:00.000000000",
          "2019-11-10T00:00:00.000000000",
          "2019-11-12T00:00:00.000000000",
          "2019-11-13T00:00:00.000000000",
          "2019-11-14T00:00:00.000000000",
          "2019-11-15T00:00:00.000000000",
          "2019-11-17T00:00:00.000000000",
          "2019-11-18T00:00:00.000000000",
          "2019-11-19T00:00:00.000000000",
          "2019-11-20T00:00:00.000000000",
          "2019-11-21T00:00:00.000000000",
          "2019-11-22T00:00:00.000000000",
          "2019-11-24T00:00:00.000000000",
          "2019-11-25T00:00:00.000000000",
          "2019-11-26T00:00:00.000000000",
          "2019-11-27T00:00:00.000000000",
          "2019-11-28T00:00:00.000000000",
          "2019-11-29T00:00:00.000000000",
          "2019-11-30T00:00:00.000000000",
          "2019-12-01T00:00:00.000000000",
          "2019-12-02T00:00:00.000000000",
          "2019-12-03T00:00:00.000000000",
          "2019-12-04T00:00:00.000000000",
          "2019-12-05T00:00:00.000000000",
          "2019-12-06T00:00:00.000000000",
          "2019-12-07T00:00:00.000000000",
          "2019-12-08T00:00:00.000000000",
          "2019-12-09T00:00:00.000000000",
          "2019-12-10T00:00:00.000000000",
          "2019-12-11T00:00:00.000000000",
          "2019-12-12T00:00:00.000000000",
          "2019-12-13T00:00:00.000000000",
          "2019-12-14T00:00:00.000000000",
          "2019-12-15T00:00:00.000000000",
          "2019-12-16T00:00:00.000000000",
          "2019-12-17T00:00:00.000000000",
          "2019-12-18T00:00:00.000000000",
          "2019-12-23T00:00:00.000000000",
          "2019-12-24T00:00:00.000000000",
          "2019-12-25T00:00:00.000000000",
          "2019-12-26T00:00:00.000000000",
          "2019-12-27T00:00:00.000000000",
          "2019-12-28T00:00:00.000000000",
          "2019-12-29T00:00:00.000000000",
          "2019-12-30T00:00:00.000000000"
         ],
         "xaxis": "x",
         "y": {
          "bdata": "wD2w0buiXEAVZQScooxMQBVlBJyijExAnkm1ozMpVkDsQSSHPYhTQKmbQcuOZ1tAtmzZsmVLY0DiMFZbf3teQI/OpNrRmU1A198e2OjdXUAwDdTnpQFTQCGSwx5EckpAWn4FQ8uvVkDAPbDRu6JcQJ5JtaMzKVZAwD2w0buiXEDgFGUEnKJVQI/OpNrRmU1A7EEkhz2IU0AYs1XiYjZXQNTnpYH6vFdAlXjdf04JY0CGqJtBy45ZQAk4RRkBp05ActiDSA57UkBmq8TFbJVUQDw6k2pH51BAj86k2tGZTUD4buMJ321RQOxBJIc9iFNAnkm1ozMpVkC07HhOJQVcQBizVeJiNldAkfnSxGEsWkDX3x7Y6N1dQNffHtjo3V1A4BRlBJyiVUCrqqqqqupGQIOh5VcwtE9AkfnSxGEsWkDiMFZbf3teQAMSfnIhKmBA198e2OjdXUBmq8TFbJVUQIOh5VcwtE9AoFyIuhm0YUAatOx4TmVhQKmbQcuOZ1tACThFGQGnTkAJOEUZAadOQDw6k2pH51BActiDSA57UkAhksMeRHJKQIOh5VcwtE9Ay47nVFJAXUDugY3eFRlfQLajM6l29FFAm/tjXXN/S0D4buMJ321RQKuqqqqq6kZAq6qqqqrqRkCrqqqqqqpAQAAAAAAAwEJAAAAAAAAASUCrqqqqqupGQJv7Y11zf0tAq6qqqqrqRkAJOEUZAadOQJv7Y11zf0tAq6qqqqoqPUAhksMeRHJKQI/OpNrRmU1AfgVDy69gUEC2ozOpdvRRQPhu4wnfbVFAVlVVVVXVREAhksMeRHJKQAAAAAAAAElAj86k2tGZTUCb+2Ndc39LQJv7Y11zf0tAfgVDy69gUEB+BUPLr2BQQFZVVVVV1URAFWUEnKKMTEAVZQScooxMQAAAAAAAwEJAq6qqqqrqRkCrqqqqqupGQAAAAAAAAElAFWUEnKKMTEAJOEUZAadOQH4FQ8uvYFBAfgVDy69gUED4buMJ321RQH4FQ8uvYFBAm/tjXXN/S0AhksMeRHJKQAAAAAAAAElAAAAAAAAASUAAAAAAAAA5QKuqqqqqKj1AIZLDHkRySkCrqqqqqupGQAAAAAAAADlAAAAAAAAAOUCrqqqqqio9QKuqqqqqKj1Aq6qqqqoqPUAAAAAAAAA5QAAAAAAAADlAq6qqqqqqQECrqqqqqio9QKuqqqqq6kZAVlVVVVXVRECrqqqqqio9QKuqqqqqqkBAVlVVVVXVNECrqqqqqio9QKuqqqqqKj1Aq6qqqqqqQEAAAAAAAAA5QKuqqqqq6kZAq6qqqqrqRkBWVVVVVdVEQFZVVVVV1URAVlVVVVXVRECrqqqqqupGQKuqqqqq6kZAAAAAAADAQkCrqqqqqqpAQAAAAAAAwEJAIZLDHkRySkAJOEUZAadOQCGSwx5EckpACThFGQGnTkCrqqqqqupGQKuqqqqq6kZAq6qqqqqqQEAhksMeRHJKQAk4RRkBp05AVlVVVVXVREBWVVVVVdVEQKuqqqqq6kZAAAAAAAAASUCrqqqqqio9QKuqqqqq6kZAq6qqqqrqRkBWVVVVVdVEQFZVVVVV1URAAAAAAAAASUAVZQScooxMQCGSwx5EckpAFWUEnKKMTEBWVVVVVdVEQKuqqqqq6kZAFWUEnKKMTEAhksMeRHJKQCGSwx5EckpAq6qqqqqqQEAAAAAAAABJQKuqqqqq6kZAVlVVVVXVREAAAAAAAABJQFZVVVVV1URAAAAAAADAQkCrqqqqqqpAQKuqqqqq6kZAAAAAAADAQkBWVVVVVdU0QAAAAAAAADlAAAAAAADAQkCrqqqqqqpAQJv7Y11zf0tAAAAAAAAASUAAAAAAAABJQKuqqqqq6kZAg6HlVzC0T0AJOEUZAadOQCGSwx5EckpACThFGQGnTkCrqqqqqupGQKuqqqqqqkBAAAAAAAAAOUAAAAAAAMBCQCGSwx5EckpAAAAAAAAASUAAAAAAAABJQKuqqqqqKj1AAAAAAADAQkBWVVVVVdVEQAAAAAAAAElAq6qqqqrqRkBWVVVVVdVEQCGSwx5EckpAq6qqqqrqRkCrqqqqqupGQAAAAAAAAElAVlVVVVXVRECrqqqqqqpAQKuqqqqqKj1AVlVVVVXVREAhksMeRHJKQAAAAAAAAElAAAAAAAAASUAhksMeRHJKQAAAAAAAAElAj86k2tGZTUB+BUPLr2BQQH4FQ8uvYFBAfgVDy69gUECb+2Ndc39LQCGSwx5EckpAAAAAAADAQkCrqqqqqqpAQKuqqqqq6kZAVlVVVVXVREAAAAAAAMBCQKuqqqqqKj1AVlVVVVXVNEAAAAAAAAA5QBVlBJyijExAFWUEnKKMTEAhksMeRHJKQKuqqqqq6kZAq6qqqqoqPUCrqqqqqio9QKuqqqqqqkBAAAAAAAAASUBWVVVVVdVEQKuqqqqq6kZAVlVVVVXVREAhksMeRHJKQPhu4wnfbVFAq6qqqqqqQECrqqqqqupGQI/OpNrRmU1AVlVVVVXVREAAAAAAAAA5QFZVVVVV1TRAq6qqqqoqPUCrqqqqqio9QKuqqqqqKj1AIZLDHkRySkAAAAAAAMBCQKuqqqqqqkBAAAAAAAAASUAhksMeRHJKQFp+BUPLr1ZAZqvExWyVVECR+dLEYSxaQNTnpYH6vFdAkfnSxGEsWkAJOEUZAadOQFZVVVVV1TRAAAAAAADAQkAAAAAAAMBCQAk4RRkBp05AtqMzqXb0UUDgFGUEnKJVQHLYg0gOe1JAtqMzqXb0UUCPzqTa0ZlNQKp2dCbVDlRAhqibQcuOWUAAAAAAAABJQAAAAAAAwEJAAAAAAAAASUA8OpNqR+dQQKuqqqqqKj1Aq6qqqqoqPUCPzqTa0ZlNQKuqqqqqqkBAAAAAAADAQkA8OpNqR+dQQDAN1OelAVNAAAAAAADAQkAVZQScooxMQKuqqqqqqkBAAAAAAAAASUCb+2Ndc39LQCGSwx5EckpACThFGQGnTkAwDdTnpQFTQBVlBJyijExAIZLDHkRySkCrqqqqqqpAQKuqqqqq6kZAm/tjXXN/S0D4buMJ321RQOAUZQScolVAZqvExWyVVEDsQSSHPYhTQJv7Y11zf0tAIZLDHkRySkB+BUPLr2BQQFp+BUPLr1ZAqZtBy45nW0CIuhm07HhgQKmbQcuOZ1tAtmzZsmVLY0CeSbWjMylWQCGSwx5EckpAj86k2tGZTUCb+2Ndc39LQI/OpNrRmU1AnUoKSPjJWkCUC1E3gxZhQMdmV0xxbGNAkfnSxGEsWkAYs1XiYjZXQKuqqqqqKj1AfgVDy69gUED4buMJ321RQCTgFGUEHFVATlFGwCnKWECGqJtBy45ZQNTnpYH6vFdA1Oelgfq8V0A=",
          "dtype": "f8"
         },
         "yaxis": "y"
        },
        {
         "hovertemplate": "agent=C6H6<br>Date=%{x}<br>AQI=%{y}<extra></extra>",
         "legendgroup": "C6H6",
         "marker": {
          "color": "#EF553B",
          "pattern": {
           "shape": ""
          }
         },
         "name": "C6H6",
         "orientation": "v",
         "showlegend": true,
         "textposition": "auto",
         "type": "bar",
         "x": [
          "2019-01-09T00:00:00.000000000",
          "2019-01-11T00:00:00.000000000",
          "2019-01-14T00:00:00.000000000",
          "2019-01-18T00:00:00.000000000",
          "2019-05-17T00:00:00.000000000",
          "2019-05-18T00:00:00.000000000",
          "2019-05-19T00:00:00.000000000",
          "2019-05-26T00:00:00.000000000",
          "2019-05-28T00:00:00.000000000",
          "2019-05-29T00:00:00.000000000",
          "2019-11-04T00:00:00.000000000",
          "2019-11-11T00:00:00.000000000",
          "2019-11-23T00:00:00.000000000",
          "2019-12-19T00:00:00.000000000",
          "2019-12-20T00:00:00.000000000",
          "2019-12-21T00:00:00.000000000",
          "2019-12-22T00:00:00.000000000"
         ],
         "xaxis": "x",
         "y": {
          "bdata": "GF100UVXUEBiGIZhGAZRQBZddNFFF0VAqqqqqqqqRUC96U1vetM5QEMWspCFLExAF7KQhSxkN0AYXXTRRZdDQLKQhSxkIT1AkYUsZCELR0Ciiy666KI/QJGFLGQhCzlA9aY3velNQkDRRRdddNFEQC1kIQtZyDpAAAAAAAAAPkBkIQtZyEI2QA==",
          "dtype": "f8"
         },
         "yaxis": "y"
        },
        {
         "hovertemplate": "agent=NO2<br>Date=%{x}<br>AQI=%{y}<extra></extra>",
         "legendgroup": "NO2",
         "marker": {
          "color": "#00cc96",
          "pattern": {
           "shape": ""
          }
         },
         "name": "NO2",
         "orientation": "v",
         "showlegend": true,
         "textposition": "auto",
         "type": "bar",
         "x": [
          "2019-03-08T00:00:00.000000000",
          "2019-03-11T00:00:00.000000000",
          "2019-03-25T00:00:00.000000000",
          "2019-03-31T00:00:00.000000000",
          "2019-04-02T00:00:00.000000000",
          "2019-04-03T00:00:00.000000000",
          "2019-04-04T00:00:00.000000000",
          "2019-05-04T00:00:00.000000000",
          "2019-05-10T00:00:00.000000000",
          "2019-05-13T00:00:00.000000000",
          "2019-05-14T00:00:00.000000000",
          "2019-05-27T00:00:00.000000000",
          "2019-06-03T00:00:00.000000000",
          "2019-06-04T00:00:00.000000000",
          "2019-07-27T00:00:00.000000000",
          "2019-08-16T00:00:00.000000000",
          "2019-08-17T00:00:00.000000000",
          "2019-08-28T00:00:00.000000000",
          "2019-08-29T00:00:00.000000000",
          "2019-10-01T00:00:00.000000000",
          "2019-10-03T00:00:00.000000000",
          "2019-10-16T00:00:00.000000000",
          "2019-10-19T00:00:00.000000000",
          "2019-11-03T00:00:00.000000000",
          "2019-11-16T00:00:00.000000000"
         ],
         "xaxis": "x",
         "y": {
          "bdata": "hyxkIQvZPkCGLGQhC5lBQOpNb3rTGzlA3/SmN73pOEDTm970prdBQAAAAAAAADdA1Jve9Ka3OkBkIQtZyMI4QGQhC1nIQjdALWQhC1lIQEB505ve9KY5QAAAAAAAADdAC1nIQhayM0AWspCFLGQyQN/0pje96TJAWMhCFrKQL0BwetOb3vQsQEMWspCFrDNAAAAAAADoMEDIQhaykAU1QJze9KY3vTZAC1nIQhYyN0AhC1nIQhYzQKc3velNbzFAC1nIQhayP0A=",
          "dtype": "f8"
         },
         "yaxis": "y"
        },
        {
         "hovertemplate": "agent=PM10<br>Date=%{x}<br>AQI=%{y}<extra></extra>",
         "legendgroup": "PM10",
         "marker": {
          "color": "#ab63fa",
          "pattern": {
           "shape": ""
          }
         },
         "name": "PM10",
         "orientation": "v",
         "showlegend": true,
         "textposition": "auto",
         "type": "bar",
         "x": [
          "2019-08-15T00:00:00.000000000",
          "2019-08-18T00:00:00.000000000",
          "2019-10-20T00:00:00.000000000"
         ],
         "xaxis": "x",
         "y": {
          "bdata": "0V5CewntKUC0l9BeQnsvQAAAAAAAADlA",
          "dtype": "f8"
         },
         "yaxis": "y"
        }
       ],
       "layout": {
        "barmode": "relative",
        "height": 400,
        "legend": {
         "title": {
          "text": "agent"
         },
         "tracegroupgap": 0
        },
        "template": {
         "data": {
          "bar": [
           {
            "error_x": {
             "color": "#2a3f5f"
            },
            "error_y": {
             "color": "#2a3f5f"
            },
            "marker": {
             "line": {
              "color": "#E5ECF6",
              "width": 0.5
             },
             "pattern": {
              "fillmode": "overlay",
              "size": 10,
              "solidity": 0.2
             }
            },
            "type": "bar"
           }
          ],
          "barpolar": [
           {
            "marker": {
             "line": {
              "color": "#E5ECF6",
              "width": 0.5
             },
             "pattern": {
              "fillmode": "overlay",
              "size": 10,
              "solidity": 0.2
             }
            },
            "type": "barpolar"
           }
          ],
          "carpet": [
           {
            "aaxis": {
             "endlinecolor": "#2a3f5f",
             "gridcolor": "white",
             "linecolor": "white",
             "minorgridcolor": "white",
             "startlinecolor": "#2a3f5f"
            },
            "baxis": {
             "endlinecolor": "#2a3f5f",
             "gridcolor": "white",
             "linecolor": "white",
             "minorgridcolor": "white",
             "startlinecolor": "#2a3f5f"
            },
            "type": "carpet"
           }
          ],
          "choropleth": [
           {
            "colorbar": {
             "outlinewidth": 0,
             "ticks": ""
            },
            "type": "choropleth"
           }
          ],
          "contour": [
           {
            "colorbar": {
             "outlinewidth": 0,
             "ticks": ""
            },
            "colorscale": [
             [
              0,
              "#0d0887"
             ],
             [
              0.1111111111111111,
              "#46039f"
             ],
             [
              0.2222222222222222,
              "#7201a8"
             ],
             [
              0.3333333333333333,
              "#9c179e"
             ],
             [
              0.4444444444444444,
              "#bd3786"
             ],
             [
              0.5555555555555556,
              "#d8576b"
             ],
             [
              0.6666666666666666,
              "#ed7953"
             ],
             [
              0.7777777777777778,
              "#fb9f3a"
             ],
             [
              0.8888888888888888,
              "#fdca26"
             ],
             [
              1,
              "#f0f921"
             ]
            ],
            "type": "contour"
           }
          ],
          "contourcarpet": [
           {
            "colorbar": {
             "outlinewidth": 0,
             "ticks": ""
            },
            "type": "contourcarpet"
           }
          ],
          "heatmap": [
           {
            "colorbar": {
             "outlinewidth": 0,
             "ticks": ""
            },
            "colorscale": [
             [
              0,
              "#0d0887"
             ],
             [
              0.1111111111111111,
              "#46039f"
             ],
             [
              0.2222222222222222,
              "#7201a8"
             ],
             [
              0.3333333333333333,
              "#9c179e"
             ],
             [
              0.4444444444444444,
              "#bd3786"
             ],
             [
              0.5555555555555556,
              "#d8576b"
             ],
             [
              0.6666666666666666,
              "#ed7953"
             ],
             [
              0.7777777777777778,
              "#fb9f3a"
             ],
             [
              0.8888888888888888,
              "#fdca26"
             ],
             [
              1,
              "#f0f921"
             ]
            ],
            "type": "heatmap"
           }
          ],
          "histogram": [
           {
            "marker": {
             "pattern": {
              "fillmode": "overlay",
              "size": 10,
              "solidity": 0.2
             }
            },
            "type": "histogram"
           }
          ],
          "histogram2d": [
           {
            "colorbar": {
             "outlinewidth": 0,
             "ticks": ""
            },
            "colorscale": [
             [
              0,
              "#0d0887"
             ],
             [
              0.1111111111111111,
              "#46039f"
             ],
             [
              0.2222222222222222,
              "#7201a8"
             ],
             [
              0.3333333333333333,
              "#9c179e"
             ],
             [
              0.4444444444444444,
              "#bd3786"
             ],
             [
              0.5555555555555556,
              "#d8576b"
             ],
             [
              0.6666666666666666,
              "#ed7953"
             ],
             [
              0.7777777777777778,
              "#fb9f3a"
             ],
             [
              0.8888888888888888,
              "#fdca26"
             ],
             [
              1,
              "#f0f921"
             ]
            ],
            "type": "histogram2d"
           }
          ],
          "histogram2dcontour": [
           {
            "colorbar": {
             "outlinewidth": 0,
             "ticks": ""
            },
            "colorscale": [
             [
              0,
              "#0d0887"
             ],
             [
              0.1111111111111111,
              "#46039f"
             ],
             [
              0.2222222222222222,
              "#7201a8"
             ],
             [
              0.3333333333333333,
              "#9c179e"
             ],
             [
              0.4444444444444444,
              "#bd3786"
             ],
             [
              0.5555555555555556,
              "#d8576b"
             ],
             [
              0.6666666666666666,
              "#ed7953"
             ],
             [
              0.7777777777777778,
              "#fb9f3a"
             ],
             [
              0.8888888888888888,
              "#fdca26"
             ],
             [
              1,
              "#f0f921"
             ]
            ],
            "type": "histogram2dcontour"
           }
          ],
          "mesh3d": [
           {
            "colorbar": {
             "outlinewidth": 0,
             "ticks": ""
            },
            "type": "mesh3d"
           }
          ],
          "parcoords": [
           {
            "line": {
             "colorbar": {
              "outlinewidth": 0,
              "ticks": ""
             }
            },
            "type": "parcoords"
           }
          ],
          "pie": [
           {
            "automargin": true,
            "type": "pie"
           }
          ],
          "scatter": [
           {
            "fillpattern": {
             "fillmode": "overlay",
             "size": 10,
             "solidity": 0.2
            },
            "type": "scatter"
           }
          ],
          "scatter3d": [
           {
            "line": {
             "colorbar": {
              "outlinewidth": 0,
              "ticks": ""
             }
            },
            "marker": {
             "colorbar": {
              "outlinewidth": 0,
              "ticks": ""
             }
            },
            "type": "scatter3d"
           }
          ],
          "scattercarpet": [
           {
            "marker": {
             "colorbar": {
              "outlinewidth": 0,
              "ticks": ""
             }
            },
            "type": "scattercarpet"
           }
          ],
          "scattergeo": [
           {
            "marker": {
             "colorbar": {
              "outlinewidth": 0,
              "ticks": ""
             }
            },
            "type": "scattergeo"
           }
          ],
          "scattergl": [
           {
            "marker": {
             "colorbar": {
              "outlinewidth": 0,
              "ticks": ""
             }
            },
            "type": "scattergl"
           }
          ],
          "scattermap": [
           {
            "marker": {
             "colorbar": {
              "outlinewidth": 0,
              "ticks": ""
             }
            },
            "type": "scattermap"
           }
          ],
          "scattermapbox": [
           {
            "marker": {
             "colorbar": {
              "outlinewidth": 0,
              "ticks": ""
             }
            },
            "type": "scattermapbox"
           }
          ],
          "scatterpolar": [
           {
            "marker": {
             "colorbar": {
              "outlinewidth": 0,
              "ticks": ""
             }
            },
            "type": "scatterpolar"
           }
          ],
          "scatterpolargl": [
           {
            "marker": {
             "colorbar": {
              "outlinewidth": 0,
              "ticks": ""
             }
            },
            "type": "scatterpolargl"
           }
          ],
          "scatterternary": [
           {
            "marker": {
             "colorbar": {
              "outlinewidth": 0,
              "ticks": ""
             }
            },
            "type": "scatterternary"
           }
          ],
          "surface": [
           {
            "colorbar": {
             "outlinewidth": 0,
             "ticks": ""
            },
            "colorscale": [
             [
              0,
              "#0d0887"
             ],
             [
              0.1111111111111111,
              "#46039f"
             ],
             [
              0.2222222222222222,
              "#7201a8"
             ],
             [
              0.3333333333333333,
              "#9c179e"
             ],
             [
              0.4444444444444444,
              "#bd3786"
             ],
             [
              0.5555555555555556,
              "#d8576b"
             ],
             [
              0.6666666666666666,
              "#ed7953"
             ],
             [
              0.7777777777777778,
              "#fb9f3a"
             ],
             [
              0.8888888888888888,
              "#fdca26"
             ],
             [
              1,
              "#f0f921"
             ]
            ],
            "type": "surface"
           }
          ],
          "table": [
           {
            "cells": {
             "fill": {
              "color": "#EBF0F8"
             },
             "line": {
              "color": "white"
             }
            },
            "header": {
             "fill": {
              "color": "#C8D4E3"
             },
             "line": {
              "color": "white"
             }
            },
            "type": "table"
           }
          ]
         },
         "layout": {
          "annotationdefaults": {
           "arrowcolor": "#2a3f5f",
           "arrowhead": 0,
           "arrowwidth": 1
          },
          "autotypenumbers": "strict",
          "coloraxis": {
           "colorbar": {
            "outlinewidth": 0,
            "ticks": ""
           }
          },
          "colorscale": {
           "diverging": [
            [
             0,
             "#8e0152"
            ],
            [
             0.1,
             "#c51b7d"
            ],
            [
             0.2,
             "#de77ae"
            ],
            [
             0.3,
             "#f1b6da"
            ],
            [
             0.4,
             "#fde0ef"
            ],
            [
             0.5,
             "#f7f7f7"
            ],
            [
             0.6,
             "#e6f5d0"
            ],
            [
             0.7,
             "#b8e186"
            ],
            [
             0.8,
             "#7fbc41"
            ],
            [
             0.9,
             "#4d9221"
            ],
            [
             1,
             "#276419"
            ]
           ],
           "sequential": [
            [
             0,
             "#0d0887"
            ],
            [
             0.1111111111111111,
             "#46039f"
            ],
            [
             0.2222222222222222,
             "#7201a8"
            ],
            [
             0.3333333333333333,
             "#9c179e"
            ],
            [
             0.4444444444444444,
             "#bd3786"
            ],
            [
             0.5555555555555556,
             "#d8576b"
            ],
            [
             0.6666666666666666,
             "#ed7953"
            ],
            [
             0.7777777777777778,
             "#fb9f3a"
            ],
            [
             0.8888888888888888,
             "#fdca26"
            ],
            [
             1,
             "#f0f921"
            ]
           ],
           "sequentialminus": [
            [
             0,
             "#0d0887"
            ],
            [
             0.1111111111111111,
             "#46039f"
            ],
            [
             0.2222222222222222,
             "#7201a8"
            ],
            [
             0.3333333333333333,
             "#9c179e"
            ],
            [
             0.4444444444444444,
             "#bd3786"
            ],
            [
             0.5555555555555556,
             "#d8576b"
            ],
            [
             0.6666666666666666,
             "#ed7953"
            ],
            [
             0.7777777777777778,
             "#fb9f3a"
            ],
            [
             0.8888888888888888,
             "#fdca26"
            ],
            [
             1,
             "#f0f921"
            ]
           ]
          },
          "colorway": [
           "#636efa",
           "#EF553B",
           "#00cc96",
           "#ab63fa",
           "#FFA15A",
           "#19d3f3",
           "#FF6692",
           "#B6E880",
           "#FF97FF",
           "#FECB52"
          ],
          "font": {
           "color": "#2a3f5f"
          },
          "geo": {
           "bgcolor": "white",
           "lakecolor": "white",
           "landcolor": "#E5ECF6",
           "showlakes": true,
           "showland": true,
           "subunitcolor": "white"
          },
          "hoverlabel": {
           "align": "left"
          },
          "hovermode": "closest",
          "mapbox": {
           "style": "light"
          },
          "paper_bgcolor": "white",
          "plot_bgcolor": "#E5ECF6",
          "polar": {
           "angularaxis": {
            "gridcolor": "white",
            "linecolor": "white",
            "ticks": ""
           },
           "bgcolor": "#E5ECF6",
           "radialaxis": {
            "gridcolor": "white",
            "linecolor": "white",
            "ticks": ""
           }
          },
          "scene": {
           "xaxis": {
            "backgroundcolor": "#E5ECF6",
            "gridcolor": "white",
            "gridwidth": 2,
            "linecolor": "white",
            "showbackground": true,
            "ticks": "",
            "zerolinecolor": "white"
           },
           "yaxis": {
            "backgroundcolor": "#E5ECF6",
            "gridcolor": "white",
            "gridwidth": 2,
            "linecolor": "white",
            "showbackground": true,
            "ticks": "",
            "zerolinecolor": "white"
           },
           "zaxis": {
            "backgroundcolor": "#E5ECF6",
            "gridcolor": "white",
            "gridwidth": 2,
            "linecolor": "white",
            "showbackground": true,
            "ticks": "",
            "zerolinecolor": "white"
           }
          },
          "shapedefaults": {
           "line": {
            "color": "#2a3f5f"
           }
          },
          "ternary": {
           "aaxis": {
            "gridcolor": "white",
            "linecolor": "white",
            "ticks": ""
           },
           "baxis": {
            "gridcolor": "white",
            "linecolor": "white",
            "ticks": ""
           },
           "bgcolor": "#E5ECF6",
           "caxis": {
            "gridcolor": "white",
            "linecolor": "white",
            "ticks": ""
           }
          },
          "title": {
           "x": 0.05
          },
          "xaxis": {
           "automargin": true,
           "gridcolor": "white",
           "linecolor": "white",
           "ticks": "",
           "title": {
            "standoff": 15
           },
           "zerolinecolor": "white",
           "zerolinewidth": 2
          },
          "yaxis": {
           "automargin": true,
           "gridcolor": "white",
           "linecolor": "white",
           "ticks": "",
           "title": {
            "standoff": 15
           },
           "zerolinecolor": "white",
           "zerolinewidth": 2
          }
         }
        },
        "title": {
         "text": "Daily AQIs for station PORTA SAN FELICE"
        },
        "xaxis": {
         "anchor": "y",
         "domain": [
          0,
          1
         ],
         "title": {
          "text": "Date"
         }
        },
        "yaxis": {
         "anchor": "x",
         "domain": [
          0,
          1
         ],
         "title": {
          "text": "AQI"
         }
        }
       }
      }
     },
     "metadata": {},
     "output_type": "display_data"
    },
    {
     "data": {
      "application/vnd.plotly.v1+json": {
       "config": {
        "plotlyServerURL": "https://plot.ly"
       },
       "data": [
        {
         "hovertemplate": "agent=PM10<br>Date=%{x}<br>AQI=%{y}<extra></extra>",
         "legendgroup": "PM10",
         "marker": {
          "color": "#636efa",
          "pattern": {
           "shape": ""
          }
         },
         "name": "PM10",
         "orientation": "v",
         "showlegend": true,
         "textposition": "auto",
         "type": "bar",
         "x": [
          "2019-01-01T00:00:00.000000000",
          "2019-01-02T00:00:00.000000000",
          "2019-01-04T00:00:00.000000000",
          "2019-01-06T00:00:00.000000000",
          "2019-01-07T00:00:00.000000000",
          "2019-01-08T00:00:00.000000000",
          "2019-01-09T00:00:00.000000000",
          "2019-01-11T00:00:00.000000000",
          "2019-01-12T00:00:00.000000000",
          "2019-01-13T00:00:00.000000000",
          "2019-01-15T00:00:00.000000000",
          "2019-01-16T00:00:00.000000000",
          "2019-01-17T00:00:00.000000000",
          "2019-01-19T00:00:00.000000000",
          "2019-01-20T00:00:00.000000000",
          "2019-01-21T00:00:00.000000000",
          "2019-01-22T00:00:00.000000000",
          "2019-01-23T00:00:00.000000000",
          "2019-01-24T00:00:00.000000000",
          "2019-01-25T00:00:00.000000000",
          "2019-01-26T00:00:00.000000000",
          "2019-01-27T00:00:00.000000000",
          "2019-01-29T00:00:00.000000000",
          "2019-01-30T00:00:00.000000000",
          "2019-01-31T00:00:00.000000000",
          "2019-02-02T00:00:00.000000000",
          "2019-02-03T00:00:00.000000000",
          "2019-02-04T00:00:00.000000000",
          "2019-02-05T00:00:00.000000000",
          "2019-02-06T00:00:00.000000000",
          "2019-02-07T00:00:00.000000000",
          "2019-02-08T00:00:00.000000000",
          "2019-02-09T00:00:00.000000000",
          "2019-02-10T00:00:00.000000000",
          "2019-02-12T00:00:00.000000000",
          "2019-02-13T00:00:00.000000000",
          "2019-02-14T00:00:00.000000000",
          "2019-02-15T00:00:00.000000000",
          "2019-02-16T00:00:00.000000000",
          "2019-02-17T00:00:00.000000000",
          "2019-02-18T00:00:00.000000000",
          "2019-02-19T00:00:00.000000000",
          "2019-02-20T00:00:00.000000000",
          "2019-02-21T00:00:00.000000000",
          "2019-02-22T00:00:00.000000000",
          "2019-02-23T00:00:00.000000000",
          "2019-02-24T00:00:00.000000000",
          "2019-02-25T00:00:00.000000000",
          "2019-02-27T00:00:00.000000000",
          "2019-02-28T00:00:00.000000000",
          "2019-03-01T00:00:00.000000000",
          "2019-03-02T00:00:00.000000000",
          "2019-03-03T00:00:00.000000000",
          "2019-03-04T00:00:00.000000000",
          "2019-03-05T00:00:00.000000000",
          "2019-03-06T00:00:00.000000000",
          "2019-03-10T00:00:00.000000000",
          "2019-03-13T00:00:00.000000000",
          "2019-03-14T00:00:00.000000000",
          "2019-03-15T00:00:00.000000000",
          "2019-03-19T00:00:00.000000000",
          "2019-03-20T00:00:00.000000000",
          "2019-03-21T00:00:00.000000000",
          "2019-03-22T00:00:00.000000000",
          "2019-03-27T00:00:00.000000000",
          "2019-03-30T00:00:00.000000000",
          "2019-04-12T00:00:00.000000000",
          "2019-04-13T00:00:00.000000000",
          "2019-04-14T00:00:00.000000000",
          "2019-04-23T00:00:00.000000000",
          "2019-04-24T00:00:00.000000000",
          "2019-04-25T00:00:00.000000000",
          "2019-06-10T00:00:00.000000000",
          "2019-08-23T00:00:00.000000000",
          "2019-09-19T00:00:00.000000000",
          "2019-09-22T00:00:00.000000000",
          "2019-09-23T00:00:00.000000000",
          "2019-09-25T00:00:00.000000000",
          "2019-09-26T00:00:00.000000000",
          "2019-10-04T00:00:00.000000000",
          "2019-10-07T00:00:00.000000000",
          "2019-10-08T00:00:00.000000000",
          "2019-10-09T00:00:00.000000000",
          "2019-10-10T00:00:00.000000000",
          "2019-10-11T00:00:00.000000000",
          "2019-10-12T00:00:00.000000000",
          "2019-10-13T00:00:00.000000000",
          "2019-10-14T00:00:00.000000000",
          "2019-10-21T00:00:00.000000000",
          "2019-10-22T00:00:00.000000000",
          "2019-10-23T00:00:00.000000000",
          "2019-10-24T00:00:00.000000000",
          "2019-10-25T00:00:00.000000000",
          "2019-10-26T00:00:00.000000000",
          "2019-10-27T00:00:00.000000000",
          "2019-10-28T00:00:00.000000000",
          "2019-10-29T00:00:00.000000000",
          "2019-10-30T00:00:00.000000000",
          "2019-10-31T00:00:00.000000000",
          "2019-11-01T00:00:00.000000000",
          "2019-11-06T00:00:00.000000000",
          "2019-11-09T00:00:00.000000000",
          "2019-11-10T00:00:00.000000000",
          "2019-11-15T00:00:00.000000000",
          "2019-11-19T00:00:00.000000000",
          "2019-11-20T00:00:00.000000000",
          "2019-11-21T00:00:00.000000000",
          "2019-11-25T00:00:00.000000000",
          "2019-11-26T00:00:00.000000000",
          "2019-11-27T00:00:00.000000000",
          "2019-11-28T00:00:00.000000000",
          "2019-11-29T00:00:00.000000000",
          "2019-11-30T00:00:00.000000000",
          "2019-12-01T00:00:00.000000000",
          "2019-12-02T00:00:00.000000000",
          "2019-12-03T00:00:00.000000000",
          "2019-12-04T00:00:00.000000000",
          "2019-12-05T00:00:00.000000000",
          "2019-12-06T00:00:00.000000000",
          "2019-12-07T00:00:00.000000000",
          "2019-12-08T00:00:00.000000000",
          "2019-12-09T00:00:00.000000000",
          "2019-12-14T00:00:00.000000000",
          "2019-12-15T00:00:00.000000000",
          "2019-12-16T00:00:00.000000000",
          "2019-12-17T00:00:00.000000000",
          "2019-12-18T00:00:00.000000000",
          "2019-12-23T00:00:00.000000000",
          "2019-12-24T00:00:00.000000000",
          "2019-12-25T00:00:00.000000000",
          "2019-12-26T00:00:00.000000000",
          "2019-12-27T00:00:00.000000000",
          "2019-12-28T00:00:00.000000000",
          "2019-12-29T00:00:00.000000000",
          "2019-12-30T00:00:00.000000000"
         ],
         "xaxis": "x",
         "y": {
          "bdata": "L6G9hPYSSEDRXkJ7Ce05QExoL6G9hEJAjuM4juM4RkA22WSTTTZNQNT6lQK1/klAjuM4juM4NkChvYT2Eto6QF9CewntJUdA0V5CewntOUAvob2E9hI4QI7jOI7jOEZAmNBeQnuJSEBCewntJTRAQI7jOI7jOEZA5DiO4zgOQkDtJbSX0F40QLSX0F5Cez9AhfYS2kvoQ0C0l9BeQvtCQFDrVwrUektA5DiO4zgOQkByHMdxHMc7QEJ7Ce0lNEBAL6G9hPYSOEBMaC+hvYQyQOQ4juM4jj5Aq6qqqqqqQECO4ziO4zhGQIX2EtpL6ENAJrSX0F7CRUD3EtpLaK9GQGr9SoFav0lAq6qqqqqqQEBfQnsJ7SU3QF9CewntJUdAPvjggw8+SkBQ61cK1HpLQBLzdobEvEpA7SW0l9BeREAAAAAAAAA5QKDWrxSodU1AjuM4juM4TEDm7QyJeTtLQKG9hPYS2jpA0V5CewntOUBCewntJTRAQExoL6G9hEJAob2E9hLaOkDm7QyJeTtLQD744IMPPkpAQnsJ7SW0PEBfQnsJ7SU3QLSX0F5Cez9AjuM4juM4NkDtJbSX0F40QC+hvYT2EjhAX0J7Ce0lN0B7Ce0ltJcxQBzHcRzHcTNAL6G9hPYSOEDkOI7jOI4+QKuqqqqqqkBAE9pLaC+hPUDtJbSX0F40QIRbajbsb0BATGgvob2EMkAcx3Ecx3EzQI7jOI7jODZAvoT2EtpLNUB7Ce0ltJdBQEJ7Ce0ltDxA9xLaS2ivRkAAAAAAAAA5QBzHcRzHcTNA5DiO4ziOPkDRXkJ7Ce0pQBzHcRzHcTNAHMdxHMdxM0BMaC+hvYQyQHsJ7SW0lzFAvoT2EtpLNUAmtJfQXsJFQExoL6G9hEJAAAAAAACASUDHcRzHcZxHQD744IMPPkpAq6qqqqqqQEAT2ktoLyFBQOQ4juM4jj5A5DiO4zgOQkCrqqqqqqpAQNFeQnsJ7TlAHMdxHMdxM0DkOI7jOA5CQFVVVVVV1URATGgvob2EMkCO4ziO4zgmQC+hvYT2EihAE9pLaC+hLUB7Ce0ltJcxQL6E9hLaSzVAL6G9hPYSOECrqqqqqqowQO0ltJfQXjRAL6G9hPYSOEByHMdxHMcrQKuqqqqqqjBAchzHcRzHK0C+hPYS2ks1QOQ4juM4jj5AQnsJ7SW0PEBCewntJTRAQKuqqqqqqjBA7SW0l9BeNEBfQnsJ7SU3QHsJ7SW0l0FAewntJbSXQUBMaC+hvYRCQHIcx3EcxztAAAAAAAAASUBCewntJTRAQO0ltJfQXkRAav1KgVq/SUCg1q8UqHVNQBzHcRzHcUNAewntJbSXQUDtJbSX0F40QKuqqqqqqkBAchzHcRzHO0C0l9BeQns/QO0ltJfQXkRAHMdxHMdxQ0AT2ktoLyFBQHsJ7SW0l0FA",
          "dtype": "f8"
         },
         "yaxis": "y"
        },
        {
         "hovertemplate": "agent=NO2<br>Date=%{x}<br>AQI=%{y}<extra></extra>",
         "legendgroup": "NO2",
         "marker": {
          "color": "#EF553B",
          "pattern": {
           "shape": ""
          }
         },
         "name": "NO2",
         "orientation": "v",
         "showlegend": true,
         "textposition": "auto",
         "type": "bar",
         "x": [
          "2019-01-03T00:00:00.000000000",
          "2019-01-05T00:00:00.000000000",
          "2019-01-10T00:00:00.000000000",
          "2019-01-14T00:00:00.000000000",
          "2019-01-18T00:00:00.000000000",
          "2019-01-28T00:00:00.000000000",
          "2019-02-01T00:00:00.000000000",
          "2019-02-26T00:00:00.000000000",
          "2019-05-04T00:00:00.000000000",
          "2019-05-05T00:00:00.000000000",
          "2019-10-18T00:00:00.000000000",
          "2019-11-02T00:00:00.000000000",
          "2019-11-03T00:00:00.000000000",
          "2019-11-04T00:00:00.000000000",
          "2019-11-05T00:00:00.000000000",
          "2019-11-07T00:00:00.000000000",
          "2019-11-08T00:00:00.000000000",
          "2019-11-11T00:00:00.000000000",
          "2019-11-12T00:00:00.000000000",
          "2019-11-13T00:00:00.000000000",
          "2019-11-14T00:00:00.000000000",
          "2019-11-16T00:00:00.000000000",
          "2019-11-18T00:00:00.000000000",
          "2019-11-22T00:00:00.000000000",
          "2019-11-23T00:00:00.000000000",
          "2019-12-10T00:00:00.000000000",
          "2019-12-11T00:00:00.000000000",
          "2019-12-12T00:00:00.000000000",
          "2019-12-13T00:00:00.000000000",
          "2019-12-19T00:00:00.000000000",
          "2019-12-21T00:00:00.000000000"
         ],
         "xaxis": "x",
         "y": {
          "bdata": "VVVVVVVVNUAAAAAAAFA4QOQ4juM4jjZAZCELWchCLkAAAAAAAHAyQKuqqqqqijJAAAAAAABQNUBVVVVVVVU0QAAAAAAAAPD/AAAAAAAA8P/qTW9605spQG9605ve9CNAQxaykIUsIEBZyEIWspAkQIYsZCELWStAFrKQhSxkKECGLGQhC1krQOpNb3rTmytAZCELWchCKEBDFrKQhSwpQCxkIQtZyCxAAAAAAAAAL0BP7MRO7MQyQFRVVVVVdSxAAAAAAADALkBmZmZmZiY9QCELWchCljlAuuiiiy76OEABAAAAAHA6QKuqqqqqijdAAAAAAACgK0A=",
          "dtype": "f8"
         },
         "yaxis": "y"
        },
        {
         "hovertemplate": "agent=O3<br>Date=%{x}<br>AQI=%{y}<extra></extra>",
         "legendgroup": "O3",
         "marker": {
          "color": "#00cc96",
          "pattern": {
           "shape": ""
          }
         },
         "name": "O3",
         "orientation": "v",
         "showlegend": true,
         "textposition": "auto",
         "type": "bar",
         "x": [
          "2019-02-11T00:00:00.000000000",
          "2019-03-07T00:00:00.000000000",
          "2019-03-08T00:00:00.000000000",
          "2019-03-09T00:00:00.000000000",
          "2019-03-11T00:00:00.000000000",
          "2019-03-12T00:00:00.000000000",
          "2019-03-16T00:00:00.000000000",
          "2019-03-17T00:00:00.000000000",
          "2019-03-18T00:00:00.000000000",
          "2019-03-23T00:00:00.000000000",
          "2019-03-24T00:00:00.000000000",
          "2019-03-25T00:00:00.000000000",
          "2019-03-26T00:00:00.000000000",
          "2019-03-28T00:00:00.000000000",
          "2019-03-29T00:00:00.000000000",
          "2019-03-31T00:00:00.000000000",
          "2019-04-01T00:00:00.000000000",
          "2019-04-02T00:00:00.000000000",
          "2019-04-03T00:00:00.000000000",
          "2019-04-04T00:00:00.000000000",
          "2019-04-05T00:00:00.000000000",
          "2019-04-06T00:00:00.000000000",
          "2019-04-07T00:00:00.000000000",
          "2019-04-08T00:00:00.000000000",
          "2019-04-09T00:00:00.000000000",
          "2019-04-10T00:00:00.000000000",
          "2019-04-11T00:00:00.000000000",
          "2019-04-15T00:00:00.000000000",
          "2019-04-16T00:00:00.000000000",
          "2019-04-17T00:00:00.000000000",
          "2019-04-18T00:00:00.000000000",
          "2019-04-19T00:00:00.000000000",
          "2019-04-20T00:00:00.000000000",
          "2019-04-21T00:00:00.000000000",
          "2019-04-22T00:00:00.000000000",
          "2019-04-26T00:00:00.000000000",
          "2019-04-27T00:00:00.000000000",
          "2019-04-28T00:00:00.000000000",
          "2019-04-29T00:00:00.000000000",
          "2019-04-30T00:00:00.000000000",
          "2019-05-01T00:00:00.000000000",
          "2019-05-02T00:00:00.000000000",
          "2019-05-03T00:00:00.000000000",
          "2019-05-06T00:00:00.000000000",
          "2019-05-07T00:00:00.000000000",
          "2019-05-08T00:00:00.000000000",
          "2019-05-09T00:00:00.000000000",
          "2019-05-10T00:00:00.000000000",
          "2019-05-11T00:00:00.000000000",
          "2019-05-12T00:00:00.000000000",
          "2019-05-13T00:00:00.000000000",
          "2019-05-14T00:00:00.000000000",
          "2019-05-15T00:00:00.000000000",
          "2019-05-16T00:00:00.000000000",
          "2019-05-17T00:00:00.000000000",
          "2019-05-18T00:00:00.000000000",
          "2019-05-19T00:00:00.000000000",
          "2019-05-20T00:00:00.000000000",
          "2019-05-21T00:00:00.000000000",
          "2019-05-22T00:00:00.000000000",
          "2019-05-23T00:00:00.000000000",
          "2019-05-24T00:00:00.000000000",
          "2019-05-25T00:00:00.000000000",
          "2019-05-26T00:00:00.000000000",
          "2019-05-27T00:00:00.000000000",
          "2019-05-28T00:00:00.000000000",
          "2019-05-29T00:00:00.000000000",
          "2019-05-30T00:00:00.000000000",
          "2019-05-31T00:00:00.000000000",
          "2019-06-01T00:00:00.000000000",
          "2019-06-02T00:00:00.000000000",
          "2019-06-03T00:00:00.000000000",
          "2019-06-04T00:00:00.000000000",
          "2019-06-05T00:00:00.000000000",
          "2019-06-06T00:00:00.000000000",
          "2019-06-07T00:00:00.000000000",
          "2019-06-08T00:00:00.000000000",
          "2019-06-09T00:00:00.000000000",
          "2019-06-11T00:00:00.000000000",
          "2019-06-12T00:00:00.000000000",
          "2019-06-13T00:00:00.000000000",
          "2019-06-14T00:00:00.000000000",
          "2019-06-15T00:00:00.000000000",
          "2019-06-16T00:00:00.000000000",
          "2019-06-17T00:00:00.000000000",
          "2019-06-18T00:00:00.000000000",
          "2019-06-19T00:00:00.000000000",
          "2019-06-20T00:00:00.000000000",
          "2019-06-21T00:00:00.000000000",
          "2019-06-22T00:00:00.000000000",
          "2019-06-23T00:00:00.000000000",
          "2019-06-24T00:00:00.000000000",
          "2019-06-25T00:00:00.000000000",
          "2019-06-26T00:00:00.000000000",
          "2019-06-27T00:00:00.000000000",
          "2019-06-28T00:00:00.000000000",
          "2019-06-29T00:00:00.000000000",
          "2019-06-30T00:00:00.000000000",
          "2019-07-01T00:00:00.000000000",
          "2019-07-02T00:00:00.000000000",
          "2019-07-03T00:00:00.000000000",
          "2019-07-04T00:00:00.000000000",
          "2019-07-05T00:00:00.000000000",
          "2019-07-06T00:00:00.000000000",
          "2019-07-07T00:00:00.000000000",
          "2019-07-08T00:00:00.000000000",
          "2019-07-09T00:00:00.000000000",
          "2019-07-10T00:00:00.000000000",
          "2019-07-11T00:00:00.000000000",
          "2019-07-12T00:00:00.000000000",
          "2019-07-13T00:00:00.000000000",
          "2019-07-14T00:00:00.000000000",
          "2019-07-15T00:00:00.000000000",
          "2019-07-16T00:00:00.000000000",
          "2019-07-17T00:00:00.000000000",
          "2019-07-18T00:00:00.000000000",
          "2019-07-19T00:00:00.000000000",
          "2019-07-20T00:00:00.000000000",
          "2019-07-21T00:00:00.000000000",
          "2019-07-22T00:00:00.000000000",
          "2019-07-23T00:00:00.000000000",
          "2019-07-24T00:00:00.000000000",
          "2019-07-25T00:00:00.000000000",
          "2019-07-26T00:00:00.000000000",
          "2019-07-27T00:00:00.000000000",
          "2019-07-28T00:00:00.000000000",
          "2019-07-29T00:00:00.000000000",
          "2019-07-30T00:00:00.000000000",
          "2019-07-31T00:00:00.000000000",
          "2019-08-01T00:00:00.000000000",
          "2019-08-02T00:00:00.000000000",
          "2019-08-03T00:00:00.000000000",
          "2019-08-04T00:00:00.000000000",
          "2019-08-05T00:00:00.000000000",
          "2019-08-06T00:00:00.000000000",
          "2019-08-07T00:00:00.000000000",
          "2019-08-08T00:00:00.000000000",
          "2019-08-09T00:00:00.000000000",
          "2019-08-10T00:00:00.000000000",
          "2019-08-11T00:00:00.000000000",
          "2019-08-12T00:00:00.000000000",
          "2019-08-13T00:00:00.000000000",
          "2019-08-14T00:00:00.000000000",
          "2019-08-15T00:00:00.000000000",
          "2019-08-16T00:00:00.000000000",
          "2019-08-17T00:00:00.000000000",
          "2019-08-18T00:00:00.000000000",
          "2019-08-19T00:00:00.000000000",
          "2019-08-20T00:00:00.000000000",
          "2019-08-21T00:00:00.000000000",
          "2019-08-22T00:00:00.000000000",
          "2019-08-24T00:00:00.000000000",
          "2019-08-25T00:00:00.000000000",
          "2019-08-26T00:00:00.000000000",
          "2019-08-27T00:00:00.000000000",
          "2019-08-28T00:00:00.000000000",
          "2019-08-29T00:00:00.000000000",
          "2019-08-30T00:00:00.000000000",
          "2019-08-31T00:00:00.000000000",
          "2019-09-01T00:00:00.000000000",
          "2019-09-02T00:00:00.000000000",
          "2019-09-03T00:00:00.000000000",
          "2019-09-04T00:00:00.000000000",
          "2019-09-05T00:00:00.000000000",
          "2019-09-06T00:00:00.000000000",
          "2019-09-07T00:00:00.000000000",
          "2019-09-08T00:00:00.000000000",
          "2019-09-09T00:00:00.000000000",
          "2019-09-10T00:00:00.000000000",
          "2019-09-11T00:00:00.000000000",
          "2019-09-12T00:00:00.000000000",
          "2019-09-13T00:00:00.000000000",
          "2019-09-14T00:00:00.000000000",
          "2019-09-15T00:00:00.000000000",
          "2019-09-16T00:00:00.000000000",
          "2019-09-17T00:00:00.000000000",
          "2019-09-18T00:00:00.000000000",
          "2019-09-20T00:00:00.000000000",
          "2019-09-21T00:00:00.000000000",
          "2019-09-24T00:00:00.000000000",
          "2019-09-27T00:00:00.000000000",
          "2019-09-28T00:00:00.000000000",
          "2019-09-29T00:00:00.000000000",
          "2019-09-30T00:00:00.000000000",
          "2019-10-01T00:00:00.000000000",
          "2019-10-02T00:00:00.000000000",
          "2019-10-03T00:00:00.000000000",
          "2019-10-05T00:00:00.000000000",
          "2019-10-06T00:00:00.000000000",
          "2019-10-15T00:00:00.000000000",
          "2019-10-16T00:00:00.000000000",
          "2019-10-17T00:00:00.000000000",
          "2019-10-19T00:00:00.000000000",
          "2019-10-20T00:00:00.000000000",
          "2019-11-17T00:00:00.000000000",
          "2019-11-24T00:00:00.000000000",
          "2019-12-20T00:00:00.000000000",
          "2019-12-22T00:00:00.000000000"
         ],
         "xaxis": "x",
         "y": {
          "bdata": "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",
          "dtype": "f8"
         },
         "yaxis": "y"
        }
       ],
       "layout": {
        "barmode": "relative",
        "height": 400,
        "legend": {
         "title": {
          "text": "agent"
         },
         "tracegroupgap": 0
        },
        "template": {
         "data": {
          "bar": [
           {
            "error_x": {
             "color": "#2a3f5f"
            },
            "error_y": {
             "color": "#2a3f5f"
            },
            "marker": {
             "line": {
              "color": "#E5ECF6",
              "width": 0.5
             },
             "pattern": {
              "fillmode": "overlay",
              "size": 10,
              "solidity": 0.2
             }
            },
            "type": "bar"
           }
          ],
          "barpolar": [
           {
            "marker": {
             "line": {
              "color": "#E5ECF6",
              "width": 0.5
             },
             "pattern": {
              "fillmode": "overlay",
              "size": 10,
              "solidity": 0.2
             }
            },
            "type": "barpolar"
           }
          ],
          "carpet": [
           {
            "aaxis": {
             "endlinecolor": "#2a3f5f",
             "gridcolor": "white",
             "linecolor": "white",
             "minorgridcolor": "white",
             "startlinecolor": "#2a3f5f"
            },
            "baxis": {
             "endlinecolor": "#2a3f5f",
             "gridcolor": "white",
             "linecolor": "white",
             "minorgridcolor": "white",
             "startlinecolor": "#2a3f5f"
            },
            "type": "carpet"
           }
          ],
          "choropleth": [
           {
            "colorbar": {
             "outlinewidth": 0,
             "ticks": ""
            },
            "type": "choropleth"
           }
          ],
          "contour": [
           {
            "colorbar": {
             "outlinewidth": 0,
             "ticks": ""
            },
            "colorscale": [
             [
              0,
              "#0d0887"
             ],
             [
              0.1111111111111111,
              "#46039f"
             ],
             [
              0.2222222222222222,
              "#7201a8"
             ],
             [
              0.3333333333333333,
              "#9c179e"
             ],
             [
              0.4444444444444444,
              "#bd3786"
             ],
             [
              0.5555555555555556,
              "#d8576b"
             ],
             [
              0.6666666666666666,
              "#ed7953"
             ],
             [
              0.7777777777777778,
              "#fb9f3a"
             ],
             [
              0.8888888888888888,
              "#fdca26"
             ],
             [
              1,
              "#f0f921"
             ]
            ],
            "type": "contour"
           }
          ],
          "contourcarpet": [
           {
            "colorbar": {
             "outlinewidth": 0,
             "ticks": ""
            },
            "type": "contourcarpet"
           }
          ],
          "heatmap": [
           {
            "colorbar": {
             "outlinewidth": 0,
             "ticks": ""
            },
            "colorscale": [
             [
              0,
              "#0d0887"
             ],
             [
              0.1111111111111111,
              "#46039f"
             ],
             [
              0.2222222222222222,
              "#7201a8"
             ],
             [
              0.3333333333333333,
              "#9c179e"
             ],
             [
              0.4444444444444444,
              "#bd3786"
             ],
             [
              0.5555555555555556,
              "#d8576b"
             ],
             [
              0.6666666666666666,
              "#ed7953"
             ],
             [
              0.7777777777777778,
              "#fb9f3a"
             ],
             [
              0.8888888888888888,
              "#fdca26"
             ],
             [
              1,
              "#f0f921"
             ]
            ],
            "type": "heatmap"
           }
          ],
          "histogram": [
           {
            "marker": {
             "pattern": {
              "fillmode": "overlay",
              "size": 10,
              "solidity": 0.2
             }
            },
            "type": "histogram"
           }
          ],
          "histogram2d": [
           {
            "colorbar": {
             "outlinewidth": 0,
             "ticks": ""
            },
            "colorscale": [
             [
              0,
              "#0d0887"
             ],
             [
              0.1111111111111111,
              "#46039f"
             ],
             [
              0.2222222222222222,
              "#7201a8"
             ],
             [
              0.3333333333333333,
              "#9c179e"
             ],
             [
              0.4444444444444444,
              "#bd3786"
             ],
             [
              0.5555555555555556,
              "#d8576b"
             ],
             [
              0.6666666666666666,
              "#ed7953"
             ],
             [
              0.7777777777777778,
              "#fb9f3a"
             ],
             [
              0.8888888888888888,
              "#fdca26"
             ],
             [
              1,
              "#f0f921"
             ]
            ],
            "type": "histogram2d"
           }
          ],
          "histogram2dcontour": [
           {
            "colorbar": {
             "outlinewidth": 0,
             "ticks": ""
            },
            "colorscale": [
             [
              0,
              "#0d0887"
             ],
             [
              0.1111111111111111,
              "#46039f"
             ],
             [
              0.2222222222222222,
              "#7201a8"
             ],
             [
              0.3333333333333333,
              "#9c179e"
             ],
             [
              0.4444444444444444,
              "#bd3786"
             ],
             [
              0.5555555555555556,
              "#d8576b"
             ],
             [
              0.6666666666666666,
              "#ed7953"
             ],
             [
              0.7777777777777778,
              "#fb9f3a"
             ],
             [
              0.8888888888888888,
              "#fdca26"
             ],
             [
              1,
              "#f0f921"
             ]
            ],
            "type": "histogram2dcontour"
           }
          ],
          "mesh3d": [
           {
            "colorbar": {
             "outlinewidth": 0,
             "ticks": ""
            },
            "type": "mesh3d"
           }
          ],
          "parcoords": [
           {
            "line": {
             "colorbar": {
              "outlinewidth": 0,
              "ticks": ""
             }
            },
            "type": "parcoords"
           }
          ],
          "pie": [
           {
            "automargin": true,
            "type": "pie"
           }
          ],
          "scatter": [
           {
            "fillpattern": {
             "fillmode": "overlay",
             "size": 10,
             "solidity": 0.2
            },
            "type": "scatter"
           }
          ],
          "scatter3d": [
           {
            "line": {
             "colorbar": {
              "outlinewidth": 0,
              "ticks": ""
             }
            },
            "marker": {
             "colorbar": {
              "outlinewidth": 0,
              "ticks": ""
             }
            },
            "type": "scatter3d"
           }
          ],
          "scattercarpet": [
           {
            "marker": {
             "colorbar": {
              "outlinewidth": 0,
              "ticks": ""
             }
            },
            "type": "scattercarpet"
           }
          ],
          "scattergeo": [
           {
            "marker": {
             "colorbar": {
              "outlinewidth": 0,
              "ticks": ""
             }
            },
            "type": "scattergeo"
           }
          ],
          "scattergl": [
           {
            "marker": {
             "colorbar": {
              "outlinewidth": 0,
              "ticks": ""
             }
            },
            "type": "scattergl"
           }
          ],
          "scattermap": [
           {
            "marker": {
             "colorbar": {
              "outlinewidth": 0,
              "ticks": ""
             }
            },
            "type": "scattermap"
           }
          ],
          "scattermapbox": [
           {
            "marker": {
             "colorbar": {
              "outlinewidth": 0,
              "ticks": ""
             }
            },
            "type": "scattermapbox"
           }
          ],
          "scatterpolar": [
           {
            "marker": {
             "colorbar": {
              "outlinewidth": 0,
              "ticks": ""
             }
            },
            "type": "scatterpolar"
           }
          ],
          "scatterpolargl": [
           {
            "marker": {
             "colorbar": {
              "outlinewidth": 0,
              "ticks": ""
             }
            },
            "type": "scatterpolargl"
           }
          ],
          "scatterternary": [
           {
            "marker": {
             "colorbar": {
              "outlinewidth": 0,
              "ticks": ""
             }
            },
            "type": "scatterternary"
           }
          ],
          "surface": [
           {
            "colorbar": {
             "outlinewidth": 0,
             "ticks": ""
            },
            "colorscale": [
             [
              0,
              "#0d0887"
             ],
             [
              0.1111111111111111,
              "#46039f"
             ],
             [
              0.2222222222222222,
              "#7201a8"
             ],
             [
              0.3333333333333333,
              "#9c179e"
             ],
             [
              0.4444444444444444,
              "#bd3786"
             ],
             [
              0.5555555555555556,
              "#d8576b"
             ],
             [
              0.6666666666666666,
              "#ed7953"
             ],
             [
              0.7777777777777778,
              "#fb9f3a"
             ],
             [
              0.8888888888888888,
              "#fdca26"
             ],
             [
              1,
              "#f0f921"
             ]
            ],
            "type": "surface"
           }
          ],
          "table": [
           {
            "cells": {
             "fill": {
              "color": "#EBF0F8"
             },
             "line": {
              "color": "white"
             }
            },
            "header": {
             "fill": {
              "color": "#C8D4E3"
             },
             "line": {
              "color": "white"
             }
            },
            "type": "table"
           }
          ]
         },
         "layout": {
          "annotationdefaults": {
           "arrowcolor": "#2a3f5f",
           "arrowhead": 0,
           "arrowwidth": 1
          },
          "autotypenumbers": "strict",
          "coloraxis": {
           "colorbar": {
            "outlinewidth": 0,
            "ticks": ""
           }
          },
          "colorscale": {
           "diverging": [
            [
             0,
             "#8e0152"
            ],
            [
             0.1,
             "#c51b7d"
            ],
            [
             0.2,
             "#de77ae"
            ],
            [
             0.3,
             "#f1b6da"
            ],
            [
             0.4,
             "#fde0ef"
            ],
            [
             0.5,
             "#f7f7f7"
            ],
            [
             0.6,
             "#e6f5d0"
            ],
            [
             0.7,
             "#b8e186"
            ],
            [
             0.8,
             "#7fbc41"
            ],
            [
             0.9,
             "#4d9221"
            ],
            [
             1,
             "#276419"
            ]
           ],
           "sequential": [
            [
             0,
             "#0d0887"
            ],
            [
             0.1111111111111111,
             "#46039f"
            ],
            [
             0.2222222222222222,
             "#7201a8"
            ],
            [
             0.3333333333333333,
             "#9c179e"
            ],
            [
             0.4444444444444444,
             "#bd3786"
            ],
            [
             0.5555555555555556,
             "#d8576b"
            ],
            [
             0.6666666666666666,
             "#ed7953"
            ],
            [
             0.7777777777777778,
             "#fb9f3a"
            ],
            [
             0.8888888888888888,
             "#fdca26"
            ],
            [
             1,
             "#f0f921"
            ]
           ],
           "sequentialminus": [
            [
             0,
             "#0d0887"
            ],
            [
             0.1111111111111111,
             "#46039f"
            ],
            [
             0.2222222222222222,
             "#7201a8"
            ],
            [
             0.3333333333333333,
             "#9c179e"
            ],
            [
             0.4444444444444444,
             "#bd3786"
            ],
            [
             0.5555555555555556,
             "#d8576b"
            ],
            [
             0.6666666666666666,
             "#ed7953"
            ],
            [
             0.7777777777777778,
             "#fb9f3a"
            ],
            [
             0.8888888888888888,
             "#fdca26"
            ],
            [
             1,
             "#f0f921"
            ]
           ]
          },
          "colorway": [
           "#636efa",
           "#EF553B",
           "#00cc96",
           "#ab63fa",
           "#FFA15A",
           "#19d3f3",
           "#FF6692",
           "#B6E880",
           "#FF97FF",
           "#FECB52"
          ],
          "font": {
           "color": "#2a3f5f"
          },
          "geo": {
           "bgcolor": "white",
           "lakecolor": "white",
           "landcolor": "#E5ECF6",
           "showlakes": true,
           "showland": true,
           "subunitcolor": "white"
          },
          "hoverlabel": {
           "align": "left"
          },
          "hovermode": "closest",
          "mapbox": {
           "style": "light"
          },
          "paper_bgcolor": "white",
          "plot_bgcolor": "#E5ECF6",
          "polar": {
           "angularaxis": {
            "gridcolor": "white",
            "linecolor": "white",
            "ticks": ""
           },
           "bgcolor": "#E5ECF6",
           "radialaxis": {
            "gridcolor": "white",
            "linecolor": "white",
            "ticks": ""
           }
          },
          "scene": {
           "xaxis": {
            "backgroundcolor": "#E5ECF6",
            "gridcolor": "white",
            "gridwidth": 2,
            "linecolor": "white",
            "showbackground": true,
            "ticks": "",
            "zerolinecolor": "white"
           },
           "yaxis": {
            "backgroundcolor": "#E5ECF6",
            "gridcolor": "white",
            "gridwidth": 2,
            "linecolor": "white",
            "showbackground": true,
            "ticks": "",
            "zerolinecolor": "white"
           },
           "zaxis": {
            "backgroundcolor": "#E5ECF6",
            "gridcolor": "white",
            "gridwidth": 2,
            "linecolor": "white",
            "showbackground": true,
            "ticks": "",
            "zerolinecolor": "white"
           }
          },
          "shapedefaults": {
           "line": {
            "color": "#2a3f5f"
           }
          },
          "ternary": {
           "aaxis": {
            "gridcolor": "white",
            "linecolor": "white",
            "ticks": ""
           },
           "baxis": {
            "gridcolor": "white",
            "linecolor": "white",
            "ticks": ""
           },
           "bgcolor": "#E5ECF6",
           "caxis": {
            "gridcolor": "white",
            "linecolor": "white",
            "ticks": ""
           }
          },
          "title": {
           "x": 0.05
          },
          "xaxis": {
           "automargin": true,
           "gridcolor": "white",
           "linecolor": "white",
           "ticks": "",
           "title": {
            "standoff": 15
           },
           "zerolinecolor": "white",
           "zerolinewidth": 2
          },
          "yaxis": {
           "automargin": true,
           "gridcolor": "white",
           "linecolor": "white",
           "ticks": "",
           "title": {
            "standoff": 15
           },
           "zerolinecolor": "white",
           "zerolinewidth": 2
          }
         }
        },
        "title": {
         "text": "Daily AQIs for station VIA CHIARINI"
        },
        "xaxis": {
         "anchor": "y",
         "domain": [
          0,
          1
         ],
         "title": {
          "text": "Date"
         }
        },
        "yaxis": {
         "anchor": "x",
         "domain": [
          0,
          1
         ],
         "title": {
          "text": "AQI"
         }
        }
       }
      }
     },
     "metadata": {},
     "output_type": "display_data"
    }
   ],
   "source": [
    "start_date=datetime(2019,1,1)\n",
    "end_date=datetime(2019,12,31)\n",
    "filtered_AQIs_daily = {\n",
    "    s: {agent: station_AQIs_daily[s][agent][(station_AQIs_daily[s][agent].index >= start_date) & (station_AQIs_daily[s][agent].index < end_date)] for agent in station_AQIs_daily[s].keys()} for s in station_AQIs_daily\n",
    "}\n",
    "for station in filtered_AQIs_daily:\n",
    "    plot_AQI(filtered_AQIs_daily[station], period='day',title=f'Daily AQIs for station {station}', figsize=(20, 5), plotly=True)"
   ]
  },
  {
   "cell_type": "code",
   "execution_count": 13,
   "metadata": {},
   "outputs": [
    {
     "data": {
      "image/png": "[encoded data removed]",
      "text/plain": [
       "<Figure size 2000x500 with 1 Axes>"
      ]
     },
     "metadata": {},
     "output_type": "display_data"
    },
    {
     "data": {
      "image/png": "[encoded data removed]",
      "text/plain": [
       "<Figure size 2000x500 with 1 Axes>"
      ]
     },
     "metadata": {},
     "output_type": "display_data"
    },
    {
     "data": {
      "image/png": "[encoded data removed]",
      "text/plain": [
       "<Figure size 2000x500 with 1 Axes>"
      ]
     },
     "metadata": {},
     "output_type": "display_data"
    }
   ],
   "source": [
    "start_date=datetime(2019,1,1)\n",
    "end_date=datetime(2019,12,31)\n",
    "filtered_AQIs_hourly = {\n",
    "    s: {agent: station_AQIs_hourly[s][agent][(station_AQIs_hourly[s][agent].index >= start_date) & (station_AQIs_hourly[s][agent].index < end_date)] for agent in station_AQIs_hourly[s].keys()} for s in station_AQIs_hourly\n",
    "}\n",
    "for station in filtered_AQIs_hourly:\n",
    "    plot_AQI(filtered_AQIs_hourly[station], period='hour',title=f'Hourly AQIs for station {station}', figsize=(20, 5), plotly=False)"
   ]
  },
  {
   "cell_type": "code",
   "execution_count": null,
   "metadata": {},
   "outputs": [],
   "source": []
  }
 ],
 "metadata": {
  "kernelspec": {
   "display_name": "aiii-venv",
   "language": "python",
   "name": "python3"
  },
  "language_info": {
   "codemirror_mode": {
    "name": "ipython",
    "version": 3
   },
   "file_extension": ".py",
   "mimetype": "text/x-python",
   "name": "python",
   "nbconvert_exporter": "python",
   "pygments_lexer": "ipython3",
   "version": "3.12.3"
  }
 },
 "nbformat": 4,
 "nbformat_minor": 2
}
